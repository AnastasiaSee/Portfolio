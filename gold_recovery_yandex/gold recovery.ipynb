{
 "cells": [
  {
   "cell_type": "markdown",
   "metadata": {
    "toc": true
   },
   "source": [
    "<h1>Contents<span class=\"tocSkip\"></span></h1>\n",
    "<div class=\"toc\"><ul class=\"toc-item\"><li><span><a href=\"#Prepare-the-Data\" data-toc-modified-id=\"Prepare-the-Data-1\"><span class=\"toc-item-num\">1&nbsp;&nbsp;</span>Prepare the Data</a></span><ul class=\"toc-item\"><li><span><a href=\"#Loading-and-Initial-Data-Exploration\" data-toc-modified-id=\"Loading-and-Initial-Data-Exploration-1.1\"><span class=\"toc-item-num\">1.1&nbsp;&nbsp;</span>Loading and Initial Data Exploration</a></span></li><li><span><a href=\"#Enrichment-Efficiency\" data-toc-modified-id=\"Enrichment-Efficiency-1.2\"><span class=\"toc-item-num\">1.2&nbsp;&nbsp;</span>Enrichment Efficiency</a></span></li><li><span><a href=\"#Data-preprocessing---missing-columns-in-test-set\" data-toc-modified-id=\"Data-preprocessing---missing-columns-in-test-set-1.3\"><span class=\"toc-item-num\">1.3&nbsp;&nbsp;</span>Data preprocessing - missing columns in test set</a></span></li><li><span><a href=\"#Handling-missing-values\" data-toc-modified-id=\"Handling-missing-values-1.4\"><span class=\"toc-item-num\">1.4&nbsp;&nbsp;</span>Handling missing values</a></span></li></ul></li><li><span><a href=\"#Data-Analysis\" data-toc-modified-id=\"Data-Analysis-2\"><span class=\"toc-item-num\">2&nbsp;&nbsp;</span>Data Analysis</a></span><ul class=\"toc-item\"><li><span><a href=\"#Metal-Concentration-(Au,-Ag,-Pb)\" data-toc-modified-id=\"Metal-Concentration-(Au,-Ag,-Pb)-2.1\"><span class=\"toc-item-num\">2.1&nbsp;&nbsp;</span>Metal Concentration (Au, Ag, Pb)</a></span></li><li><span><a href=\"#The-size-of-the-raw-material-particles\" data-toc-modified-id=\"The-size-of-the-raw-material-particles-2.2\"><span class=\"toc-item-num\">2.2&nbsp;&nbsp;</span>The size of the raw material particles</a></span></li><li><span><a href=\"#Total-concentration-of-all-substances-at-different-stages\" data-toc-modified-id=\"Total-concentration-of-all-substances-at-different-stages-2.3\"><span class=\"toc-item-num\">2.3&nbsp;&nbsp;</span>Total concentration of all substances at different stages</a></span></li></ul></li><li><span><a href=\"#Model\" data-toc-modified-id=\"Model-3\"><span class=\"toc-item-num\">3&nbsp;&nbsp;</span>Model</a></span><ul class=\"toc-item\"><li><span><a href=\"#sMAPE\" data-toc-modified-id=\"sMAPE-3.1\"><span class=\"toc-item-num\">3.1&nbsp;&nbsp;</span>sMAPE</a></span></li><li><span><a href=\"#Verifying-the-model-on-a-test-set\" data-toc-modified-id=\"Verifying-the-model-on-a-test-set-3.2\"><span class=\"toc-item-num\">3.2&nbsp;&nbsp;</span>Verifying the model on a test set</a></span></li><li><span><a href=\"#Adequacy-of-the-model\" data-toc-modified-id=\"Adequacy-of-the-model-3.3\"><span class=\"toc-item-num\">3.3&nbsp;&nbsp;</span>Adequacy of the model</a></span></li></ul></li><li><span><a href=\"#General-conclusion\" data-toc-modified-id=\"General-conclusion-4\"><span class=\"toc-item-num\">4&nbsp;&nbsp;</span>General conclusion</a></span></li></ul></div>"
   ]
  },
  {
   "cell_type": "markdown",
   "metadata": {},
   "source": [
    "# Gold Recovery from Ore"
   ]
  },
  {
   "cell_type": "markdown",
   "metadata": {},
   "source": [
    "Prepare a machine learning model prototype for \"Цифра\" (the company). The company develops solutions for the efficient operation of industrial enterprises.\n",
    "\n",
    "The model should predict the gold recovery rate from gold-bearing ore using data with parameters related to extraction and purification.\n",
    "\n",
    "The model will help optimize production to avoid launching facilities with unprofitable characteristics.\n",
    "\n",
    "You need to:\n",
    "\n",
    "-Prepare the data.\n",
    "\n",
    "-Conduct exploratory data analysis.\n",
    "\n",
    "-Build and train the model.\n",
    "\n",
    "To complete the project, refer to the pandas, matplotlib, and scikit-learn libraries. Their documentation will be helpful."
   ]
  },
  {
   "cell_type": "markdown",
   "metadata": {},
   "source": [
    "# Project Description"
   ]
  },
  {
   "cell_type": "markdown",
   "metadata": {},
   "source": [
    "\n",
    "The data is contained in three files:\n",
    "\n",
    "gold_recovery_train_new.csv — training set;\n",
    "gold_recovery_test_new.csv — test set;\n",
    "gold_recovery_full_new.csv — original data.\n",
    "The data is indexed by the date and time the information was received (feature date). Parameters close in time are often similar. Some parameters are not available because they are measured and/or calculated significantly later. Therefore, some features may be missing in the test set but present in the training set. Additionally, the test set lacks target features. The original dataset contains both the training and test sets with all features.\n",
    "\n",
    "You have raw data at your disposal: it was simply unloaded from the storage. Before building the model, check the data for correctness using our instructions.\n",
    "\n",
    "Project Instructions\n",
    "\n",
    "1. Prepare the Data\n",
    "\n",
    "1.1. Open the files and examine them.\n",
    "\n",
    "Paths to the files:\n",
    "\n",
    "/datasets/gold_recovery_train_new.csv\n",
    "/datasets/gold_recovery_test_new.csv\n",
    "/datasets/gold_recovery_full_new.csv\n",
    "1.2. Verify that the enrichment efficiency is calculated correctly. Calculate it for the training set feature rougher.output.recovery. Find the MAE between your calculations and the feature's value. Describe your findings.\n",
    "\n",
    "1.3. Analyze the features unavailable in the test set. What are these parameters? What type do they belong to?\n",
    "\n",
    "1.4. Perform data preprocessing.\n",
    "\n",
    "2. Analyze the Data\n",
    "\n",
    "2.1. Examine how the concentration of metals (Au, Ag, Pb) changes at different stages of purification. Describe your findings.\n",
    "\n",
    "2.2. Compare the distributions of raw material particle sizes in the training and test sets. If the distributions differ significantly, the model evaluation will be incorrect.\n",
    "\n",
    "2.3. Investigate the total concentration of all substances at different stages: in the raw material, in the rough concentrate, and in the final concentrate.\n",
    "\n",
    "3. Build the Model\n",
    "3.1. Write a function to calculate the final sMAPE.\n",
    "\n",
    "3.2. Train different models and evaluate their quality using cross-validation. Choose the best model and test it on the test set. Describe your findings.\n"
   ]
  },
  {
   "cell_type": "markdown",
   "metadata": {},
   "source": [
    "## Prepare the Data"
   ]
  },
  {
   "cell_type": "markdown",
   "metadata": {},
   "source": [
    "### Loading and Initial Data Exploration"
   ]
  },
  {
   "cell_type": "code",
   "execution_count": 1,
   "metadata": {},
   "outputs": [],
   "source": [
    "import pandas as pd\n",
    "import numpy as np\n",
    "\n",
    "from sklearn.metrics import mean_absolute_error, make_scorer\n",
    "from sklearn.preprocessing import MinMaxScaler\n",
    "from sklearn.model_selection import cross_val_score, GridSearchCV\n",
    "from sklearn.linear_model import LinearRegression, Lasso, Ridge\n",
    "from sklearn.ensemble import RandomForestRegressor\n",
    "from sklearn.dummy import DummyRegressor\n",
    "from sklearn.tree import DecisionTreeRegressor\n",
    "from sklearn.model_selection import GridSearchCV\n",
    "\n",
    "# графики\n",
    "import matplotlib.pyplot as plt\n",
    "import seaborn as sns\n",
    "from plotly.offline import init_notebook_mode, iplot\n",
    "import plotly\n",
    "import plotly.graph_objs as go\n",
    "\n",
    "from IPython.display import display, HTML, Image\n",
    "from ipywidgets import GridspecLayout\n",
    "\n",
    "import warnings\n",
    "warnings.filterwarnings(\"ignore\")"
   ]
  },
  {
   "cell_type": "code",
   "execution_count": 2,
   "metadata": {},
   "outputs": [],
   "source": [
    "try:\n",
    "  train = pd.read_csv('https://code.s3.yandex.net/datasets/gold_recovery_train_new.csv')\n",
    "  test = pd.read_csv('https://code.s3.yandex.net/datasets/gold_recovery_test_new.csv')\n",
    "  full = pd.read_csv('https://code.s3.yandex.net/datasets/gold_recovery_full_new.csv')\n",
    "except:\n",
    "  train = pd.read_csv('/datasets/gold_recovery_train_new.csv')\n",
    "  test = pd.read_csv('/datasets/gold_recovery_test_new.csv')\n",
    "  full = pd.read_csv('/datasets/gold_recovery_full_new.csv')"
   ]
  },
  {
   "cell_type": "code",
   "execution_count": 3,
   "metadata": {},
   "outputs": [
    {
     "name": "stdout",
     "output_type": "stream",
     "text": [
      "<class 'pandas.core.frame.DataFrame'>\n",
      "RangeIndex: 14149 entries, 0 to 14148\n",
      "Data columns (total 87 columns):\n",
      " #   Column                                              Non-Null Count  Dtype  \n",
      "---  ------                                              --------------  -----  \n",
      " 0   date                                                14149 non-null  object \n",
      " 1   final.output.concentrate_ag                         14148 non-null  float64\n",
      " 2   final.output.concentrate_pb                         14148 non-null  float64\n",
      " 3   final.output.concentrate_sol                        13938 non-null  float64\n",
      " 4   final.output.concentrate_au                         14149 non-null  float64\n",
      " 5   final.output.recovery                               14149 non-null  float64\n",
      " 6   final.output.tail_ag                                14149 non-null  float64\n",
      " 7   final.output.tail_pb                                14049 non-null  float64\n",
      " 8   final.output.tail_sol                               14144 non-null  float64\n",
      " 9   final.output.tail_au                                14149 non-null  float64\n",
      " 10  primary_cleaner.input.sulfate                       14129 non-null  float64\n",
      " 11  primary_cleaner.input.depressant                    14117 non-null  float64\n",
      " 12  primary_cleaner.input.feed_size                     14149 non-null  float64\n",
      " 13  primary_cleaner.input.xanthate                      14049 non-null  float64\n",
      " 14  primary_cleaner.output.concentrate_ag               14149 non-null  float64\n",
      " 15  primary_cleaner.output.concentrate_pb               14063 non-null  float64\n",
      " 16  primary_cleaner.output.concentrate_sol              13863 non-null  float64\n",
      " 17  primary_cleaner.output.concentrate_au               14149 non-null  float64\n",
      " 18  primary_cleaner.output.tail_ag                      14148 non-null  float64\n",
      " 19  primary_cleaner.output.tail_pb                      14134 non-null  float64\n",
      " 20  primary_cleaner.output.tail_sol                     14103 non-null  float64\n",
      " 21  primary_cleaner.output.tail_au                      14149 non-null  float64\n",
      " 22  primary_cleaner.state.floatbank8_a_air              14145 non-null  float64\n",
      " 23  primary_cleaner.state.floatbank8_a_level            14148 non-null  float64\n",
      " 24  primary_cleaner.state.floatbank8_b_air              14145 non-null  float64\n",
      " 25  primary_cleaner.state.floatbank8_b_level            14148 non-null  float64\n",
      " 26  primary_cleaner.state.floatbank8_c_air              14147 non-null  float64\n",
      " 27  primary_cleaner.state.floatbank8_c_level            14148 non-null  float64\n",
      " 28  primary_cleaner.state.floatbank8_d_air              14146 non-null  float64\n",
      " 29  primary_cleaner.state.floatbank8_d_level            14148 non-null  float64\n",
      " 30  rougher.calculation.sulfate_to_au_concentrate       14148 non-null  float64\n",
      " 31  rougher.calculation.floatbank10_sulfate_to_au_feed  14148 non-null  float64\n",
      " 32  rougher.calculation.floatbank11_sulfate_to_au_feed  14148 non-null  float64\n",
      " 33  rougher.calculation.au_pb_ratio                     14149 non-null  float64\n",
      " 34  rougher.input.feed_ag                               14149 non-null  float64\n",
      " 35  rougher.input.feed_pb                               14049 non-null  float64\n",
      " 36  rougher.input.feed_rate                             14141 non-null  float64\n",
      " 37  rougher.input.feed_size                             14005 non-null  float64\n",
      " 38  rougher.input.feed_sol                              14071 non-null  float64\n",
      " 39  rougher.input.feed_au                               14149 non-null  float64\n",
      " 40  rougher.input.floatbank10_sulfate                   14120 non-null  float64\n",
      " 41  rougher.input.floatbank10_xanthate                  14141 non-null  float64\n",
      " 42  rougher.input.floatbank11_sulfate                   14113 non-null  float64\n",
      " 43  rougher.input.floatbank11_xanthate                  13721 non-null  float64\n",
      " 44  rougher.output.concentrate_ag                       14149 non-null  float64\n",
      " 45  rougher.output.concentrate_pb                       14149 non-null  float64\n",
      " 46  rougher.output.concentrate_sol                      14127 non-null  float64\n",
      " 47  rougher.output.concentrate_au                       14149 non-null  float64\n",
      " 48  rougher.output.recovery                             14149 non-null  float64\n",
      " 49  rougher.output.tail_ag                              14148 non-null  float64\n",
      " 50  rougher.output.tail_pb                              14149 non-null  float64\n",
      " 51  rougher.output.tail_sol                             14149 non-null  float64\n",
      " 52  rougher.output.tail_au                              14149 non-null  float64\n",
      " 53  rougher.state.floatbank10_a_air                     14148 non-null  float64\n",
      " 54  rougher.state.floatbank10_a_level                   14148 non-null  float64\n",
      " 55  rougher.state.floatbank10_b_air                     14148 non-null  float64\n",
      " 56  rougher.state.floatbank10_b_level                   14148 non-null  float64\n",
      " 57  rougher.state.floatbank10_c_air                     14148 non-null  float64\n",
      " 58  rougher.state.floatbank10_c_level                   14148 non-null  float64\n",
      " 59  rougher.state.floatbank10_d_air                     14149 non-null  float64\n",
      " 60  rougher.state.floatbank10_d_level                   14149 non-null  float64\n",
      " 61  rougher.state.floatbank10_e_air                     13713 non-null  float64\n",
      " 62  rougher.state.floatbank10_e_level                   14149 non-null  float64\n",
      " 63  rougher.state.floatbank10_f_air                     14149 non-null  float64\n",
      " 64  rougher.state.floatbank10_f_level                   14149 non-null  float64\n",
      " 65  secondary_cleaner.output.tail_ag                    14147 non-null  float64\n",
      " 66  secondary_cleaner.output.tail_pb                    14139 non-null  float64\n",
      " 67  secondary_cleaner.output.tail_sol                   12544 non-null  float64\n",
      " 68  secondary_cleaner.output.tail_au                    14149 non-null  float64\n",
      " 69  secondary_cleaner.state.floatbank2_a_air            13932 non-null  float64\n",
      " 70  secondary_cleaner.state.floatbank2_a_level          14148 non-null  float64\n",
      " 71  secondary_cleaner.state.floatbank2_b_air            14128 non-null  float64\n",
      " 72  secondary_cleaner.state.floatbank2_b_level          14148 non-null  float64\n",
      " 73  secondary_cleaner.state.floatbank3_a_air            14145 non-null  float64\n",
      " 74  secondary_cleaner.state.floatbank3_a_level          14148 non-null  float64\n",
      " 75  secondary_cleaner.state.floatbank3_b_air            14148 non-null  float64\n",
      " 76  secondary_cleaner.state.floatbank3_b_level          14148 non-null  float64\n",
      " 77  secondary_cleaner.state.floatbank4_a_air            14143 non-null  float64\n",
      " 78  secondary_cleaner.state.floatbank4_a_level          14148 non-null  float64\n",
      " 79  secondary_cleaner.state.floatbank4_b_air            14148 non-null  float64\n",
      " 80  secondary_cleaner.state.floatbank4_b_level          14148 non-null  float64\n",
      " 81  secondary_cleaner.state.floatbank5_a_air            14148 non-null  float64\n",
      " 82  secondary_cleaner.state.floatbank5_a_level          14148 non-null  float64\n",
      " 83  secondary_cleaner.state.floatbank5_b_air            14148 non-null  float64\n",
      " 84  secondary_cleaner.state.floatbank5_b_level          14148 non-null  float64\n",
      " 85  secondary_cleaner.state.floatbank6_a_air            14147 non-null  float64\n",
      " 86  secondary_cleaner.state.floatbank6_a_level          14148 non-null  float64\n",
      "dtypes: float64(86), object(1)\n",
      "memory usage: 9.4+ MB\n"
     ]
    },
    {
     "data": {
      "text/plain": [
       "None"
      ]
     },
     "metadata": {},
     "output_type": "display_data"
    },
    {
     "name": "stdout",
     "output_type": "stream",
     "text": [
      "<class 'pandas.core.frame.DataFrame'>\n",
      "RangeIndex: 5290 entries, 0 to 5289\n",
      "Data columns (total 53 columns):\n",
      " #   Column                                      Non-Null Count  Dtype  \n",
      "---  ------                                      --------------  -----  \n",
      " 0   date                                        5290 non-null   object \n",
      " 1   primary_cleaner.input.sulfate               5286 non-null   float64\n",
      " 2   primary_cleaner.input.depressant            5285 non-null   float64\n",
      " 3   primary_cleaner.input.feed_size             5290 non-null   float64\n",
      " 4   primary_cleaner.input.xanthate              5286 non-null   float64\n",
      " 5   primary_cleaner.state.floatbank8_a_air      5290 non-null   float64\n",
      " 6   primary_cleaner.state.floatbank8_a_level    5290 non-null   float64\n",
      " 7   primary_cleaner.state.floatbank8_b_air      5290 non-null   float64\n",
      " 8   primary_cleaner.state.floatbank8_b_level    5290 non-null   float64\n",
      " 9   primary_cleaner.state.floatbank8_c_air      5290 non-null   float64\n",
      " 10  primary_cleaner.state.floatbank8_c_level    5290 non-null   float64\n",
      " 11  primary_cleaner.state.floatbank8_d_air      5290 non-null   float64\n",
      " 12  primary_cleaner.state.floatbank8_d_level    5290 non-null   float64\n",
      " 13  rougher.input.feed_ag                       5290 non-null   float64\n",
      " 14  rougher.input.feed_pb                       5290 non-null   float64\n",
      " 15  rougher.input.feed_rate                     5287 non-null   float64\n",
      " 16  rougher.input.feed_size                     5289 non-null   float64\n",
      " 17  rougher.input.feed_sol                      5269 non-null   float64\n",
      " 18  rougher.input.feed_au                       5290 non-null   float64\n",
      " 19  rougher.input.floatbank10_sulfate           5285 non-null   float64\n",
      " 20  rougher.input.floatbank10_xanthate          5290 non-null   float64\n",
      " 21  rougher.input.floatbank11_sulfate           5282 non-null   float64\n",
      " 22  rougher.input.floatbank11_xanthate          5265 non-null   float64\n",
      " 23  rougher.state.floatbank10_a_air             5290 non-null   float64\n",
      " 24  rougher.state.floatbank10_a_level           5290 non-null   float64\n",
      " 25  rougher.state.floatbank10_b_air             5290 non-null   float64\n",
      " 26  rougher.state.floatbank10_b_level           5290 non-null   float64\n",
      " 27  rougher.state.floatbank10_c_air             5290 non-null   float64\n",
      " 28  rougher.state.floatbank10_c_level           5290 non-null   float64\n",
      " 29  rougher.state.floatbank10_d_air             5290 non-null   float64\n",
      " 30  rougher.state.floatbank10_d_level           5290 non-null   float64\n",
      " 31  rougher.state.floatbank10_e_air             5290 non-null   float64\n",
      " 32  rougher.state.floatbank10_e_level           5290 non-null   float64\n",
      " 33  rougher.state.floatbank10_f_air             5290 non-null   float64\n",
      " 34  rougher.state.floatbank10_f_level           5290 non-null   float64\n",
      " 35  secondary_cleaner.state.floatbank2_a_air    5287 non-null   float64\n",
      " 36  secondary_cleaner.state.floatbank2_a_level  5290 non-null   float64\n",
      " 37  secondary_cleaner.state.floatbank2_b_air    5288 non-null   float64\n",
      " 38  secondary_cleaner.state.floatbank2_b_level  5290 non-null   float64\n",
      " 39  secondary_cleaner.state.floatbank3_a_air    5281 non-null   float64\n",
      " 40  secondary_cleaner.state.floatbank3_a_level  5290 non-null   float64\n",
      " 41  secondary_cleaner.state.floatbank3_b_air    5290 non-null   float64\n",
      " 42  secondary_cleaner.state.floatbank3_b_level  5290 non-null   float64\n",
      " 43  secondary_cleaner.state.floatbank4_a_air    5290 non-null   float64\n",
      " 44  secondary_cleaner.state.floatbank4_a_level  5290 non-null   float64\n",
      " 45  secondary_cleaner.state.floatbank4_b_air    5290 non-null   float64\n",
      " 46  secondary_cleaner.state.floatbank4_b_level  5290 non-null   float64\n",
      " 47  secondary_cleaner.state.floatbank5_a_air    5290 non-null   float64\n",
      " 48  secondary_cleaner.state.floatbank5_a_level  5290 non-null   float64\n",
      " 49  secondary_cleaner.state.floatbank5_b_air    5290 non-null   float64\n",
      " 50  secondary_cleaner.state.floatbank5_b_level  5290 non-null   float64\n",
      " 51  secondary_cleaner.state.floatbank6_a_air    5290 non-null   float64\n",
      " 52  secondary_cleaner.state.floatbank6_a_level  5290 non-null   float64\n",
      "dtypes: float64(52), object(1)\n",
      "memory usage: 2.1+ MB\n"
     ]
    },
    {
     "data": {
      "text/plain": [
       "None"
      ]
     },
     "metadata": {},
     "output_type": "display_data"
    },
    {
     "name": "stdout",
     "output_type": "stream",
     "text": [
      "<class 'pandas.core.frame.DataFrame'>\n",
      "RangeIndex: 19439 entries, 0 to 19438\n",
      "Data columns (total 87 columns):\n",
      " #   Column                                              Non-Null Count  Dtype  \n",
      "---  ------                                              --------------  -----  \n",
      " 0   date                                                19439 non-null  object \n",
      " 1   final.output.concentrate_ag                         19438 non-null  float64\n",
      " 2   final.output.concentrate_pb                         19438 non-null  float64\n",
      " 3   final.output.concentrate_sol                        19228 non-null  float64\n",
      " 4   final.output.concentrate_au                         19439 non-null  float64\n",
      " 5   final.output.recovery                               19439 non-null  float64\n",
      " 6   final.output.tail_ag                                19438 non-null  float64\n",
      " 7   final.output.tail_pb                                19338 non-null  float64\n",
      " 8   final.output.tail_sol                               19433 non-null  float64\n",
      " 9   final.output.tail_au                                19439 non-null  float64\n",
      " 10  primary_cleaner.input.sulfate                       19415 non-null  float64\n",
      " 11  primary_cleaner.input.depressant                    19402 non-null  float64\n",
      " 12  primary_cleaner.input.feed_size                     19439 non-null  float64\n",
      " 13  primary_cleaner.input.xanthate                      19335 non-null  float64\n",
      " 14  primary_cleaner.output.concentrate_ag               19439 non-null  float64\n",
      " 15  primary_cleaner.output.concentrate_pb               19323 non-null  float64\n",
      " 16  primary_cleaner.output.concentrate_sol              19069 non-null  float64\n",
      " 17  primary_cleaner.output.concentrate_au               19439 non-null  float64\n",
      " 18  primary_cleaner.output.tail_ag                      19435 non-null  float64\n",
      " 19  primary_cleaner.output.tail_pb                      19418 non-null  float64\n",
      " 20  primary_cleaner.output.tail_sol                     19377 non-null  float64\n",
      " 21  primary_cleaner.output.tail_au                      19439 non-null  float64\n",
      " 22  primary_cleaner.state.floatbank8_a_air              19435 non-null  float64\n",
      " 23  primary_cleaner.state.floatbank8_a_level            19438 non-null  float64\n",
      " 24  primary_cleaner.state.floatbank8_b_air              19435 non-null  float64\n",
      " 25  primary_cleaner.state.floatbank8_b_level            19438 non-null  float64\n",
      " 26  primary_cleaner.state.floatbank8_c_air              19437 non-null  float64\n",
      " 27  primary_cleaner.state.floatbank8_c_level            19438 non-null  float64\n",
      " 28  primary_cleaner.state.floatbank8_d_air              19436 non-null  float64\n",
      " 29  primary_cleaner.state.floatbank8_d_level            19438 non-null  float64\n",
      " 30  rougher.calculation.sulfate_to_au_concentrate       19437 non-null  float64\n",
      " 31  rougher.calculation.floatbank10_sulfate_to_au_feed  19437 non-null  float64\n",
      " 32  rougher.calculation.floatbank11_sulfate_to_au_feed  19437 non-null  float64\n",
      " 33  rougher.calculation.au_pb_ratio                     19439 non-null  float64\n",
      " 34  rougher.input.feed_ag                               19439 non-null  float64\n",
      " 35  rougher.input.feed_pb                               19339 non-null  float64\n",
      " 36  rougher.input.feed_rate                             19428 non-null  float64\n",
      " 37  rougher.input.feed_size                             19294 non-null  float64\n",
      " 38  rougher.input.feed_sol                              19340 non-null  float64\n",
      " 39  rougher.input.feed_au                               19439 non-null  float64\n",
      " 40  rougher.input.floatbank10_sulfate                   19405 non-null  float64\n",
      " 41  rougher.input.floatbank10_xanthate                  19431 non-null  float64\n",
      " 42  rougher.input.floatbank11_sulfate                   19395 non-null  float64\n",
      " 43  rougher.input.floatbank11_xanthate                  18986 non-null  float64\n",
      " 44  rougher.output.concentrate_ag                       19439 non-null  float64\n",
      " 45  rougher.output.concentrate_pb                       19439 non-null  float64\n",
      " 46  rougher.output.concentrate_sol                      19416 non-null  float64\n",
      " 47  rougher.output.concentrate_au                       19439 non-null  float64\n",
      " 48  rougher.output.recovery                             19439 non-null  float64\n",
      " 49  rougher.output.tail_ag                              19438 non-null  float64\n",
      " 50  rougher.output.tail_pb                              19439 non-null  float64\n",
      " 51  rougher.output.tail_sol                             19439 non-null  float64\n",
      " 52  rougher.output.tail_au                              19439 non-null  float64\n",
      " 53  rougher.state.floatbank10_a_air                     19438 non-null  float64\n",
      " 54  rougher.state.floatbank10_a_level                   19438 non-null  float64\n",
      " 55  rougher.state.floatbank10_b_air                     19438 non-null  float64\n",
      " 56  rougher.state.floatbank10_b_level                   19438 non-null  float64\n",
      " 57  rougher.state.floatbank10_c_air                     19438 non-null  float64\n",
      " 58  rougher.state.floatbank10_c_level                   19438 non-null  float64\n",
      " 59  rougher.state.floatbank10_d_air                     19439 non-null  float64\n",
      " 60  rougher.state.floatbank10_d_level                   19439 non-null  float64\n",
      " 61  rougher.state.floatbank10_e_air                     19003 non-null  float64\n",
      " 62  rougher.state.floatbank10_e_level                   19439 non-null  float64\n",
      " 63  rougher.state.floatbank10_f_air                     19439 non-null  float64\n",
      " 64  rougher.state.floatbank10_f_level                   19439 non-null  float64\n",
      " 65  secondary_cleaner.output.tail_ag                    19437 non-null  float64\n",
      " 66  secondary_cleaner.output.tail_pb                    19427 non-null  float64\n",
      " 67  secondary_cleaner.output.tail_sol                   17691 non-null  float64\n",
      " 68  secondary_cleaner.output.tail_au                    19439 non-null  float64\n",
      " 69  secondary_cleaner.state.floatbank2_a_air            19219 non-null  float64\n",
      " 70  secondary_cleaner.state.floatbank2_a_level          19438 non-null  float64\n",
      " 71  secondary_cleaner.state.floatbank2_b_air            19416 non-null  float64\n",
      " 72  secondary_cleaner.state.floatbank2_b_level          19438 non-null  float64\n",
      " 73  secondary_cleaner.state.floatbank3_a_air            19426 non-null  float64\n",
      " 74  secondary_cleaner.state.floatbank3_a_level          19438 non-null  float64\n",
      " 75  secondary_cleaner.state.floatbank3_b_air            19438 non-null  float64\n",
      " 76  secondary_cleaner.state.floatbank3_b_level          19438 non-null  float64\n",
      " 77  secondary_cleaner.state.floatbank4_a_air            19433 non-null  float64\n",
      " 78  secondary_cleaner.state.floatbank4_a_level          19438 non-null  float64\n",
      " 79  secondary_cleaner.state.floatbank4_b_air            19438 non-null  float64\n",
      " 80  secondary_cleaner.state.floatbank4_b_level          19438 non-null  float64\n",
      " 81  secondary_cleaner.state.floatbank5_a_air            19438 non-null  float64\n",
      " 82  secondary_cleaner.state.floatbank5_a_level          19438 non-null  float64\n",
      " 83  secondary_cleaner.state.floatbank5_b_air            19438 non-null  float64\n",
      " 84  secondary_cleaner.state.floatbank5_b_level          19438 non-null  float64\n",
      " 85  secondary_cleaner.state.floatbank6_a_air            19437 non-null  float64\n",
      " 86  secondary_cleaner.state.floatbank6_a_level          19438 non-null  float64\n",
      "dtypes: float64(86), object(1)\n",
      "memory usage: 12.9+ MB\n"
     ]
    },
    {
     "data": {
      "text/plain": [
       "None"
      ]
     },
     "metadata": {},
     "output_type": "display_data"
    }
   ],
   "source": [
    "datasets = [train, test, full]\n",
    "for dataset in datasets:\n",
    "  display(dataset.info())"
   ]
  },
  {
   "cell_type": "markdown",
   "metadata": {},
   "source": [
    "87 columns - a very large feature set"
   ]
  },
  {
   "cell_type": "code",
   "execution_count": 4,
   "metadata": {},
   "outputs": [],
   "source": [
    "#Let's check for missing values, duplicates, and the volume of data\n",
    "\n",
    "def get_missing_values(data):\n",
    "    x = (\n",
    "        data.isna()\n",
    "        .sum()\n",
    "        .rename(\"missing_count\")\n",
    "        .to_frame()\n",
    "        .join(dataset.isna().mean().rename(\"missing_ratio\").to_frame())\n",
    "        .sort_values(by=\"missing_count\", ascending=False)\n",
    "        \n",
    "    )\n",
    "    return x"
   ]
  },
  {
   "cell_type": "code",
   "execution_count": 5,
   "metadata": {},
   "outputs": [],
   "source": [
    "train.name = \"Обучающая выборка\"\n",
    "test.name = \"Тестовая выборка\"\n",
    "full.name = \"Исходные данные\""
   ]
  },
  {
   "cell_type": "code",
   "execution_count": 6,
   "metadata": {},
   "outputs": [
    {
     "name": "stdout",
     "output_type": "stream",
     "text": [
      "=====> Обучающая выборка <======\n",
      "Объем данных: (14149, 87)\n",
      "\n",
      "Duplicates: 0\n",
      "\n",
      "Количество пропусков:\n"
     ]
    },
    {
     "data": {
      "text/html": [
       "<div>\n",
       "<style scoped>\n",
       "    .dataframe tbody tr th:only-of-type {\n",
       "        vertical-align: middle;\n",
       "    }\n",
       "\n",
       "    .dataframe tbody tr th {\n",
       "        vertical-align: top;\n",
       "    }\n",
       "\n",
       "    .dataframe thead th {\n",
       "        text-align: right;\n",
       "    }\n",
       "</style>\n",
       "<table border=\"1\" class=\"dataframe\">\n",
       "  <thead>\n",
       "    <tr style=\"text-align: right;\">\n",
       "      <th></th>\n",
       "      <th>missing_count</th>\n",
       "      <th>missing_ratio</th>\n",
       "    </tr>\n",
       "  </thead>\n",
       "  <tbody>\n",
       "    <tr>\n",
       "      <th>secondary_cleaner.output.tail_sol</th>\n",
       "      <td>1605</td>\n",
       "      <td>0.113436</td>\n",
       "    </tr>\n",
       "    <tr>\n",
       "      <th>rougher.state.floatbank10_e_air</th>\n",
       "      <td>436</td>\n",
       "      <td>0.030815</td>\n",
       "    </tr>\n",
       "    <tr>\n",
       "      <th>rougher.input.floatbank11_xanthate</th>\n",
       "      <td>428</td>\n",
       "      <td>0.030249</td>\n",
       "    </tr>\n",
       "    <tr>\n",
       "      <th>primary_cleaner.output.concentrate_sol</th>\n",
       "      <td>286</td>\n",
       "      <td>0.020213</td>\n",
       "    </tr>\n",
       "    <tr>\n",
       "      <th>secondary_cleaner.state.floatbank2_a_air</th>\n",
       "      <td>217</td>\n",
       "      <td>0.015337</td>\n",
       "    </tr>\n",
       "    <tr>\n",
       "      <th>...</th>\n",
       "      <td>...</td>\n",
       "      <td>...</td>\n",
       "    </tr>\n",
       "    <tr>\n",
       "      <th>rougher.output.concentrate_pb</th>\n",
       "      <td>0</td>\n",
       "      <td>0.000000</td>\n",
       "    </tr>\n",
       "    <tr>\n",
       "      <th>rougher.output.concentrate_au</th>\n",
       "      <td>0</td>\n",
       "      <td>0.000000</td>\n",
       "    </tr>\n",
       "    <tr>\n",
       "      <th>rougher.output.recovery</th>\n",
       "      <td>0</td>\n",
       "      <td>0.000000</td>\n",
       "    </tr>\n",
       "    <tr>\n",
       "      <th>rougher.output.tail_pb</th>\n",
       "      <td>0</td>\n",
       "      <td>0.000000</td>\n",
       "    </tr>\n",
       "    <tr>\n",
       "      <th>date</th>\n",
       "      <td>0</td>\n",
       "      <td>0.000000</td>\n",
       "    </tr>\n",
       "  </tbody>\n",
       "</table>\n",
       "<p>87 rows × 2 columns</p>\n",
       "</div>"
      ],
      "text/plain": [
       "                                          missing_count  missing_ratio\n",
       "secondary_cleaner.output.tail_sol                  1605       0.113436\n",
       "rougher.state.floatbank10_e_air                     436       0.030815\n",
       "rougher.input.floatbank11_xanthate                  428       0.030249\n",
       "primary_cleaner.output.concentrate_sol              286       0.020213\n",
       "secondary_cleaner.state.floatbank2_a_air            217       0.015337\n",
       "...                                                 ...            ...\n",
       "rougher.output.concentrate_pb                         0       0.000000\n",
       "rougher.output.concentrate_au                         0       0.000000\n",
       "rougher.output.recovery                               0       0.000000\n",
       "rougher.output.tail_pb                                0       0.000000\n",
       "date                                                  0       0.000000\n",
       "\n",
       "[87 rows x 2 columns]"
      ]
     },
     "metadata": {},
     "output_type": "display_data"
    },
    {
     "name": "stdout",
     "output_type": "stream",
     "text": [
      "\n",
      "=====> Тестовая выборка <======\n",
      "Объем данных: (5290, 53)\n",
      "\n",
      "Duplicates: 0\n",
      "\n",
      "Количество пропусков:\n"
     ]
    },
    {
     "data": {
      "text/html": [
       "<div>\n",
       "<style scoped>\n",
       "    .dataframe tbody tr th:only-of-type {\n",
       "        vertical-align: middle;\n",
       "    }\n",
       "\n",
       "    .dataframe tbody tr th {\n",
       "        vertical-align: top;\n",
       "    }\n",
       "\n",
       "    .dataframe thead th {\n",
       "        text-align: right;\n",
       "    }\n",
       "</style>\n",
       "<table border=\"1\" class=\"dataframe\">\n",
       "  <thead>\n",
       "    <tr style=\"text-align: right;\">\n",
       "      <th></th>\n",
       "      <th>missing_count</th>\n",
       "      <th>missing_ratio</th>\n",
       "    </tr>\n",
       "  </thead>\n",
       "  <tbody>\n",
       "    <tr>\n",
       "      <th>rougher.input.floatbank11_xanthate</th>\n",
       "      <td>25</td>\n",
       "      <td>0.004726</td>\n",
       "    </tr>\n",
       "    <tr>\n",
       "      <th>rougher.input.feed_sol</th>\n",
       "      <td>21</td>\n",
       "      <td>0.003970</td>\n",
       "    </tr>\n",
       "    <tr>\n",
       "      <th>secondary_cleaner.state.floatbank3_a_air</th>\n",
       "      <td>9</td>\n",
       "      <td>0.001701</td>\n",
       "    </tr>\n",
       "    <tr>\n",
       "      <th>rougher.input.floatbank11_sulfate</th>\n",
       "      <td>8</td>\n",
       "      <td>0.001512</td>\n",
       "    </tr>\n",
       "    <tr>\n",
       "      <th>primary_cleaner.input.depressant</th>\n",
       "      <td>5</td>\n",
       "      <td>0.000945</td>\n",
       "    </tr>\n",
       "    <tr>\n",
       "      <th>rougher.input.floatbank10_sulfate</th>\n",
       "      <td>5</td>\n",
       "      <td>0.000945</td>\n",
       "    </tr>\n",
       "    <tr>\n",
       "      <th>primary_cleaner.input.xanthate</th>\n",
       "      <td>4</td>\n",
       "      <td>0.000756</td>\n",
       "    </tr>\n",
       "    <tr>\n",
       "      <th>primary_cleaner.input.sulfate</th>\n",
       "      <td>4</td>\n",
       "      <td>0.000756</td>\n",
       "    </tr>\n",
       "    <tr>\n",
       "      <th>rougher.input.feed_rate</th>\n",
       "      <td>3</td>\n",
       "      <td>0.000567</td>\n",
       "    </tr>\n",
       "    <tr>\n",
       "      <th>secondary_cleaner.state.floatbank2_a_air</th>\n",
       "      <td>3</td>\n",
       "      <td>0.000567</td>\n",
       "    </tr>\n",
       "    <tr>\n",
       "      <th>secondary_cleaner.state.floatbank2_b_air</th>\n",
       "      <td>2</td>\n",
       "      <td>0.000378</td>\n",
       "    </tr>\n",
       "    <tr>\n",
       "      <th>rougher.input.feed_size</th>\n",
       "      <td>1</td>\n",
       "      <td>0.000189</td>\n",
       "    </tr>\n",
       "    <tr>\n",
       "      <th>secondary_cleaner.state.floatbank2_b_level</th>\n",
       "      <td>0</td>\n",
       "      <td>0.000000</td>\n",
       "    </tr>\n",
       "    <tr>\n",
       "      <th>rougher.state.floatbank10_f_level</th>\n",
       "      <td>0</td>\n",
       "      <td>0.000000</td>\n",
       "    </tr>\n",
       "    <tr>\n",
       "      <th>rougher.state.floatbank10_f_air</th>\n",
       "      <td>0</td>\n",
       "      <td>0.000000</td>\n",
       "    </tr>\n",
       "    <tr>\n",
       "      <th>secondary_cleaner.state.floatbank3_a_level</th>\n",
       "      <td>0</td>\n",
       "      <td>0.000000</td>\n",
       "    </tr>\n",
       "    <tr>\n",
       "      <th>secondary_cleaner.state.floatbank2_a_level</th>\n",
       "      <td>0</td>\n",
       "      <td>0.000000</td>\n",
       "    </tr>\n",
       "    <tr>\n",
       "      <th>date</th>\n",
       "      <td>0</td>\n",
       "      <td>0.000000</td>\n",
       "    </tr>\n",
       "    <tr>\n",
       "      <th>rougher.state.floatbank10_e_air</th>\n",
       "      <td>0</td>\n",
       "      <td>0.000000</td>\n",
       "    </tr>\n",
       "    <tr>\n",
       "      <th>secondary_cleaner.state.floatbank3_b_air</th>\n",
       "      <td>0</td>\n",
       "      <td>0.000000</td>\n",
       "    </tr>\n",
       "    <tr>\n",
       "      <th>secondary_cleaner.state.floatbank3_b_level</th>\n",
       "      <td>0</td>\n",
       "      <td>0.000000</td>\n",
       "    </tr>\n",
       "    <tr>\n",
       "      <th>secondary_cleaner.state.floatbank4_a_air</th>\n",
       "      <td>0</td>\n",
       "      <td>0.000000</td>\n",
       "    </tr>\n",
       "    <tr>\n",
       "      <th>secondary_cleaner.state.floatbank4_a_level</th>\n",
       "      <td>0</td>\n",
       "      <td>0.000000</td>\n",
       "    </tr>\n",
       "    <tr>\n",
       "      <th>secondary_cleaner.state.floatbank4_b_air</th>\n",
       "      <td>0</td>\n",
       "      <td>0.000000</td>\n",
       "    </tr>\n",
       "    <tr>\n",
       "      <th>secondary_cleaner.state.floatbank4_b_level</th>\n",
       "      <td>0</td>\n",
       "      <td>0.000000</td>\n",
       "    </tr>\n",
       "    <tr>\n",
       "      <th>secondary_cleaner.state.floatbank5_a_air</th>\n",
       "      <td>0</td>\n",
       "      <td>0.000000</td>\n",
       "    </tr>\n",
       "    <tr>\n",
       "      <th>secondary_cleaner.state.floatbank5_a_level</th>\n",
       "      <td>0</td>\n",
       "      <td>0.000000</td>\n",
       "    </tr>\n",
       "    <tr>\n",
       "      <th>secondary_cleaner.state.floatbank5_b_air</th>\n",
       "      <td>0</td>\n",
       "      <td>0.000000</td>\n",
       "    </tr>\n",
       "    <tr>\n",
       "      <th>secondary_cleaner.state.floatbank5_b_level</th>\n",
       "      <td>0</td>\n",
       "      <td>0.000000</td>\n",
       "    </tr>\n",
       "    <tr>\n",
       "      <th>secondary_cleaner.state.floatbank6_a_air</th>\n",
       "      <td>0</td>\n",
       "      <td>0.000000</td>\n",
       "    </tr>\n",
       "    <tr>\n",
       "      <th>rougher.state.floatbank10_e_level</th>\n",
       "      <td>0</td>\n",
       "      <td>0.000000</td>\n",
       "    </tr>\n",
       "    <tr>\n",
       "      <th>rougher.state.floatbank10_b_level</th>\n",
       "      <td>0</td>\n",
       "      <td>0.000000</td>\n",
       "    </tr>\n",
       "    <tr>\n",
       "      <th>rougher.state.floatbank10_d_level</th>\n",
       "      <td>0</td>\n",
       "      <td>0.000000</td>\n",
       "    </tr>\n",
       "    <tr>\n",
       "      <th>primary_cleaner.state.floatbank8_d_level</th>\n",
       "      <td>0</td>\n",
       "      <td>0.000000</td>\n",
       "    </tr>\n",
       "    <tr>\n",
       "      <th>primary_cleaner.input.feed_size</th>\n",
       "      <td>0</td>\n",
       "      <td>0.000000</td>\n",
       "    </tr>\n",
       "    <tr>\n",
       "      <th>primary_cleaner.state.floatbank8_a_air</th>\n",
       "      <td>0</td>\n",
       "      <td>0.000000</td>\n",
       "    </tr>\n",
       "    <tr>\n",
       "      <th>primary_cleaner.state.floatbank8_a_level</th>\n",
       "      <td>0</td>\n",
       "      <td>0.000000</td>\n",
       "    </tr>\n",
       "    <tr>\n",
       "      <th>primary_cleaner.state.floatbank8_b_air</th>\n",
       "      <td>0</td>\n",
       "      <td>0.000000</td>\n",
       "    </tr>\n",
       "    <tr>\n",
       "      <th>primary_cleaner.state.floatbank8_b_level</th>\n",
       "      <td>0</td>\n",
       "      <td>0.000000</td>\n",
       "    </tr>\n",
       "    <tr>\n",
       "      <th>primary_cleaner.state.floatbank8_c_air</th>\n",
       "      <td>0</td>\n",
       "      <td>0.000000</td>\n",
       "    </tr>\n",
       "    <tr>\n",
       "      <th>primary_cleaner.state.floatbank8_c_level</th>\n",
       "      <td>0</td>\n",
       "      <td>0.000000</td>\n",
       "    </tr>\n",
       "    <tr>\n",
       "      <th>primary_cleaner.state.floatbank8_d_air</th>\n",
       "      <td>0</td>\n",
       "      <td>0.000000</td>\n",
       "    </tr>\n",
       "    <tr>\n",
       "      <th>rougher.input.feed_ag</th>\n",
       "      <td>0</td>\n",
       "      <td>0.000000</td>\n",
       "    </tr>\n",
       "    <tr>\n",
       "      <th>rougher.state.floatbank10_d_air</th>\n",
       "      <td>0</td>\n",
       "      <td>0.000000</td>\n",
       "    </tr>\n",
       "    <tr>\n",
       "      <th>rougher.input.feed_pb</th>\n",
       "      <td>0</td>\n",
       "      <td>0.000000</td>\n",
       "    </tr>\n",
       "    <tr>\n",
       "      <th>rougher.input.feed_au</th>\n",
       "      <td>0</td>\n",
       "      <td>0.000000</td>\n",
       "    </tr>\n",
       "    <tr>\n",
       "      <th>rougher.input.floatbank10_xanthate</th>\n",
       "      <td>0</td>\n",
       "      <td>0.000000</td>\n",
       "    </tr>\n",
       "    <tr>\n",
       "      <th>rougher.state.floatbank10_a_air</th>\n",
       "      <td>0</td>\n",
       "      <td>0.000000</td>\n",
       "    </tr>\n",
       "    <tr>\n",
       "      <th>rougher.state.floatbank10_a_level</th>\n",
       "      <td>0</td>\n",
       "      <td>0.000000</td>\n",
       "    </tr>\n",
       "    <tr>\n",
       "      <th>rougher.state.floatbank10_b_air</th>\n",
       "      <td>0</td>\n",
       "      <td>0.000000</td>\n",
       "    </tr>\n",
       "    <tr>\n",
       "      <th>rougher.state.floatbank10_c_air</th>\n",
       "      <td>0</td>\n",
       "      <td>0.000000</td>\n",
       "    </tr>\n",
       "    <tr>\n",
       "      <th>rougher.state.floatbank10_c_level</th>\n",
       "      <td>0</td>\n",
       "      <td>0.000000</td>\n",
       "    </tr>\n",
       "    <tr>\n",
       "      <th>secondary_cleaner.state.floatbank6_a_level</th>\n",
       "      <td>0</td>\n",
       "      <td>0.000000</td>\n",
       "    </tr>\n",
       "  </tbody>\n",
       "</table>\n",
       "</div>"
      ],
      "text/plain": [
       "                                            missing_count  missing_ratio\n",
       "rougher.input.floatbank11_xanthate                     25       0.004726\n",
       "rougher.input.feed_sol                                 21       0.003970\n",
       "secondary_cleaner.state.floatbank3_a_air                9       0.001701\n",
       "rougher.input.floatbank11_sulfate                       8       0.001512\n",
       "primary_cleaner.input.depressant                        5       0.000945\n",
       "rougher.input.floatbank10_sulfate                       5       0.000945\n",
       "primary_cleaner.input.xanthate                          4       0.000756\n",
       "primary_cleaner.input.sulfate                           4       0.000756\n",
       "rougher.input.feed_rate                                 3       0.000567\n",
       "secondary_cleaner.state.floatbank2_a_air                3       0.000567\n",
       "secondary_cleaner.state.floatbank2_b_air                2       0.000378\n",
       "rougher.input.feed_size                                 1       0.000189\n",
       "secondary_cleaner.state.floatbank2_b_level              0       0.000000\n",
       "rougher.state.floatbank10_f_level                       0       0.000000\n",
       "rougher.state.floatbank10_f_air                         0       0.000000\n",
       "secondary_cleaner.state.floatbank3_a_level              0       0.000000\n",
       "secondary_cleaner.state.floatbank2_a_level              0       0.000000\n",
       "date                                                    0       0.000000\n",
       "rougher.state.floatbank10_e_air                         0       0.000000\n",
       "secondary_cleaner.state.floatbank3_b_air                0       0.000000\n",
       "secondary_cleaner.state.floatbank3_b_level              0       0.000000\n",
       "secondary_cleaner.state.floatbank4_a_air                0       0.000000\n",
       "secondary_cleaner.state.floatbank4_a_level              0       0.000000\n",
       "secondary_cleaner.state.floatbank4_b_air                0       0.000000\n",
       "secondary_cleaner.state.floatbank4_b_level              0       0.000000\n",
       "secondary_cleaner.state.floatbank5_a_air                0       0.000000\n",
       "secondary_cleaner.state.floatbank5_a_level              0       0.000000\n",
       "secondary_cleaner.state.floatbank5_b_air                0       0.000000\n",
       "secondary_cleaner.state.floatbank5_b_level              0       0.000000\n",
       "secondary_cleaner.state.floatbank6_a_air                0       0.000000\n",
       "rougher.state.floatbank10_e_level                       0       0.000000\n",
       "rougher.state.floatbank10_b_level                       0       0.000000\n",
       "rougher.state.floatbank10_d_level                       0       0.000000\n",
       "primary_cleaner.state.floatbank8_d_level                0       0.000000\n",
       "primary_cleaner.input.feed_size                         0       0.000000\n",
       "primary_cleaner.state.floatbank8_a_air                  0       0.000000\n",
       "primary_cleaner.state.floatbank8_a_level                0       0.000000\n",
       "primary_cleaner.state.floatbank8_b_air                  0       0.000000\n",
       "primary_cleaner.state.floatbank8_b_level                0       0.000000\n",
       "primary_cleaner.state.floatbank8_c_air                  0       0.000000\n",
       "primary_cleaner.state.floatbank8_c_level                0       0.000000\n",
       "primary_cleaner.state.floatbank8_d_air                  0       0.000000\n",
       "rougher.input.feed_ag                                   0       0.000000\n",
       "rougher.state.floatbank10_d_air                         0       0.000000\n",
       "rougher.input.feed_pb                                   0       0.000000\n",
       "rougher.input.feed_au                                   0       0.000000\n",
       "rougher.input.floatbank10_xanthate                      0       0.000000\n",
       "rougher.state.floatbank10_a_air                         0       0.000000\n",
       "rougher.state.floatbank10_a_level                       0       0.000000\n",
       "rougher.state.floatbank10_b_air                         0       0.000000\n",
       "rougher.state.floatbank10_c_air                         0       0.000000\n",
       "rougher.state.floatbank10_c_level                       0       0.000000\n",
       "secondary_cleaner.state.floatbank6_a_level              0       0.000000"
      ]
     },
     "metadata": {},
     "output_type": "display_data"
    },
    {
     "name": "stdout",
     "output_type": "stream",
     "text": [
      "\n",
      "=====> Исходные данные <======\n",
      "Объем данных: (19439, 87)\n",
      "\n",
      "Duplicates: 0\n",
      "\n",
      "Количество пропусков:\n"
     ]
    },
    {
     "data": {
      "text/html": [
       "<div>\n",
       "<style scoped>\n",
       "    .dataframe tbody tr th:only-of-type {\n",
       "        vertical-align: middle;\n",
       "    }\n",
       "\n",
       "    .dataframe tbody tr th {\n",
       "        vertical-align: top;\n",
       "    }\n",
       "\n",
       "    .dataframe thead th {\n",
       "        text-align: right;\n",
       "    }\n",
       "</style>\n",
       "<table border=\"1\" class=\"dataframe\">\n",
       "  <thead>\n",
       "    <tr style=\"text-align: right;\">\n",
       "      <th></th>\n",
       "      <th>missing_count</th>\n",
       "      <th>missing_ratio</th>\n",
       "    </tr>\n",
       "  </thead>\n",
       "  <tbody>\n",
       "    <tr>\n",
       "      <th>secondary_cleaner.output.tail_sol</th>\n",
       "      <td>1748</td>\n",
       "      <td>0.089922</td>\n",
       "    </tr>\n",
       "    <tr>\n",
       "      <th>rougher.input.floatbank11_xanthate</th>\n",
       "      <td>453</td>\n",
       "      <td>0.023304</td>\n",
       "    </tr>\n",
       "    <tr>\n",
       "      <th>rougher.state.floatbank10_e_air</th>\n",
       "      <td>436</td>\n",
       "      <td>0.022429</td>\n",
       "    </tr>\n",
       "    <tr>\n",
       "      <th>primary_cleaner.output.concentrate_sol</th>\n",
       "      <td>370</td>\n",
       "      <td>0.019034</td>\n",
       "    </tr>\n",
       "    <tr>\n",
       "      <th>secondary_cleaner.state.floatbank2_a_air</th>\n",
       "      <td>220</td>\n",
       "      <td>0.011317</td>\n",
       "    </tr>\n",
       "    <tr>\n",
       "      <th>...</th>\n",
       "      <td>...</td>\n",
       "      <td>...</td>\n",
       "    </tr>\n",
       "    <tr>\n",
       "      <th>rougher.state.floatbank10_d_level</th>\n",
       "      <td>0</td>\n",
       "      <td>0.000000</td>\n",
       "    </tr>\n",
       "    <tr>\n",
       "      <th>rougher.state.floatbank10_d_air</th>\n",
       "      <td>0</td>\n",
       "      <td>0.000000</td>\n",
       "    </tr>\n",
       "    <tr>\n",
       "      <th>rougher.output.tail_pb</th>\n",
       "      <td>0</td>\n",
       "      <td>0.000000</td>\n",
       "    </tr>\n",
       "    <tr>\n",
       "      <th>rougher.output.tail_sol</th>\n",
       "      <td>0</td>\n",
       "      <td>0.000000</td>\n",
       "    </tr>\n",
       "    <tr>\n",
       "      <th>date</th>\n",
       "      <td>0</td>\n",
       "      <td>0.000000</td>\n",
       "    </tr>\n",
       "  </tbody>\n",
       "</table>\n",
       "<p>87 rows × 2 columns</p>\n",
       "</div>"
      ],
      "text/plain": [
       "                                          missing_count  missing_ratio\n",
       "secondary_cleaner.output.tail_sol                  1748       0.089922\n",
       "rougher.input.floatbank11_xanthate                  453       0.023304\n",
       "rougher.state.floatbank10_e_air                     436       0.022429\n",
       "primary_cleaner.output.concentrate_sol              370       0.019034\n",
       "secondary_cleaner.state.floatbank2_a_air            220       0.011317\n",
       "...                                                 ...            ...\n",
       "rougher.state.floatbank10_d_level                     0       0.000000\n",
       "rougher.state.floatbank10_d_air                       0       0.000000\n",
       "rougher.output.tail_pb                                0       0.000000\n",
       "rougher.output.tail_sol                               0       0.000000\n",
       "date                                                  0       0.000000\n",
       "\n",
       "[87 rows x 2 columns]"
      ]
     },
     "metadata": {},
     "output_type": "display_data"
    },
    {
     "name": "stdout",
     "output_type": "stream",
     "text": [
      "\n"
     ]
    }
   ],
   "source": [
    "for dataset in datasets:\n",
    "    print(f\"=====> {dataset.name} <======\")\n",
    "    print(f\"Объем данных: {dataset.shape}\")\n",
    "    print()\n",
    "    print(\"Duplicates:\", dataset.duplicated().sum())\n",
    "    print()\n",
    "\n",
    "    print(\"Количество пропусков:\")\n",
    "    display(get_missing_values(dataset))\n",
    "    print()"
   ]
  },
  {
   "cell_type": "markdown",
   "metadata": {},
   "source": [
    "\n",
    "Intermediate Conclusions\n",
    "\n",
    "As we can see, the data was correctly read when opening the dataframes.\n",
    "\n",
    "There are no categorical features.\n",
    "\n",
    "The feature names are clear and correspond to the processing stages, which simplifies understanding of the process.\n",
    "\n",
    "There are missing values in most columns.\n",
    "\n",
    "The data type of the date column is object.\n",
    "\n",
    "Some features are missing in the test set - 53 features, whereas there are 87 features in the other two sets."
   ]
  },
  {
   "cell_type": "markdown",
   "metadata": {},
   "source": [
    "### Enrichment Efficiency"
   ]
  },
  {
   "cell_type": "code",
   "execution_count": 7,
   "metadata": {},
   "outputs": [],
   "source": [
    "#Let's calculate the enrichment efficiency in the training set.\n",
    "C = train['rougher.output.concentrate_au']\n",
    "F = train['rougher.input.feed_au']\n",
    "T = train['rougher.output.tail_au']"
   ]
  },
  {
   "cell_type": "code",
   "execution_count": 8,
   "metadata": {},
   "outputs": [
    {
     "data": {
      "text/plain": [
       "82.70450164550293"
      ]
     },
     "execution_count": 8,
     "metadata": {},
     "output_type": "execute_result"
    }
   ],
   "source": [
    "#let's create a new column for our calculations\n",
    "train['recovery_calc'] = ((C*(F-T))/(F*(C-T)))*100\n",
    "train['recovery_calc'].mean()"
   ]
  },
  {
   "cell_type": "code",
   "execution_count": 9,
   "metadata": {},
   "outputs": [
    {
     "data": {
      "text/plain": [
       "82.70450164550293"
      ]
     },
     "execution_count": 9,
     "metadata": {},
     "output_type": "execute_result"
    }
   ],
   "source": [
    "#let's compare with rougher.output.recovery\n",
    "train['rougher.output.recovery'].mean()"
   ]
  },
  {
   "cell_type": "markdown",
   "metadata": {},
   "source": [
    "The values are the same, so the efficiency is most likely calculated correctly"
   ]
  },
  {
   "cell_type": "code",
   "execution_count": 10,
   "metadata": {},
   "outputs": [
    {
     "name": "stdout",
     "output_type": "stream",
     "text": [
      "9.73512347450521e-15\n"
     ]
    }
   ],
   "source": [
    "print(mean_absolute_error(train['recovery_calc'], train['rougher.output.recovery']))"
   ]
  },
  {
   "cell_type": "markdown",
   "metadata": {},
   "source": [
    "The MAE value is very small, so the enrichment efficiency is most likely calculated correctly."
   ]
  },
  {
   "cell_type": "code",
   "execution_count": 11,
   "metadata": {},
   "outputs": [],
   "source": [
    "#delete our column\n",
    "train.drop('recovery_calc', axis=1, inplace=True)"
   ]
  },
  {
   "cell_type": "markdown",
   "metadata": {},
   "source": [
    "### Data preprocessing - missing columns in test set"
   ]
  },
  {
   "cell_type": "code",
   "execution_count": 12,
   "metadata": {},
   "outputs": [
    {
     "data": {
      "text/plain": [
       "{'final.output.concentrate_ag',\n",
       " 'final.output.concentrate_au',\n",
       " 'final.output.concentrate_pb',\n",
       " 'final.output.concentrate_sol',\n",
       " 'final.output.recovery',\n",
       " 'final.output.tail_ag',\n",
       " 'final.output.tail_au',\n",
       " 'final.output.tail_pb',\n",
       " 'final.output.tail_sol',\n",
       " 'primary_cleaner.output.concentrate_ag',\n",
       " 'primary_cleaner.output.concentrate_au',\n",
       " 'primary_cleaner.output.concentrate_pb',\n",
       " 'primary_cleaner.output.concentrate_sol',\n",
       " 'primary_cleaner.output.tail_ag',\n",
       " 'primary_cleaner.output.tail_au',\n",
       " 'primary_cleaner.output.tail_pb',\n",
       " 'primary_cleaner.output.tail_sol',\n",
       " 'rougher.calculation.au_pb_ratio',\n",
       " 'rougher.calculation.floatbank10_sulfate_to_au_feed',\n",
       " 'rougher.calculation.floatbank11_sulfate_to_au_feed',\n",
       " 'rougher.calculation.sulfate_to_au_concentrate',\n",
       " 'rougher.output.concentrate_ag',\n",
       " 'rougher.output.concentrate_au',\n",
       " 'rougher.output.concentrate_pb',\n",
       " 'rougher.output.concentrate_sol',\n",
       " 'rougher.output.recovery',\n",
       " 'rougher.output.tail_ag',\n",
       " 'rougher.output.tail_au',\n",
       " 'rougher.output.tail_pb',\n",
       " 'rougher.output.tail_sol',\n",
       " 'secondary_cleaner.output.tail_ag',\n",
       " 'secondary_cleaner.output.tail_au',\n",
       " 'secondary_cleaner.output.tail_pb',\n",
       " 'secondary_cleaner.output.tail_sol'}"
      ]
     },
     "execution_count": 12,
     "metadata": {},
     "output_type": "execute_result"
    }
   ],
   "source": [
    "# Missing columns in data_train\n",
    "set(train.columns)-set(test.columns) "
   ]
  },
  {
   "cell_type": "markdown",
   "metadata": {},
   "source": [
    "The test dataset lacks columns with product quantity data and calculated data - they are not available at the beginning of the technical process and become known only later.\n",
    "\n",
    "Some features are computed based on the above. Some calculations are even made based on the target variable. Values for final.output, primary_cleaner.output, rougher.calculations, rougher.output, secondary_cleaner.output are missing. It will be necessary to remove columns from the training dataset except for the target features.\n",
    "\n",
    "We are concerned about the missing values in the columns with the target feature. It won't be possible to train the model on such data.\n"
   ]
  },
  {
   "cell_type": "markdown",
   "metadata": {},
   "source": [
    "### Handling missing values"
   ]
  },
  {
   "cell_type": "markdown",
   "metadata": {},
   "source": [
    "Since the project description states that the data is indexed by the date and time of information retrieval (feature 'date') and neighboring parameters are often similar in time, we will fill the missing values with the corresponding values in the next row using the ffill method.\n",
    "\n",
    "There aren't many missing values in the features. All observations are sequential measurements, and the gaps can be filled using pandas methods: ffill/bfill/interpolate, which is quite appropriate. An article that discusses various methods of handling missing values, highlighting their pros and cons, can be found here: https://loginom.ru/blog/missing."
   ]
  },
  {
   "cell_type": "code",
   "execution_count": 13,
   "metadata": {},
   "outputs": [],
   "source": [
    "for dataset in datasets:\n",
    "  dataset.ffill(axis='rows', inplace=True)"
   ]
  },
  {
   "cell_type": "code",
   "execution_count": 14,
   "metadata": {},
   "outputs": [
    {
     "data": {
      "text/plain": [
       "date                                          0\n",
       "final.output.concentrate_ag                   0\n",
       "final.output.concentrate_pb                   0\n",
       "final.output.concentrate_sol                  0\n",
       "final.output.concentrate_au                   0\n",
       "                                             ..\n",
       "secondary_cleaner.state.floatbank5_a_level    0\n",
       "secondary_cleaner.state.floatbank5_b_air      0\n",
       "secondary_cleaner.state.floatbank5_b_level    0\n",
       "secondary_cleaner.state.floatbank6_a_air      0\n",
       "secondary_cleaner.state.floatbank6_a_level    0\n",
       "Length: 87, dtype: int64"
      ]
     },
     "metadata": {},
     "output_type": "display_data"
    },
    {
     "data": {
      "text/plain": [
       "date                                          0\n",
       "primary_cleaner.input.sulfate                 0\n",
       "primary_cleaner.input.depressant              0\n",
       "primary_cleaner.input.feed_size               0\n",
       "primary_cleaner.input.xanthate                0\n",
       "primary_cleaner.state.floatbank8_a_air        0\n",
       "primary_cleaner.state.floatbank8_a_level      0\n",
       "primary_cleaner.state.floatbank8_b_air        0\n",
       "primary_cleaner.state.floatbank8_b_level      0\n",
       "primary_cleaner.state.floatbank8_c_air        0\n",
       "primary_cleaner.state.floatbank8_c_level      0\n",
       "primary_cleaner.state.floatbank8_d_air        0\n",
       "primary_cleaner.state.floatbank8_d_level      0\n",
       "rougher.input.feed_ag                         0\n",
       "rougher.input.feed_pb                         0\n",
       "rougher.input.feed_rate                       0\n",
       "rougher.input.feed_size                       0\n",
       "rougher.input.feed_sol                        0\n",
       "rougher.input.feed_au                         0\n",
       "rougher.input.floatbank10_sulfate             0\n",
       "rougher.input.floatbank10_xanthate            0\n",
       "rougher.input.floatbank11_sulfate             0\n",
       "rougher.input.floatbank11_xanthate            0\n",
       "rougher.state.floatbank10_a_air               0\n",
       "rougher.state.floatbank10_a_level             0\n",
       "rougher.state.floatbank10_b_air               0\n",
       "rougher.state.floatbank10_b_level             0\n",
       "rougher.state.floatbank10_c_air               0\n",
       "rougher.state.floatbank10_c_level             0\n",
       "rougher.state.floatbank10_d_air               0\n",
       "rougher.state.floatbank10_d_level             0\n",
       "rougher.state.floatbank10_e_air               0\n",
       "rougher.state.floatbank10_e_level             0\n",
       "rougher.state.floatbank10_f_air               0\n",
       "rougher.state.floatbank10_f_level             0\n",
       "secondary_cleaner.state.floatbank2_a_air      0\n",
       "secondary_cleaner.state.floatbank2_a_level    0\n",
       "secondary_cleaner.state.floatbank2_b_air      0\n",
       "secondary_cleaner.state.floatbank2_b_level    0\n",
       "secondary_cleaner.state.floatbank3_a_air      0\n",
       "secondary_cleaner.state.floatbank3_a_level    0\n",
       "secondary_cleaner.state.floatbank3_b_air      0\n",
       "secondary_cleaner.state.floatbank3_b_level    0\n",
       "secondary_cleaner.state.floatbank4_a_air      0\n",
       "secondary_cleaner.state.floatbank4_a_level    0\n",
       "secondary_cleaner.state.floatbank4_b_air      0\n",
       "secondary_cleaner.state.floatbank4_b_level    0\n",
       "secondary_cleaner.state.floatbank5_a_air      0\n",
       "secondary_cleaner.state.floatbank5_a_level    0\n",
       "secondary_cleaner.state.floatbank5_b_air      0\n",
       "secondary_cleaner.state.floatbank5_b_level    0\n",
       "secondary_cleaner.state.floatbank6_a_air      0\n",
       "secondary_cleaner.state.floatbank6_a_level    0\n",
       "dtype: int64"
      ]
     },
     "metadata": {},
     "output_type": "display_data"
    },
    {
     "data": {
      "text/plain": [
       "date                                          0\n",
       "final.output.concentrate_ag                   0\n",
       "final.output.concentrate_pb                   0\n",
       "final.output.concentrate_sol                  0\n",
       "final.output.concentrate_au                   0\n",
       "                                             ..\n",
       "secondary_cleaner.state.floatbank5_a_level    0\n",
       "secondary_cleaner.state.floatbank5_b_air      0\n",
       "secondary_cleaner.state.floatbank5_b_level    0\n",
       "secondary_cleaner.state.floatbank6_a_air      0\n",
       "secondary_cleaner.state.floatbank6_a_level    0\n",
       "Length: 87, dtype: int64"
      ]
     },
     "metadata": {},
     "output_type": "display_data"
    }
   ],
   "source": [
    "#check\n",
    "for dataset in datasets:\n",
    "  display(dataset.isna().sum())"
   ]
  },
  {
   "cell_type": "markdown",
   "metadata": {},
   "source": [
    "## Data Analysis"
   ]
  },
  {
   "cell_type": "markdown",
   "metadata": {},
   "source": [
    "### Metal Concentration (Au, Ag, Pb)"
   ]
  },
  {
   "cell_type": "code",
   "execution_count": 15,
   "metadata": {},
   "outputs": [],
   "source": [
    "#Data for silver\n",
    "df_ag = full[['rougher.output.concentrate_ag', \n",
    "              'primary_cleaner.output.concentrate_ag', \n",
    "              'final.output.concentrate_ag']]\n",
    "#We will rename the columns \n",
    "df_ag = df_ag.rename(columns={'rougher.output.concentrate_ag': 'флотация', \n",
    "                              'primary_cleaner.output.concentrate_ag': 'первичная очистка', \n",
    "                              'final.output.concentrate_ag': 'финальная очистка'})"
   ]
  },
  {
   "cell_type": "code",
   "execution_count": 16,
   "metadata": {},
   "outputs": [],
   "source": [
    "#Data for lead\n",
    "df_pb = full[['rougher.output.concentrate_pb', \n",
    "              'primary_cleaner.output.concentrate_pb', \n",
    "              'final.output.concentrate_pb']]\n",
    "#We will rename the columns\n",
    "df_pb = df_pb.rename(columns={'rougher.output.concentrate_pb': 'флотация', \n",
    "                              'primary_cleaner.output.concentrate_pb': 'первичная очистка', \n",
    "                              'final.output.concentrate_pb': 'финальная очистка'})"
   ]
  },
  {
   "cell_type": "code",
   "execution_count": 17,
   "metadata": {},
   "outputs": [],
   "source": [
    "#Data for gold\n",
    "df_au = full[['rougher.output.concentrate_au', \n",
    "              'primary_cleaner.output.concentrate_au', \n",
    "              'final.output.concentrate_au']]\n",
    "#We will rename the columns \n",
    "df_au = df_au.rename(columns={'rougher.output.concentrate_au': 'флотация', \n",
    "                              'primary_cleaner.output.concentrate_au': 'первичная очистка', \n",
    "                              'final.output.concentrate_au': 'финальная очистка'})"
   ]
  },
  {
   "cell_type": "code",
   "execution_count": 18,
   "metadata": {},
   "outputs": [
    {
     "data": {
      "text/plain": [
       "Text(0, 0.5, 'Концентрация металла')"
      ]
     },
     "execution_count": 18,
     "metadata": {},
     "output_type": "execute_result"
    },
    {
     "data": {
      "image/png": "[encoded data removed]",
      "text/plain": [
       "<Figure size 1584x432 with 3 Axes>"
      ]
     },
     "metadata": {
      "needs_background": "light"
     },
     "output_type": "display_data"
    }
   ],
   "source": [
    "#Let's plot graphs for each metal.\n",
    "fig, (ax1, ax2, ax3) = plt.subplots(1, 3, linewidth=3, figsize=(22, 6))#1 ряд, 3 графика\n",
    "\n",
    "df_ag.mean().plot(ax=ax1, subplots=True, fontsize=12)\n",
    "ax1.set_title('Серебро (Ag)', fontsize=16)\n",
    "ax1.set_ylabel('Концентрация металла', fontsize=14)\n",
    "\n",
    "df_pb.mean().plot(ax=ax2, subplots=True, fontsize=12)\n",
    "ax2.set_title('Свинец (Pb)', fontsize=16)\n",
    "ax2.set_ylabel('Концентрация металла', fontsize=14)\n",
    "\n",
    "df_au.mean().plot(ax=ax3, subplots=True, fontsize=12)\n",
    "ax3.set_title('Золото (Au)', fontsize=16)\n",
    "ax3.set_ylabel('Концентрация металла', fontsize=14)"
   ]
  },
  {
   "cell_type": "code",
   "execution_count": 19,
   "metadata": {},
   "outputs": [
    {
     "data": {
      "text/plain": [
       "Text(0.5, 1.0, 'Гистограмма распределения концентрации золота')"
      ]
     },
     "execution_count": 19,
     "metadata": {},
     "output_type": "execute_result"
    },
    {
     "data": {
      "image/png": "[encoded data removed]",
      "text/plain": [
       "<Figure size 864x648 with 1 Axes>"
      ]
     },
     "metadata": {
      "needs_background": "light"
     },
     "output_type": "display_data"
    }
   ],
   "source": [
    "#Let's plot histograms.\n",
    "\n",
    "plt.figure(figsize=[12,9])\n",
    "\n",
    "plt.hist(full['rougher.input.feed_au'], bins=100, label = 'rougher.input', alpha=.5)\n",
    "plt.hist(full['final.output.concentrate_au'], bins=100, label = 'final.output', alpha=.5)\n",
    "plt.hist(full['primary_cleaner.output.concentrate_au'], bins=100, label = 'primary_cleaner.output', alpha=.5)\n",
    "plt.hist(full['rougher.output.concentrate_au'], bins=100, label = 'rougher.output', alpha=.5)\n",
    "\n",
    "plt.xlim([0, 55])\n",
    "plt.ylim([0, 2200])\n",
    "\n",
    "plt.xlabel(\"Концентрация золота на выходе этапов\")\n",
    "plt.ylabel(\"Количество результатов\")\n",
    "\n",
    "plt.legend(loc='upper left', fontsize='x-large')\n",
    "\n",
    "plt.title(\"Гистограмма распределения концентрации золота\")"
   ]
  },
  {
   "cell_type": "markdown",
   "metadata": {},
   "source": [
    "The concentration of gold increases with each stage. The purpose of flotation and purification is to increase the concentration of gold."
   ]
  },
  {
   "cell_type": "code",
   "execution_count": 20,
   "metadata": {},
   "outputs": [
    {
     "data": {
      "image/png": "[encoded data removed]",
      "text/plain": [
       "<Figure size 864x648 with 1 Axes>"
      ]
     },
     "metadata": {
      "needs_background": "light"
     },
     "output_type": "display_data"
    }
   ],
   "source": [
    "plt.figure(figsize=[12,9])\n",
    "\n",
    "plt.hist(full['rougher.input.feed_ag'], bins=100, label = 'rougher.input', alpha=.5)\n",
    "plt.hist(full['final.output.concentrate_ag'], bins=100, label = 'final.output', alpha=.5)\n",
    "plt.hist(full['primary_cleaner.output.concentrate_ag'], bins=100, label = 'primary_cleaner.output', alpha=.5)\n",
    "plt.hist(full['rougher.output.concentrate_ag'], bins=100, label = 'rougher.output', alpha=.5)\n",
    "\n",
    "plt.xlim([0, 25])\n",
    "plt.ylim([0, 1300])\n",
    "\n",
    "plt.xlabel(\"Концентрация серебра на выходе этапов\")\n",
    "plt.ylabel(\"Количество результатов\")\n",
    "\n",
    "plt.legend(loc='upper left', fontsize='x-large')\n",
    "\n",
    "plt.title(\"Гистограмма распределения концентрации серебра\")\n",
    "plt.show()"
   ]
  },
  {
   "cell_type": "markdown",
   "metadata": {},
   "source": [
    "The concentration of silver decreases with each purification step."
   ]
  },
  {
   "cell_type": "code",
   "execution_count": 21,
   "metadata": {},
   "outputs": [
    {
     "data": {
      "image/png": "[encoded data removed]",
      "text/plain": [
       "<Figure size 864x648 with 1 Axes>"
      ]
     },
     "metadata": {
      "needs_background": "light"
     },
     "output_type": "display_data"
    }
   ],
   "source": [
    "plt.figure(figsize=[12,9])\n",
    "\n",
    "plt.hist(full['rougher.input.feed_pb'], bins=100, label = 'rougher.input', alpha=.5)\n",
    "plt.hist(full['final.output.concentrate_pb'], bins=100, label = 'final.output', alpha=.5)\n",
    "plt.hist(full['primary_cleaner.output.concentrate_pb'], bins=100, label = 'primary_cleaner.output', alpha=.5)\n",
    "plt.hist(full['rougher.output.concentrate_pb'], bins=100, label = 'rougher.output', alpha=.5)\n",
    "\n",
    "plt.xlim([0, 20])\n",
    "plt.ylim([0, 1000])\n",
    "\n",
    "plt.xlabel(\"Концентрация свинца на выходе этапов\")\n",
    "plt.ylabel(\"Количество результатов\")\n",
    "\n",
    "plt.legend(loc='upper left', fontsize='x-large')\n",
    "\n",
    "plt.title(\"Гистограмма распределения концентрации свинца\")\n",
    "plt.show()"
   ]
  },
  {
   "cell_type": "markdown",
   "metadata": {},
   "source": [
    "The lead concentration increases from the rougher stage to the primary cleaner stage and then stabilizes. This is associated with the chemical processes involved in gold purification. When using nitric acid leaching, a significant amount of lead sulfate is formed in the concentrate. The overall increase in lead concentration is not only due to this process but also due to the purification of other components from the gold-bearing ore."
   ]
  },
  {
   "cell_type": "markdown",
   "metadata": {},
   "source": [
    "### The size of the raw material particles"
   ]
  },
  {
   "cell_type": "markdown",
   "metadata": {},
   "source": [
    "In order to compare distributions of samples of different sizes, it is better to use density or kde plots instead of frequency histograms (on the Y-axis the proportion relative to the dataset instead of the absolute quantity). The presence or absence of a difference will be more obvious"
   ]
  },
  {
   "cell_type": "code",
   "execution_count": 22,
   "metadata": {},
   "outputs": [
    {
     "data": {
      "image/png": "[encoded data removed]",
      "text/plain": [
       "<Figure size 864x648 with 1 Axes>"
      ]
     },
     "metadata": {
      "needs_background": "light"
     },
     "output_type": "display_data"
    }
   ],
   "source": [
    "#Let's study the dimensions of raw materials at different stages of process.\n",
    "\n",
    "plt.figure(figsize=[12,9])\n",
    "\n",
    "plt.hist(train['rougher.input.feed_size'], bins=200, label = 'Train rougher.input.feed_size', alpha=.5)\n",
    "plt.hist(test['rougher.input.feed_size'], bins=200, label = 'Test rougher.input.feed_size', alpha=.5)\n",
    "\n",
    "plt.xlim([0, 300])\n",
    "plt.ylim([0, 1500])\n",
    "\n",
    "plt.xlabel(\"Размер гранул сырья\")\n",
    "plt.ylabel(\"Количество результатов\")\n",
    "\n",
    "plt.legend(loc='upper left', fontsize='x-large')\n",
    "\n",
    "plt.title(\"Гистограмма распределения гранул сырья перед флотацией\")\n",
    "plt.show()"
   ]
  },
  {
   "cell_type": "markdown",
   "metadata": {},
   "source": [
    "The distribution of particles before flotation is similar to normal with a shift to the left in both the training set and the test sample. There are many emissions after granule size 100."
   ]
  },
  {
   "cell_type": "code",
   "execution_count": 23,
   "metadata": {},
   "outputs": [
    {
     "data": {
      "image/png": "[encoded data removed]",
      "text/plain": [
       "<Figure size 864x648 with 1 Axes>"
      ]
     },
     "metadata": {
      "needs_background": "light"
     },
     "output_type": "display_data"
    }
   ],
   "source": [
    "plt.figure(figsize=[12,9])\n",
    "\n",
    "plt.hist(train['primary_cleaner.input.feed_size'], bins=100, label = 'Train primary_cleaner.input.feed_size', alpha=.5)\n",
    "plt.hist(test['primary_cleaner.input.feed_size'], bins=100, label = 'Test primary_cleaner.input.feed_size', alpha=.5)\n",
    "\n",
    "plt.xlim([0, 16])\n",
    "plt.ylim([0, 1300])\n",
    "\n",
    "plt.xlabel(\"Размер гранул сырья\")\n",
    "plt.ylabel(\"Количество результатов\")\n",
    "\n",
    "plt.legend(loc='upper left', fontsize='x-large')\n",
    "\n",
    "plt.title(\"Гистограмма распределения гранул сырья перед первичной очисткой\")\n",
    "plt.show()"
   ]
  },
  {
   "cell_type": "markdown",
   "metadata": {},
   "source": [
    "Particle sizes before primary purification have a normal distribution."
   ]
  },
  {
   "cell_type": "code",
   "execution_count": 24,
   "metadata": {},
   "outputs": [
    {
     "data": {
      "text/plain": [
       "count    14149.000000\n",
       "mean        60.239856\n",
       "std         23.005310\n",
       "min          9.659576\n",
       "25%         48.966751\n",
       "50%         55.269784\n",
       "75%         66.007526\n",
       "max        484.967466\n",
       "Name: rougher.input.feed_size, dtype: float64"
      ]
     },
     "execution_count": 24,
     "metadata": {},
     "output_type": "execute_result"
    }
   ],
   "source": [
    "train['rougher.input.feed_size'].describe()"
   ]
  },
  {
   "cell_type": "code",
   "execution_count": 25,
   "metadata": {},
   "outputs": [
    {
     "data": {
      "text/plain": [
       "count    5290.000000\n",
       "mean       55.952754\n",
       "std        19.080334\n",
       "min         0.046369\n",
       "25%        43.906504\n",
       "50%        50.846843\n",
       "75%        62.451165\n",
       "max       392.494040\n",
       "Name: rougher.input.feed_size, dtype: float64"
      ]
     },
     "execution_count": 25,
     "metadata": {},
     "output_type": "execute_result"
    }
   ],
   "source": [
    "test['rougher.input.feed_size'].describe()"
   ]
  },
  {
   "cell_type": "code",
   "execution_count": 26,
   "metadata": {},
   "outputs": [
    {
     "data": {
      "text/plain": [
       "529.2068649509116"
      ]
     },
     "execution_count": 26,
     "metadata": {},
     "output_type": "execute_result"
    }
   ],
   "source": [
    "var_train = np.var(train['rougher.input.feed_size'])\n",
    "var_train"
   ]
  },
  {
   "cell_type": "code",
   "execution_count": 27,
   "metadata": {},
   "outputs": [
    {
     "data": {
      "text/plain": [
       "363.99032899257844"
      ]
     },
     "execution_count": 27,
     "metadata": {},
     "output_type": "execute_result"
    }
   ],
   "source": [
    "var_test = np.var(test['rougher.input.feed_size'])\n",
    "var_test"
   ]
  },
  {
   "cell_type": "markdown",
   "metadata": {},
   "source": [
    "Intermediate Conclusions\n",
    "\n",
    "The variance for the training sample is 529, for the test sample it is 364; according to the histogram, there are quite a lot of outliers in the training data. The describe method showed that the average size of raw material granules on the training set is 60 microns, and on the test set - 56."
   ]
  },
  {
   "cell_type": "markdown",
   "metadata": {},
   "source": [
    "Graphs of raw material particle density before flotation"
   ]
  },
  {
   "cell_type": "code",
   "execution_count": 28,
   "metadata": {},
   "outputs": [
    {
     "data": {
      "text/plain": [
       "<AxesSubplot:xlabel='rougher.input.feed_size', ylabel='Density'>"
      ]
     },
     "execution_count": 28,
     "metadata": {},
     "output_type": "execute_result"
    },
    {
     "data": {
      "image/png": "[encoded data removed]",
      "text/plain": [
       "<Figure size 432x288 with 1 Axes>"
      ]
     },
     "metadata": {
      "needs_background": "light"
     },
     "output_type": "display_data"
    }
   ],
   "source": [
    "sns.kdeplot(train['rougher.input.feed_size'] ) \n",
    "sns.kdeplot(test['rougher.input.feed_size'] ) "
   ]
  },
  {
   "cell_type": "markdown",
   "metadata": {},
   "source": [
    "Graphs of raw material particle density before primary purification"
   ]
  },
  {
   "cell_type": "code",
   "execution_count": 29,
   "metadata": {},
   "outputs": [
    {
     "data": {
      "text/plain": [
       "<AxesSubplot:xlabel='primary_cleaner.input.feed_size', ylabel='Density'>"
      ]
     },
     "execution_count": 29,
     "metadata": {},
     "output_type": "execute_result"
    },
    {
     "data": {
      "image/png": "[encoded data removed]",
      "text/plain": [
       "<Figure size 432x288 with 1 Axes>"
      ]
     },
     "metadata": {
      "needs_background": "light"
     },
     "output_type": "display_data"
    }
   ],
   "source": [
    "sns.kdeplot(train['primary_cleaner.input.feed_size'] ) \n",
    "sns.kdeplot(test['primary_cleaner.input.feed_size']) "
   ]
  },
  {
   "cell_type": "markdown",
   "metadata": {},
   "source": [
    "The particle size distributions of the raw materials before floration and in the final concentrate in the test and training samples are practically the same. The assessment of the models will be adequate."
   ]
  },
  {
   "cell_type": "markdown",
   "metadata": {},
   "source": [
    "### Total concentration of all substances at different stages"
   ]
  },
  {
   "cell_type": "code",
   "execution_count": 30,
   "metadata": {},
   "outputs": [],
   "source": [
    "#let's find the total concentration of metals (ag, pb, sol, au) in the raw materials\n",
    "sum_r_feed = full[['rougher.input.feed_ag', \n",
    "                   'rougher.input.feed_pb', \n",
    "                   'rougher.input.feed_sol', \n",
    "                   'rougher.input.feed_au']].sum(axis=1)\n",
    "\n"
   ]
  },
  {
   "cell_type": "code",
   "execution_count": 31,
   "metadata": {},
   "outputs": [
    {
     "data": {
      "text/plain": [
       "0    51.680034\n",
       "1    50.659114\n",
       "2    50.609929\n",
       "3    51.061546\n",
       "4    47.859163\n",
       "dtype: float64"
      ]
     },
     "execution_count": 31,
     "metadata": {},
     "output_type": "execute_result"
    }
   ],
   "source": [
    "sum_r_feed.head()"
   ]
  },
  {
   "cell_type": "code",
   "execution_count": 32,
   "metadata": {},
   "outputs": [
    {
     "data": {
      "text/plain": [
       "Text(0.5, 1.0, 'Суммарная концентрация металлов в сырье')"
      ]
     },
     "execution_count": 32,
     "metadata": {},
     "output_type": "execute_result"
    },
    {
     "data": {
      "image/png": "[encoded data removed]",
      "text/plain": [
       "<Figure size 1152x576 with 1 Axes>"
      ]
     },
     "metadata": {
      "needs_background": "light"
     },
     "output_type": "display_data"
    }
   ],
   "source": [
    "#Let's build a histogram for the total concentration of metals in raw materials\n",
    "plt.subplots(figsize = (16,8))\n",
    "sns.histplot(sum_r_feed, fill=True, bins=300, palette='coolwarm')\n",
    "plt.title('Суммарная концентрация металлов в сырье')"
   ]
  },
  {
   "cell_type": "code",
   "execution_count": 33,
   "metadata": {},
   "outputs": [],
   "source": [
    "#let's find the total concentration of metals (ag, pb, sol, au) in the rough concentrate\n",
    "sum_r_conc = full[['rougher.output.concentrate_pb', \n",
    "                   'rougher.output.concentrate_ag', \n",
    "                   'rougher.output.concentrate_sol', \n",
    "                   'rougher.output.concentrate_au']].sum(axis=1)"
   ]
  },
  {
   "cell_type": "code",
   "execution_count": 34,
   "metadata": {},
   "outputs": [
    {
     "data": {
      "text/plain": [
       "Text(0.5, 1.0, 'Суммарная концентрация металлов в черновом концентрате')"
      ]
     },
     "execution_count": 34,
     "metadata": {},
     "output_type": "execute_result"
    },
    {
     "data": {
      "image/png": "[encoded data removed]",
      "text/plain": [
       "<Figure size 1152x576 with 1 Axes>"
      ]
     },
     "metadata": {
      "needs_background": "light"
     },
     "output_type": "display_data"
    }
   ],
   "source": [
    "#Let's build a histogram for the total concentration of metals in the rough concentrate\n",
    "plt.subplots(figsize = (16,8))\n",
    "sns.histplot(sum_r_conc, fill=True, bins=300, palette='coolwarm')\n",
    "plt.title('Суммарная концентрация металлов в черновом концентрате')"
   ]
  },
  {
   "cell_type": "code",
   "execution_count": 35,
   "metadata": {},
   "outputs": [],
   "source": [
    "#let's find the total concentration of metals (ag, pb, sol, au) in the final concentrate\n",
    "sum_fin_conc = full[['final.output.concentrate_pb', \n",
    "                   'final.output.concentrate_ag', \n",
    "                   'final.output.concentrate_sol', \n",
    "                   'final.output.concentrate_au']].sum(axis=1)"
   ]
  },
  {
   "cell_type": "code",
   "execution_count": 36,
   "metadata": {},
   "outputs": [
    {
     "data": {
      "text/plain": [
       "Text(0.5, 1.0, 'Суммарная концентрация металлов в финальном концентрате')"
      ]
     },
     "execution_count": 36,
     "metadata": {},
     "output_type": "execute_result"
    },
    {
     "data": {
      "image/png": "[encoded data removed]",
      "text/plain": [
       "<Figure size 1152x576 with 1 Axes>"
      ]
     },
     "metadata": {
      "needs_background": "light"
     },
     "output_type": "display_data"
    }
   ],
   "source": [
    "#Let's build a histogram for the total concentration of metals in the final concentrate\n",
    "plt.subplots(figsize = (16,8))\n",
    "sns.histplot(sum_fin_conc, fill=True, bins=300, palette='coolwarm')\n",
    "plt.title('Суммарная концентрация металлов в финальном концентрате')"
   ]
  },
  {
   "cell_type": "markdown",
   "metadata": {},
   "source": [
    "The data exhibits numerous outliers. The distributions are skewed to the left. There are also a lot of zero values, which are necessary for modeling purposes. Anomalies are mainly present at the rougher stage of purification, especially around zero. There are almost none at the raw material stage, and there are some in the final concentrate, but not as many as in the rougher stage. These anomalies can affect the final calculated characteristics, so it's important to remove anomalies for all types of total concentrations in the training dataset. After all, anomalies can occur separately for each substance (there may not always be gold particles in the ore), but cumulatively, it's unlikely (there will be something in the ore). And if we have anomalies, there is a high probability of measurement inaccuracy."
   ]
  },
  {
   "cell_type": "code",
   "execution_count": 37,
   "metadata": {},
   "outputs": [],
   "source": [
    "def filter_outliers(full, column_name, remove_outliers=False):\n",
    "#outliers filtering function\n",
    "    full_column = full[column_name]\n",
    "    quartile_1 = full_column.describe()['25%']\n",
    "    quartile_3 = full_column.describe()['75%']\n",
    "    interquartile_range = quartile_3 - quartile_1\n",
    "    upper_whisker = quartile_1 + 1.5 * interquartile_range\n",
    "    lower_whisker = max(quartile_1 - 1.5 * interquartile_range, full_column.min())\n",
    "    outliers = full[(full_column < lower_whisker) | (full_column > upper_whisker) |\n",
    "                 (full_column.isnull())]\n",
    "    if remove_outliers:\n",
    "        full.drop(outliers.index, inplace=True)"
   ]
  },
  {
   "cell_type": "code",
   "execution_count": 38,
   "metadata": {},
   "outputs": [
    {
     "data": {
      "text/plain": [
       "0        43.294744\n",
       "1        42.231968\n",
       "2        42.333852\n",
       "3        42.980430\n",
       "4        40.011372\n",
       "           ...    \n",
       "19434    42.705637\n",
       "19435    43.430170\n",
       "19436    44.599087\n",
       "19437    44.076688\n",
       "19438    43.500610\n",
       "Length: 19439, dtype: float64"
      ]
     },
     "execution_count": 38,
     "metadata": {},
     "output_type": "execute_result"
    }
   ],
   "source": [
    "full['rougher.input.feed_sum'] = full['rougher.input.feed_ag'] + full['rougher.input.feed_pb'] \n",
    "+ full['rougher.input.feed_sol'] + full['rougher.input.feed_au']\n",
    "#total values of input raw materials"
   ]
  },
  {
   "cell_type": "code",
   "execution_count": 39,
   "metadata": {},
   "outputs": [
    {
     "data": {
      "text/plain": [
       "0        47.823105\n",
       "1        48.118038\n",
       "2        47.191207\n",
       "3        46.662088\n",
       "4        46.257124\n",
       "           ...    \n",
       "19434    48.672426\n",
       "19435    48.225407\n",
       "19436    37.897698\n",
       "19437    46.887514\n",
       "19438    46.882369\n",
       "Length: 19439, dtype: float64"
      ]
     },
     "execution_count": 39,
     "metadata": {},
     "output_type": "execute_result"
    }
   ],
   "source": [
    "full['rougher.output.concentrate_sum'] = full['rougher.output.concentrate_ag'] + full['rougher.output.concentrate_pb'] \n",
    "+ full['rougher.output.concentrate_sol'] + full['rougher.output.concentrate_au']\n",
    "#total values of concentrate after floration"
   ]
  },
  {
   "cell_type": "code",
   "execution_count": 40,
   "metadata": {},
   "outputs": [
    {
     "data": {
      "text/plain": [
       "0        47.699345\n",
       "1        47.959411\n",
       "2        48.041259\n",
       "3        47.548453\n",
       "4        47.713557\n",
       "           ...    \n",
       "19434    53.517436\n",
       "19435    53.729029\n",
       "19436    53.681704\n",
       "19437    53.207620\n",
       "19438    53.016948\n",
       "Length: 19439, dtype: float64"
      ]
     },
     "execution_count": 40,
     "metadata": {},
     "output_type": "execute_result"
    }
   ],
   "source": [
    "full['final.output.concentrate_sum'] = full['final.output.concentrate_ag'] + full['final.output.concentrate_pb']\n",
    "+ full['final.output.concentrate_sol'] + full['final.output.concentrate_au']\n",
    "#total values of the final concentrate"
   ]
  },
  {
   "cell_type": "code",
   "execution_count": 41,
   "metadata": {},
   "outputs": [],
   "source": [
    "#outliers filtering\n",
    "columns = ['rougher.input.feed_sum','rougher.output.concentrate_sum','final.output.concentrate_sum']\n",
    "for column_name in columns:\n",
    "    filter_outliers(full, column_name, remove_outliers=True)"
   ]
  },
  {
   "cell_type": "code",
   "execution_count": 42,
   "metadata": {},
   "outputs": [],
   "source": [
    "#Removing columns\n",
    "\n",
    "full = full.drop(['rougher.input.feed_sum','final.output.concentrate_sum','rougher.output.concentrate_sum'], axis=1)\n"
   ]
  },
  {
   "cell_type": "markdown",
   "metadata": {},
   "source": [
    "## Model"
   ]
  },
  {
   "cell_type": "markdown",
   "metadata": {},
   "source": [
    "Let's select the columns from the test sample on which the model will be trained. The data column is meaningless for the training model. The data from the columns of the rougher stage will be used to predict rougher.output.recovery. All columns from the test set will be used to calculate final.output.recovery."
   ]
  },
  {
   "cell_type": "code",
   "execution_count": 43,
   "metadata": {},
   "outputs": [
    {
     "data": {
      "text/html": [
       "<div>\n",
       "<style scoped>\n",
       "    .dataframe tbody tr th:only-of-type {\n",
       "        vertical-align: middle;\n",
       "    }\n",
       "\n",
       "    .dataframe tbody tr th {\n",
       "        vertical-align: top;\n",
       "    }\n",
       "\n",
       "    .dataframe thead th {\n",
       "        text-align: right;\n",
       "    }\n",
       "</style>\n",
       "<table border=\"1\" class=\"dataframe\">\n",
       "  <thead>\n",
       "    <tr style=\"text-align: right;\">\n",
       "      <th></th>\n",
       "      <th>date</th>\n",
       "      <th>rougher.output.recovery</th>\n",
       "      <th>final.output.recovery</th>\n",
       "    </tr>\n",
       "  </thead>\n",
       "  <tbody>\n",
       "    <tr>\n",
       "      <th>0</th>\n",
       "      <td>2016-01-15 00:00:00</td>\n",
       "      <td>87.107763</td>\n",
       "      <td>70.541216</td>\n",
       "    </tr>\n",
       "    <tr>\n",
       "      <th>1</th>\n",
       "      <td>2016-01-15 01:00:00</td>\n",
       "      <td>86.843261</td>\n",
       "      <td>69.266198</td>\n",
       "    </tr>\n",
       "    <tr>\n",
       "      <th>2</th>\n",
       "      <td>2016-01-15 02:00:00</td>\n",
       "      <td>86.842308</td>\n",
       "      <td>68.116445</td>\n",
       "    </tr>\n",
       "    <tr>\n",
       "      <th>3</th>\n",
       "      <td>2016-01-15 03:00:00</td>\n",
       "      <td>87.226430</td>\n",
       "      <td>68.347543</td>\n",
       "    </tr>\n",
       "    <tr>\n",
       "      <th>4</th>\n",
       "      <td>2016-01-15 04:00:00</td>\n",
       "      <td>86.688794</td>\n",
       "      <td>66.927016</td>\n",
       "    </tr>\n",
       "  </tbody>\n",
       "</table>\n",
       "</div>"
      ],
      "text/plain": [
       "                  date  rougher.output.recovery  final.output.recovery\n",
       "0  2016-01-15 00:00:00                87.107763              70.541216\n",
       "1  2016-01-15 01:00:00                86.843261              69.266198\n",
       "2  2016-01-15 02:00:00                86.842308              68.116445\n",
       "3  2016-01-15 03:00:00                87.226430              68.347543\n",
       "4  2016-01-15 04:00:00                86.688794              66.927016"
      ]
     },
     "execution_count": 43,
     "metadata": {},
     "output_type": "execute_result"
    }
   ],
   "source": [
    "#Let's create a dataset for target features missing in the test sample\n",
    "df_target = full[['date', 'rougher.output.recovery', 'final.output.recovery']]\n",
    "df_target.head()"
   ]
  },
  {
   "cell_type": "code",
   "execution_count": 44,
   "metadata": {},
   "outputs": [],
   "source": [
    "#and add these features to the test sample from the full\n",
    "test = test.merge(df_target, how = 'left', on = 'date')"
   ]
  },
  {
   "cell_type": "code",
   "execution_count": 45,
   "metadata": {},
   "outputs": [],
   "source": [
    "#Let's remove the date columnй\n",
    "test.drop(['date'], axis=1, inplace=True)"
   ]
  },
  {
   "cell_type": "code",
   "execution_count": 46,
   "metadata": {},
   "outputs": [],
   "source": [
    "#Let's remove from the training set those features that are not in the test sample\n",
    "train = train.drop(set(train.columns)-set(test.columns), axis=1)"
   ]
  },
  {
   "cell_type": "markdown",
   "metadata": {},
   "source": [
    "### sMAPE"
   ]
  },
  {
   "cell_type": "markdown",
   "metadata": {},
   "source": [
    "“symmetric mean absolute percentage deviation” this metric is similar to MAE, is expressed not in absolute values, but in relative ones. Why symmetrical? It equally takes into account the scale of both the target feature and the prediction."
   ]
  },
  {
   "cell_type": "code",
   "execution_count": 47,
   "metadata": {},
   "outputs": [],
   "source": [
    "def smape_total(target_rougher, predicted_rougher, target_final, predicted_final):\n",
    "  smape_rough = 1/len(target_rougher) * np.sum(2 * np.abs(\n",
    "      target_rougher - predicted_rougher) / (np.abs(target_rougher) + np.abs(predicted_rougher))*100)\n",
    "  smape_fin = 1/len(target_final) * np.sum(2 * np.abs(\n",
    "      target_final - predicted_final) / (np.abs(target_final) + np.abs(predicted_final))*100)\n",
    "  return (0.25*smape_rough) + (0.75*smape_fin)"
   ]
  },
  {
   "cell_type": "code",
   "execution_count": 48,
   "metadata": {},
   "outputs": [],
   "source": [
    "def smape(target, predicted):\n",
    "  return 1/len(target) * np.sum(2 * np.abs(\n",
    "       target - predicted) / (np.abs(target) + np.abs(predicted))*100)\n",
    "def smape_final(rougher, final):\n",
    "  return 0.25*rougher + 0.75*final"
   ]
  },
  {
   "cell_type": "code",
   "execution_count": 49,
   "metadata": {},
   "outputs": [],
   "source": [
    "# Let's highlight the features on the training sample for the rough concentrate (rougher)\n",
    "features_train_r = train.filter(regex='^rougher',axis=1)\n",
    "features_train_r = features_train_r.drop(['rougher.output.recovery'], axis=1)\n",
    "target_train_r = train['rougher.output.recovery']\n",
    "\n",
    "# and for the final concentrate (final)\n",
    "features_train_f = train.drop(['rougher.output.recovery', 'final.output.recovery'], axis=1)\n",
    "target_train_f = train['final.output.recovery']\n",
    "\n",
    "# Let's highlight the features on the test sample for rough concentrate (rougher)\n",
    "features_test_r = test.filter(regex='^rougher',axis=1)\n",
    "features_test_r = features_test_r.drop(['rougher.output.recovery'], axis=1)\n",
    "target_test_r = test['rougher.output.recovery']\n",
    "\n",
    "# and for the final concentrate (final)\n",
    "features_test_f = test.drop(['rougher.output.recovery', 'final.output.recovery'], axis=1)\n",
    "target_test_f = test['final.output.recovery']"
   ]
  },
  {
   "cell_type": "code",
   "execution_count": 50,
   "metadata": {},
   "outputs": [
    {
     "name": "stdout",
     "output_type": "stream",
     "text": [
      "-12.3020563059468\n",
      "-20.78213566640629\n",
      "-12.172450782945901\n",
      "                 Модель:  cross_val_score_r  cross_val_score_f\n",
      "0       LinearRegression         -12.472324         -12.245300\n",
      "1  DecisionTreeRegressor         -23.637268         -19.830425\n",
      "2  RandomForestRegressor         -13.803105         -11.628899\n",
      "\n"
     ]
    }
   ],
   "source": [
    "random_state = 12345\n",
    "cv = 5\n",
    "models = [LinearRegression(),\n",
    "           DecisionTreeRegressor(random_state=random_state),\n",
    "           RandomForestRegressor(random_state=random_state)]\n",
    "results_cross_val = []\n",
    "\n",
    "for model in models:\n",
    "    scorer = make_scorer(smape, greater_is_better=False)\n",
    "    cross_val_score_r = cross_val_score(model, features_train_r, target_train_r,\n",
    "                                       cv=cv, scoring = scorer).mean()\n",
    "    cross_val_score_f = cross_val_score(model, features_train_f, target_train_f,\n",
    "                                       cv=cv, scoring = scorer).mean()\n",
    "    results_cross_val.append({'Модель:': model.__class__.__name__,\n",
    "                             'cross_val_score_r':cross_val_score_r,\n",
    "                             'cross_val_score_f':cross_val_score_f})\n",
    "    print(smape_final(cross_val_score_r, cross_val_score_f))\n",
    "print(pd.DataFrame(results_cross_val))\n",
    "print()"
   ]
  },
  {
   "cell_type": "code",
   "execution_count": 51,
   "metadata": {},
   "outputs": [
    {
     "name": "stdout",
     "output_type": "stream",
     "text": [
      "Итоговое sMape для линейной регрессии: -12.3020563059468\n"
     ]
    }
   ],
   "source": [
    "# Let's build a model for linear regression and do cross-validation using the method cross_val_score\n",
    "model = LinearRegression()\n",
    "scorer = make_scorer(smape, greater_is_better=False)\n",
    "rougher_lin = cross_val_score(model, features_train_r, target_train_r, scoring=scorer, cv=5)\n",
    "final_lin =  cross_val_score(model, features_train_f, target_train_f, scoring=scorer, cv=5)\n",
    "print('Итоговое sMape для линейной регрессии:', smape_final(rougher_lin, final_lin).mean())"
   ]
  },
  {
   "cell_type": "code",
   "execution_count": 52,
   "metadata": {},
   "outputs": [
    {
     "name": "stdout",
     "output_type": "stream",
     "text": [
      "Глубина: 1\n",
      "Итоговое sMAPE для решающего дерева: -11.39791528432384\n",
      "\n",
      "Глубина: 3\n",
      "Итоговое sMAPE для решающего дерева: -11.130151428046137\n",
      "\n",
      "Глубина: 5\n",
      "Итоговое sMAPE для решающего дерева: -11.561626173678412\n",
      "\n",
      "Глубина: 7\n",
      "Итоговое sMAPE для решающего дерева: -16.288097380347534\n",
      "\n",
      "Глубина: 9\n",
      "Итоговое sMAPE для решающего дерева: -17.468774038814907\n",
      "\n",
      "Глубина: 11\n",
      "Итоговое sMAPE для решающего дерева: -20.992766618565106\n",
      "\n",
      "\n"
     ]
    }
   ],
   "source": [
    "for depth in range(1, 12, 2):\n",
    "    model2 = DecisionTreeRegressor(random_state=12345, max_depth = depth)\n",
    "    scorer = make_scorer(smape, greater_is_better=False)\n",
    "    rougher_tree = cross_val_score(model2, features_train_r, target_train_r, scoring=scorer, cv=5)\n",
    "    final_tree = cross_val_score(model2, features_train_f, target_train_f, scoring=scorer, cv=5)\n",
    "    print('Глубина:',depth)\n",
    "    print('Итоговое sMAPE для решающего дерева:',smape_final(rougher_tree, final_tree).mean())\n",
    "    print('')\n",
    "print()"
   ]
  },
  {
   "cell_type": "markdown",
   "metadata": {},
   "source": [
    "The best result for sMape is -11.13 at depth 3. This result is better than linear regression."
   ]
  },
  {
   "cell_type": "code",
   "execution_count": 53,
   "metadata": {},
   "outputs": [],
   "source": [
    "#for depth in range(5, 8):\n",
    "#    print('depth',depth)\n",
    "#    for num in range(22, 25):\n",
    "#        model_1 = RandomForestRegressor(random_state=12345, max_depth=depth, n_estimators = num)\n",
    "#        rougher_forest = cross_val_score(model_1, features_train_r, target_train_r, cv=5)\n",
    "#        final_forest = cross_val_score(model_1, features_train_f, target_train_f, cv=5)\n",
    "#        print('num',num)\n",
    "#        print('Итоговое sMAPE для Случайного леса:',smape_final(rougher_forest, final_forest).mean())\n",
    "#    print('')\n",
    "    \n",
    "#print()"
   ]
  },
  {
   "cell_type": "markdown",
   "metadata": {},
   "source": [
    "### Verifying the model on a test set"
   ]
  },
  {
   "cell_type": "code",
   "execution_count": 54,
   "metadata": {},
   "outputs": [
    {
     "name": "stdout",
     "output_type": "stream",
     "text": [
      "Итоговое sMAPE на тестовой выборке: 4.602868614279069\n"
     ]
    }
   ],
   "source": [
    "model_r = DecisionTreeRegressor(random_state=12345, max_depth = 3)\n",
    "model_f = DecisionTreeRegressor(random_state=12345, max_depth = 3)\n",
    "model_r.fit(features_train_r, target_train_r)\n",
    "model_f.fit(features_train_f, target_train_f)\n",
    "test_predictions_r = model_r.predict(features_test_r)\n",
    "test_predictions_f = model_f.predict(features_test_f)\n",
    "print('Итоговое sMAPE на тестовой выборке:',smape_total(\n",
    "    target_test_r, test_predictions_r, target_test_f, test_predictions_f).mean())"
   ]
  },
  {
   "cell_type": "markdown",
   "metadata": {},
   "source": [
    "### Adequacy of the model"
   ]
  },
  {
   "cell_type": "markdown",
   "metadata": {},
   "source": [
    "Let's compare the model with dummy model. In each project, when assessing the quality of the model, it makes sense to conduct such an adequacy check"
   ]
  },
  {
   "cell_type": "code",
   "execution_count": 55,
   "metadata": {},
   "outputs": [
    {
     "name": "stdout",
     "output_type": "stream",
     "text": [
      "Итоговое sMAPE для DummyRegressor: 4.894004086320963\n"
     ]
    }
   ],
   "source": [
    "dummy_model_r = DummyRegressor(strategy=\"mean\")\n",
    "dummy_model_f = DummyRegressor(strategy=\"mean\")\n",
    "dummy_model_r.fit(features_train_r, target_train_r)\n",
    "dummy_model_f.fit(features_train_f, target_train_f)\n",
    "test_predictions_r = dummy_model_r.predict(features_test_r)\n",
    "test_predictions_f = dummy_model_f.predict(features_test_f)\n",
    "\n",
    "print('Итоговое sMAPE для DummyRegressor:',smape_total(\n",
    "    target_test_r, test_predictions_r, target_test_f, test_predictions_f).mean())"
   ]
  },
  {
   "cell_type": "markdown",
   "metadata": {},
   "source": [
    "The minimum value of sMape on the test sample for the decision tree (max_depth=3) is 4.9. This result is better than average, the model is adequate."
   ]
  },
  {
   "cell_type": "markdown",
   "metadata": {},
   "source": [
    "## General conclusion"
   ]
  },
  {
   "cell_type": "markdown",
   "metadata": {},
   "source": [
    "Pre-processing:\n",
    "\n",
    "We conducted a preliminary analysis of the data, checked the data for missing data, and then processed it. In the test sample, there were no columns with data on the quantity of the product and calculated data - they are not available at the beginning of the technical process and become known only later.\n",
    "Missing values ​​for final.output, primary_cleaner.output, rougher.calculations, rougher.output, secondary_cleaner.output . We removed these columns from the training set except for the target features.\n",
    "We checked whether the recovery readings in the observations were calculated correctly.\n",
    "\n",
    "Research:\n",
    "\n",
    "According to the data, the concentration of gold increases with each stage. The purpose of flotation and cleaning is to increase the gold concentration. The silver concentration decreases with each cleaning step. The lead concentration increases from the rougher stage to the primary_cleaner stage. And then it is averaged. This is due to the chemical processes of gold purification. When using nitrate leaching, a lot of lead sulfate is formed in the concentrate. The increase in lead concentration in general occurs not only due to this process, but due to the purification of other constituents from the gold ore.\n",
    "The distribution of particles before flotation is similar to normal with a shift to the left in both the training set and the test sample. Particle sizes before primary purification have a normal distribution.\n",
    "\n",
    "Model training:\n",
    "\n",
    "The final model is based on the DecisionTreeRegressor algorithm\n",
    "\n",
    "Final sMAPE on the test sample: 4.894004086320963. Algorithm parameters: { max_depth: 3}. This result is better than average, the model is adequate.\n",
    "\n",
    "Several points were worked out in this project. And the most obvious: it is noticeable that the difference in quality metrics (constant and our model) is not too large. Such a discrepancy in metrics is acceptable in this project. To further improve the quality of the simulation it is possible to:\n",
    "\n",
    "1. Review the quality of data at the input of the machine learning model: re-evaluate anomalies, omissions, compliance with the laws of chemistry and physics, is everything plausible?\n",
    "\n",
    "2. Development of a machine learning model:\n",
    "- Creating new features for models, Features Engineering: it may be worth contacting a production technologist and once again going through the business chain of the process.\n",
    "- Selection of machine learning models and hyperparameters themselves.\n",
    "\n",
    "3. Parameters of the production process, for example: temperature of raw materials, speed of the conveyor belt, etc.\n",
    "\n",
    "\n",
    "If Measurement Systems Analysis, or MSA will be condacted, it will allow to understand the reasons for the inaccuracy of data obtained from production. Statistical data analysis, or SPC, will also be an indispensable assistant in solving our problem.\n",
    "\n",
    "The goal of our project has been achieved, namely, we have completed the important stages of preparing data and building a model for gold production."
   ]
  }
 ],
 "metadata": {
  "ExecuteTimeLog": [
   {
    "duration": 48,
    "start_time": "2023-04-18T10:53:13.814Z"
   },
   {
    "duration": 436,
    "start_time": "2023-04-18T10:53:26.909Z"
   },
   {
    "duration": 0,
    "start_time": "2023-04-18T10:53:27.346Z"
   },
   {
    "duration": 1235,
    "start_time": "2023-04-18T10:53:41.956Z"
   },
   {
    "duration": 1817,
    "start_time": "2023-04-18T10:53:44.314Z"
   },
   {
    "duration": 92,
    "start_time": "2023-04-18T10:58:26.733Z"
   },
   {
    "duration": 340,
    "start_time": "2023-04-18T10:59:05.511Z"
   },
   {
    "duration": 270,
    "start_time": "2023-04-18T10:59:54.015Z"
   },
   {
    "duration": 21,
    "start_time": "2023-04-18T11:00:09.164Z"
   },
   {
    "duration": 4,
    "start_time": "2023-04-18T11:08:37.210Z"
   },
   {
    "duration": 4,
    "start_time": "2023-04-18T11:09:57.720Z"
   },
   {
    "duration": 4,
    "start_time": "2023-04-18T13:09:56.738Z"
   },
   {
    "duration": 4,
    "start_time": "2023-04-18T13:22:41.120Z"
   },
   {
    "duration": 54,
    "start_time": "2023-04-18T13:22:42.361Z"
   },
   {
    "duration": 3,
    "start_time": "2023-04-18T13:24:26.958Z"
   },
   {
    "duration": 3,
    "start_time": "2023-04-18T14:08:38.976Z"
   },
   {
    "duration": 58,
    "start_time": "2023-04-18T14:09:09.011Z"
   },
   {
    "duration": 7,
    "start_time": "2023-04-18T14:09:16.128Z"
   },
   {
    "duration": 8,
    "start_time": "2023-04-18T14:09:32.351Z"
   },
   {
    "duration": 5,
    "start_time": "2023-04-18T14:09:45.289Z"
   },
   {
    "duration": 5,
    "start_time": "2023-04-18T15:06:40.315Z"
   },
   {
    "duration": 15,
    "start_time": "2023-04-18T15:15:02.651Z"
   },
   {
    "duration": 1388,
    "start_time": "2023-04-18T15:15:30.746Z"
   },
   {
    "duration": 287,
    "start_time": "2023-04-18T15:15:32.136Z"
   },
   {
    "duration": 81,
    "start_time": "2023-04-18T15:15:32.425Z"
   },
   {
    "duration": 338,
    "start_time": "2023-04-18T15:15:32.511Z"
   },
   {
    "duration": 23,
    "start_time": "2023-04-18T15:15:32.851Z"
   },
   {
    "duration": 4,
    "start_time": "2023-04-18T15:15:32.875Z"
   },
   {
    "duration": 17,
    "start_time": "2023-04-18T15:15:32.881Z"
   },
   {
    "duration": 63,
    "start_time": "2023-04-18T15:15:32.900Z"
   },
   {
    "duration": 3,
    "start_time": "2023-04-18T15:15:32.966Z"
   },
   {
    "duration": 33,
    "start_time": "2023-04-18T15:15:32.971Z"
   },
   {
    "duration": 44,
    "start_time": "2023-04-18T15:15:33.006Z"
   },
   {
    "duration": 17,
    "start_time": "2023-04-18T15:15:33.052Z"
   },
   {
    "duration": 20,
    "start_time": "2023-04-18T15:15:33.071Z"
   },
   {
    "duration": 5,
    "start_time": "2023-04-18T15:39:13.411Z"
   },
   {
    "duration": 113,
    "start_time": "2023-04-18T15:45:51.334Z"
   },
   {
    "duration": 24,
    "start_time": "2023-04-18T15:47:01.918Z"
   },
   {
    "duration": 15,
    "start_time": "2023-04-18T15:47:14.045Z"
   },
   {
    "duration": 30,
    "start_time": "2023-04-18T15:49:04.520Z"
   },
   {
    "duration": 105,
    "start_time": "2023-04-18T20:28:44.721Z"
   },
   {
    "duration": 104,
    "start_time": "2023-04-18T20:29:05.898Z"
   },
   {
    "duration": 22,
    "start_time": "2023-04-18T20:29:21.610Z"
   },
   {
    "duration": 84,
    "start_time": "2023-04-18T20:29:34.413Z"
   },
   {
    "duration": 10,
    "start_time": "2023-04-18T20:30:59.826Z"
   },
   {
    "duration": 9,
    "start_time": "2023-04-18T20:32:23.877Z"
   },
   {
    "duration": 757,
    "start_time": "2023-04-18T20:40:22.108Z"
   },
   {
    "duration": 13,
    "start_time": "2023-04-18T20:41:58.943Z"
   },
   {
    "duration": 1327,
    "start_time": "2023-04-18T20:42:13.262Z"
   },
   {
    "duration": 266,
    "start_time": "2023-04-18T20:42:14.591Z"
   },
   {
    "duration": 76,
    "start_time": "2023-04-18T20:42:14.858Z"
   },
   {
    "duration": 333,
    "start_time": "2023-04-18T20:42:14.936Z"
   },
   {
    "duration": 25,
    "start_time": "2023-04-18T20:42:15.271Z"
   },
   {
    "duration": 4,
    "start_time": "2023-04-18T20:42:15.298Z"
   },
   {
    "duration": 51,
    "start_time": "2023-04-18T20:42:15.303Z"
   },
   {
    "duration": 134,
    "start_time": "2023-04-18T20:42:15.356Z"
   },
   {
    "duration": 0,
    "start_time": "2023-04-18T20:42:15.494Z"
   },
   {
    "duration": 0,
    "start_time": "2023-04-18T20:42:15.495Z"
   },
   {
    "duration": 0,
    "start_time": "2023-04-18T20:42:15.496Z"
   },
   {
    "duration": 0,
    "start_time": "2023-04-18T20:42:15.497Z"
   },
   {
    "duration": 0,
    "start_time": "2023-04-18T20:42:15.498Z"
   },
   {
    "duration": 0,
    "start_time": "2023-04-18T20:42:15.499Z"
   },
   {
    "duration": 0,
    "start_time": "2023-04-18T20:42:15.500Z"
   },
   {
    "duration": 0,
    "start_time": "2023-04-18T20:42:15.501Z"
   },
   {
    "duration": 0,
    "start_time": "2023-04-18T20:42:15.502Z"
   },
   {
    "duration": 0,
    "start_time": "2023-04-18T20:42:15.503Z"
   },
   {
    "duration": 9,
    "start_time": "2023-04-18T20:43:10.998Z"
   },
   {
    "duration": 108,
    "start_time": "2023-04-18T20:43:18.633Z"
   },
   {
    "duration": 21,
    "start_time": "2023-04-18T20:43:19.704Z"
   },
   {
    "duration": 86,
    "start_time": "2023-04-18T20:43:20.637Z"
   },
   {
    "duration": 11,
    "start_time": "2023-04-18T20:43:30.928Z"
   },
   {
    "duration": 4,
    "start_time": "2023-04-18T20:47:32.640Z"
   },
   {
    "duration": 251,
    "start_time": "2023-04-18T20:49:46.215Z"
   },
   {
    "duration": 8,
    "start_time": "2023-04-18T20:57:08.567Z"
   },
   {
    "duration": 1322,
    "start_time": "2023-04-18T20:58:55.480Z"
   },
   {
    "duration": 264,
    "start_time": "2023-04-18T20:58:56.803Z"
   },
   {
    "duration": 77,
    "start_time": "2023-04-18T20:58:57.068Z"
   },
   {
    "duration": 347,
    "start_time": "2023-04-18T20:58:57.147Z"
   },
   {
    "duration": 24,
    "start_time": "2023-04-18T20:58:57.496Z"
   },
   {
    "duration": 3,
    "start_time": "2023-04-18T20:58:57.522Z"
   },
   {
    "duration": 258,
    "start_time": "2023-04-18T20:58:57.527Z"
   },
   {
    "duration": 3,
    "start_time": "2023-04-18T20:58:57.793Z"
   },
   {
    "duration": 6,
    "start_time": "2023-04-18T20:58:57.797Z"
   },
   {
    "duration": 2,
    "start_time": "2023-04-18T20:58:57.805Z"
   },
   {
    "duration": 9,
    "start_time": "2023-04-18T20:58:57.809Z"
   },
   {
    "duration": 111,
    "start_time": "2023-04-18T20:58:57.819Z"
   },
   {
    "duration": 0,
    "start_time": "2023-04-18T20:58:57.931Z"
   },
   {
    "duration": 0,
    "start_time": "2023-04-18T20:58:57.932Z"
   },
   {
    "duration": 0,
    "start_time": "2023-04-18T20:58:57.933Z"
   },
   {
    "duration": 0,
    "start_time": "2023-04-18T20:58:57.934Z"
   },
   {
    "duration": 0,
    "start_time": "2023-04-18T20:58:57.935Z"
   },
   {
    "duration": 1008,
    "start_time": "2023-04-18T21:11:05.285Z"
   },
   {
    "duration": 0,
    "start_time": "2023-04-18T21:11:06.295Z"
   },
   {
    "duration": 1307,
    "start_time": "2023-04-18T21:12:13.643Z"
   },
   {
    "duration": 276,
    "start_time": "2023-04-18T21:12:14.952Z"
   },
   {
    "duration": 77,
    "start_time": "2023-04-18T21:12:15.229Z"
   },
   {
    "duration": 338,
    "start_time": "2023-04-18T21:12:15.308Z"
   },
   {
    "duration": 22,
    "start_time": "2023-04-18T21:12:15.648Z"
   },
   {
    "duration": 3,
    "start_time": "2023-04-18T21:12:15.671Z"
   },
   {
    "duration": 271,
    "start_time": "2023-04-18T21:12:15.676Z"
   },
   {
    "duration": 3,
    "start_time": "2023-04-18T21:12:15.948Z"
   },
   {
    "duration": 5,
    "start_time": "2023-04-18T21:12:15.952Z"
   },
   {
    "duration": 16,
    "start_time": "2023-04-18T21:12:15.958Z"
   },
   {
    "duration": 24,
    "start_time": "2023-04-18T21:12:15.975Z"
   },
   {
    "duration": 796,
    "start_time": "2023-04-18T21:12:16.001Z"
   },
   {
    "duration": 0,
    "start_time": "2023-04-18T21:12:16.799Z"
   },
   {
    "duration": 0,
    "start_time": "2023-04-18T21:12:16.800Z"
   },
   {
    "duration": 0,
    "start_time": "2023-04-18T21:12:16.801Z"
   },
   {
    "duration": 0,
    "start_time": "2023-04-18T21:12:16.802Z"
   },
   {
    "duration": 697,
    "start_time": "2023-04-18T21:13:58.021Z"
   },
   {
    "duration": 1267,
    "start_time": "2023-04-18T21:14:09.453Z"
   },
   {
    "duration": 264,
    "start_time": "2023-04-18T21:14:10.722Z"
   },
   {
    "duration": 77,
    "start_time": "2023-04-18T21:14:10.987Z"
   },
   {
    "duration": 329,
    "start_time": "2023-04-18T21:14:11.065Z"
   },
   {
    "duration": 33,
    "start_time": "2023-04-18T21:14:11.397Z"
   },
   {
    "duration": 4,
    "start_time": "2023-04-18T21:14:11.432Z"
   },
   {
    "duration": 297,
    "start_time": "2023-04-18T21:14:11.437Z"
   },
   {
    "duration": 4,
    "start_time": "2023-04-18T21:14:11.735Z"
   },
   {
    "duration": 8,
    "start_time": "2023-04-18T21:14:11.741Z"
   },
   {
    "duration": 8,
    "start_time": "2023-04-18T21:14:11.751Z"
   },
   {
    "duration": 7,
    "start_time": "2023-04-18T21:14:11.761Z"
   },
   {
    "duration": 27,
    "start_time": "2023-04-18T21:14:11.769Z"
   },
   {
    "duration": 19,
    "start_time": "2023-04-18T21:14:11.798Z"
   },
   {
    "duration": 2,
    "start_time": "2023-04-18T21:14:11.819Z"
   },
   {
    "duration": 8,
    "start_time": "2023-04-18T21:14:11.823Z"
   },
   {
    "duration": 27,
    "start_time": "2023-04-18T21:14:11.833Z"
   },
   {
    "duration": 102,
    "start_time": "2023-04-18T21:55:15.867Z"
   },
   {
    "duration": 5,
    "start_time": "2023-04-18T21:55:26.891Z"
   },
   {
    "duration": 5,
    "start_time": "2023-04-18T21:57:13.093Z"
   },
   {
    "duration": 4,
    "start_time": "2023-04-18T21:57:13.989Z"
   },
   {
    "duration": 11,
    "start_time": "2023-04-18T21:57:14.927Z"
   },
   {
    "duration": 4,
    "start_time": "2023-04-18T21:57:25.917Z"
   },
   {
    "duration": 342,
    "start_time": "2023-04-18T22:14:34.310Z"
   },
   {
    "duration": 401,
    "start_time": "2023-04-18T22:15:11.268Z"
   },
   {
    "duration": 245,
    "start_time": "2023-04-18T22:19:49.382Z"
   },
   {
    "duration": 252,
    "start_time": "2023-04-18T22:20:53.187Z"
   },
   {
    "duration": 260,
    "start_time": "2023-04-18T22:21:25.291Z"
   },
   {
    "duration": 268,
    "start_time": "2023-04-18T22:22:04.100Z"
   },
   {
    "duration": 57,
    "start_time": "2023-04-19T12:53:24.738Z"
   },
   {
    "duration": 1826,
    "start_time": "2023-04-19T12:55:46.259Z"
   },
   {
    "duration": 1724,
    "start_time": "2023-04-19T12:55:48.088Z"
   },
   {
    "duration": 182,
    "start_time": "2023-04-19T12:55:49.814Z"
   },
   {
    "duration": 612,
    "start_time": "2023-04-19T12:55:49.998Z"
   },
   {
    "duration": 22,
    "start_time": "2023-04-19T12:55:50.611Z"
   },
   {
    "duration": 8,
    "start_time": "2023-04-19T12:55:50.635Z"
   },
   {
    "duration": 330,
    "start_time": "2023-04-19T12:55:50.644Z"
   },
   {
    "duration": 5,
    "start_time": "2023-04-19T12:55:50.976Z"
   },
   {
    "duration": 31,
    "start_time": "2023-04-19T12:55:50.983Z"
   },
   {
    "duration": 19,
    "start_time": "2023-04-19T12:55:51.017Z"
   },
   {
    "duration": 37,
    "start_time": "2023-04-19T12:55:51.038Z"
   },
   {
    "duration": 25,
    "start_time": "2023-04-19T12:55:51.078Z"
   },
   {
    "duration": 51,
    "start_time": "2023-04-19T12:55:51.104Z"
   },
   {
    "duration": 19,
    "start_time": "2023-04-19T12:55:51.157Z"
   },
   {
    "duration": 36,
    "start_time": "2023-04-19T12:55:51.179Z"
   },
   {
    "duration": 72,
    "start_time": "2023-04-19T12:55:51.216Z"
   },
   {
    "duration": 18,
    "start_time": "2023-04-19T12:55:51.290Z"
   },
   {
    "duration": 7,
    "start_time": "2023-04-19T12:55:51.309Z"
   },
   {
    "duration": 24,
    "start_time": "2023-04-19T12:55:51.317Z"
   },
   {
    "duration": 19,
    "start_time": "2023-04-19T12:55:51.343Z"
   },
   {
    "duration": 444,
    "start_time": "2023-04-19T12:55:51.369Z"
   },
   {
    "duration": 412,
    "start_time": "2023-04-19T12:55:51.815Z"
   },
   {
    "duration": 311,
    "start_time": "2023-04-19T12:55:52.228Z"
   },
   {
    "duration": 330,
    "start_time": "2023-04-19T12:55:52.541Z"
   },
   {
    "duration": 140,
    "start_time": "2023-04-19T12:55:52.874Z"
   },
   {
    "duration": 5,
    "start_time": "2023-04-19T12:58:13.489Z"
   },
   {
    "duration": 13,
    "start_time": "2023-04-19T12:59:28.346Z"
   },
   {
    "duration": 970,
    "start_time": "2023-04-19T12:59:53.390Z"
   },
   {
    "duration": 1024,
    "start_time": "2023-04-19T13:02:14.634Z"
   },
   {
    "duration": 1448,
    "start_time": "2023-04-19T13:04:06.081Z"
   },
   {
    "duration": 316,
    "start_time": "2023-04-19T13:04:07.531Z"
   },
   {
    "duration": 94,
    "start_time": "2023-04-19T13:04:07.849Z"
   },
   {
    "duration": 383,
    "start_time": "2023-04-19T13:04:07.945Z"
   },
   {
    "duration": 35,
    "start_time": "2023-04-19T13:04:08.330Z"
   },
   {
    "duration": 7,
    "start_time": "2023-04-19T13:04:08.367Z"
   },
   {
    "duration": 331,
    "start_time": "2023-04-19T13:04:08.377Z"
   },
   {
    "duration": 3,
    "start_time": "2023-04-19T13:04:08.709Z"
   },
   {
    "duration": 13,
    "start_time": "2023-04-19T13:04:08.713Z"
   },
   {
    "duration": 9,
    "start_time": "2023-04-19T13:04:08.727Z"
   },
   {
    "duration": 6,
    "start_time": "2023-04-19T13:04:08.737Z"
   },
   {
    "duration": 20,
    "start_time": "2023-04-19T13:04:08.744Z"
   },
   {
    "duration": 37,
    "start_time": "2023-04-19T13:04:08.766Z"
   },
   {
    "duration": 3,
    "start_time": "2023-04-19T13:04:08.805Z"
   },
   {
    "duration": 27,
    "start_time": "2023-04-19T13:04:08.810Z"
   },
   {
    "duration": 53,
    "start_time": "2023-04-19T13:04:08.839Z"
   },
   {
    "duration": 6,
    "start_time": "2023-04-19T13:04:08.894Z"
   },
   {
    "duration": 9,
    "start_time": "2023-04-19T13:04:08.901Z"
   },
   {
    "duration": 10,
    "start_time": "2023-04-19T13:04:08.912Z"
   },
   {
    "duration": 468,
    "start_time": "2023-04-19T13:04:08.923Z"
   },
   {
    "duration": 1116,
    "start_time": "2023-04-19T13:04:09.398Z"
   },
   {
    "duration": 0,
    "start_time": "2023-04-19T13:04:10.516Z"
   },
   {
    "duration": 0,
    "start_time": "2023-04-19T13:04:10.517Z"
   },
   {
    "duration": 0,
    "start_time": "2023-04-19T13:04:10.518Z"
   },
   {
    "duration": 0,
    "start_time": "2023-04-19T13:04:10.519Z"
   },
   {
    "duration": 717,
    "start_time": "2023-04-19T13:04:52.902Z"
   },
   {
    "duration": 645,
    "start_time": "2023-04-19T13:05:06.649Z"
   },
   {
    "duration": 755,
    "start_time": "2023-04-19T13:05:16.861Z"
   },
   {
    "duration": 651,
    "start_time": "2023-04-19T13:05:31.808Z"
   },
   {
    "duration": 625,
    "start_time": "2023-04-19T13:08:07.323Z"
   },
   {
    "duration": 814,
    "start_time": "2023-04-19T13:08:21.219Z"
   },
   {
    "duration": 677,
    "start_time": "2023-04-19T13:09:25.209Z"
   },
   {
    "duration": 668,
    "start_time": "2023-04-19T13:09:34.138Z"
   },
   {
    "duration": 753,
    "start_time": "2023-04-19T13:09:45.481Z"
   },
   {
    "duration": 796,
    "start_time": "2023-04-19T13:15:56.957Z"
   },
   {
    "duration": 892,
    "start_time": "2023-04-19T13:16:08.781Z"
   },
   {
    "duration": 863,
    "start_time": "2023-04-19T13:16:36.839Z"
   },
   {
    "duration": 936,
    "start_time": "2023-04-19T13:16:45.815Z"
   },
   {
    "duration": 480,
    "start_time": "2023-04-19T13:18:17.019Z"
   },
   {
    "duration": 458,
    "start_time": "2023-04-19T13:18:40.578Z"
   },
   {
    "duration": 535,
    "start_time": "2023-04-19T13:18:47.779Z"
   },
   {
    "duration": 12,
    "start_time": "2023-04-19T13:21:12.604Z"
   },
   {
    "duration": 14,
    "start_time": "2023-04-19T13:22:05.506Z"
   },
   {
    "duration": 767,
    "start_time": "2023-04-19T13:23:03.957Z"
   },
   {
    "duration": 310,
    "start_time": "2023-04-19T13:24:21.307Z"
   },
   {
    "duration": 280,
    "start_time": "2023-04-19T13:25:44.429Z"
   },
   {
    "duration": 5,
    "start_time": "2023-04-19T13:33:47.482Z"
   },
   {
    "duration": 871,
    "start_time": "2023-04-19T13:33:49.389Z"
   },
   {
    "duration": 10,
    "start_time": "2023-04-19T13:34:31.750Z"
   },
   {
    "duration": 14,
    "start_time": "2023-04-19T13:34:57.323Z"
   },
   {
    "duration": 10,
    "start_time": "2023-04-19T13:35:44.048Z"
   },
   {
    "duration": 1411,
    "start_time": "2023-04-19T13:36:43.833Z"
   },
   {
    "duration": 302,
    "start_time": "2023-04-19T13:36:45.245Z"
   },
   {
    "duration": 90,
    "start_time": "2023-04-19T13:36:45.549Z"
   },
   {
    "duration": 367,
    "start_time": "2023-04-19T13:36:45.641Z"
   },
   {
    "duration": 27,
    "start_time": "2023-04-19T13:36:46.009Z"
   },
   {
    "duration": 47,
    "start_time": "2023-04-19T13:36:46.038Z"
   },
   {
    "duration": 336,
    "start_time": "2023-04-19T13:36:46.087Z"
   },
   {
    "duration": 3,
    "start_time": "2023-04-19T13:36:46.424Z"
   },
   {
    "duration": 11,
    "start_time": "2023-04-19T13:36:46.429Z"
   },
   {
    "duration": 7,
    "start_time": "2023-04-19T13:36:46.442Z"
   },
   {
    "duration": 4,
    "start_time": "2023-04-19T13:36:46.464Z"
   },
   {
    "duration": 9,
    "start_time": "2023-04-19T13:36:46.469Z"
   },
   {
    "duration": 19,
    "start_time": "2023-04-19T13:36:46.480Z"
   },
   {
    "duration": 3,
    "start_time": "2023-04-19T13:36:46.500Z"
   },
   {
    "duration": 9,
    "start_time": "2023-04-19T13:36:46.505Z"
   },
   {
    "duration": 52,
    "start_time": "2023-04-19T13:36:46.516Z"
   },
   {
    "duration": 6,
    "start_time": "2023-04-19T13:36:46.569Z"
   },
   {
    "duration": 39,
    "start_time": "2023-04-19T13:36:46.577Z"
   },
   {
    "duration": 32,
    "start_time": "2023-04-19T13:36:46.617Z"
   },
   {
    "duration": 400,
    "start_time": "2023-04-19T13:36:46.650Z"
   },
   {
    "duration": 647,
    "start_time": "2023-04-19T13:36:47.051Z"
   },
   {
    "duration": 569,
    "start_time": "2023-04-19T13:36:47.700Z"
   },
   {
    "duration": 566,
    "start_time": "2023-04-19T13:36:48.271Z"
   },
   {
    "duration": 3,
    "start_time": "2023-04-19T13:36:48.838Z"
   },
   {
    "duration": 800,
    "start_time": "2023-04-19T13:36:48.842Z"
   },
   {
    "duration": 422,
    "start_time": "2023-04-19T13:36:49.644Z"
   },
   {
    "duration": 13,
    "start_time": "2023-04-19T13:36:50.068Z"
   },
   {
    "duration": 629,
    "start_time": "2023-04-19T13:36:50.084Z"
   },
   {
    "duration": 12,
    "start_time": "2023-04-19T13:36:50.716Z"
   },
   {
    "duration": 248,
    "start_time": "2023-04-19T13:36:50.729Z"
   },
   {
    "duration": 12,
    "start_time": "2023-04-19T13:37:41.324Z"
   },
   {
    "duration": 13,
    "start_time": "2023-04-19T13:38:08.971Z"
   },
   {
    "duration": 10,
    "start_time": "2023-04-19T13:38:19.816Z"
   },
   {
    "duration": 5,
    "start_time": "2023-04-19T13:38:44.985Z"
   },
   {
    "duration": 5,
    "start_time": "2023-04-19T13:44:39.420Z"
   },
   {
    "duration": 25,
    "start_time": "2023-04-19T13:45:51.385Z"
   },
   {
    "duration": 1433,
    "start_time": "2023-04-19T13:48:56.224Z"
   },
   {
    "duration": 326,
    "start_time": "2023-04-19T13:48:57.659Z"
   },
   {
    "duration": 88,
    "start_time": "2023-04-19T13:48:57.986Z"
   },
   {
    "duration": 379,
    "start_time": "2023-04-19T13:48:58.076Z"
   },
   {
    "duration": 32,
    "start_time": "2023-04-19T13:48:58.456Z"
   },
   {
    "duration": 5,
    "start_time": "2023-04-19T13:48:58.489Z"
   },
   {
    "duration": 311,
    "start_time": "2023-04-19T13:48:58.495Z"
   },
   {
    "duration": 3,
    "start_time": "2023-04-19T13:48:58.809Z"
   },
   {
    "duration": 17,
    "start_time": "2023-04-19T13:48:58.814Z"
   },
   {
    "duration": 14,
    "start_time": "2023-04-19T13:48:58.834Z"
   },
   {
    "duration": 16,
    "start_time": "2023-04-19T13:48:58.849Z"
   },
   {
    "duration": 3,
    "start_time": "2023-04-19T13:48:58.867Z"
   },
   {
    "duration": 19,
    "start_time": "2023-04-19T13:48:58.872Z"
   },
   {
    "duration": 3,
    "start_time": "2023-04-19T13:48:58.893Z"
   },
   {
    "duration": 9,
    "start_time": "2023-04-19T13:48:58.897Z"
   },
   {
    "duration": 63,
    "start_time": "2023-04-19T13:48:58.908Z"
   },
   {
    "duration": 4,
    "start_time": "2023-04-19T13:48:58.973Z"
   },
   {
    "duration": 7,
    "start_time": "2023-04-19T13:48:58.979Z"
   },
   {
    "duration": 5,
    "start_time": "2023-04-19T13:48:58.987Z"
   },
   {
    "duration": 409,
    "start_time": "2023-04-19T13:48:58.994Z"
   },
   {
    "duration": 648,
    "start_time": "2023-04-19T13:48:59.405Z"
   },
   {
    "duration": 594,
    "start_time": "2023-04-19T13:49:00.055Z"
   },
   {
    "duration": 570,
    "start_time": "2023-04-19T13:49:00.651Z"
   },
   {
    "duration": 3,
    "start_time": "2023-04-19T13:49:01.223Z"
   },
   {
    "duration": 833,
    "start_time": "2023-04-19T13:49:01.227Z"
   },
   {
    "duration": 461,
    "start_time": "2023-04-19T13:49:02.062Z"
   },
   {
    "duration": 14,
    "start_time": "2023-04-19T13:49:02.524Z"
   },
   {
    "duration": 603,
    "start_time": "2023-04-19T13:49:02.541Z"
   },
   {
    "duration": 24,
    "start_time": "2023-04-19T13:49:03.147Z"
   },
   {
    "duration": 18,
    "start_time": "2023-04-19T13:49:03.173Z"
   },
   {
    "duration": 10,
    "start_time": "2023-04-19T13:49:03.192Z"
   },
   {
    "duration": 7,
    "start_time": "2023-04-19T13:49:03.204Z"
   },
   {
    "duration": 300,
    "start_time": "2023-04-19T13:49:03.212Z"
   },
   {
    "duration": 372,
    "start_time": "2023-04-19T14:03:30.021Z"
   },
   {
    "duration": 14,
    "start_time": "2023-04-19T14:03:38.196Z"
   },
   {
    "duration": 22,
    "start_time": "2023-04-19T14:04:47.648Z"
   },
   {
    "duration": 1460,
    "start_time": "2023-04-19T14:05:39.097Z"
   },
   {
    "duration": 346,
    "start_time": "2023-04-19T14:05:40.559Z"
   },
   {
    "duration": 97,
    "start_time": "2023-04-19T14:05:40.906Z"
   },
   {
    "duration": 421,
    "start_time": "2023-04-19T14:05:41.005Z"
   },
   {
    "duration": 36,
    "start_time": "2023-04-19T14:05:41.428Z"
   },
   {
    "duration": 7,
    "start_time": "2023-04-19T14:05:41.465Z"
   },
   {
    "duration": 378,
    "start_time": "2023-04-19T14:05:41.473Z"
   },
   {
    "duration": 3,
    "start_time": "2023-04-19T14:05:41.853Z"
   },
   {
    "duration": 32,
    "start_time": "2023-04-19T14:05:41.858Z"
   },
   {
    "duration": 26,
    "start_time": "2023-04-19T14:05:41.892Z"
   },
   {
    "duration": 33,
    "start_time": "2023-04-19T14:05:41.919Z"
   },
   {
    "duration": 14,
    "start_time": "2023-04-19T14:05:41.953Z"
   },
   {
    "duration": 45,
    "start_time": "2023-04-19T14:05:41.969Z"
   },
   {
    "duration": 7,
    "start_time": "2023-04-19T14:05:42.017Z"
   },
   {
    "duration": 47,
    "start_time": "2023-04-19T14:05:42.026Z"
   },
   {
    "duration": 68,
    "start_time": "2023-04-19T14:05:42.075Z"
   },
   {
    "duration": 5,
    "start_time": "2023-04-19T14:05:42.145Z"
   },
   {
    "duration": 7,
    "start_time": "2023-04-19T14:05:42.152Z"
   },
   {
    "duration": 34,
    "start_time": "2023-04-19T14:05:42.161Z"
   },
   {
    "duration": 458,
    "start_time": "2023-04-19T14:05:42.196Z"
   },
   {
    "duration": 785,
    "start_time": "2023-04-19T14:05:42.656Z"
   },
   {
    "duration": 727,
    "start_time": "2023-04-19T14:05:43.443Z"
   },
   {
    "duration": 657,
    "start_time": "2023-04-19T14:05:44.173Z"
   },
   {
    "duration": 2,
    "start_time": "2023-04-19T14:05:44.832Z"
   },
   {
    "duration": 937,
    "start_time": "2023-04-19T14:05:44.836Z"
   },
   {
    "duration": 484,
    "start_time": "2023-04-19T14:05:45.775Z"
   },
   {
    "duration": 17,
    "start_time": "2023-04-19T14:05:46.263Z"
   },
   {
    "duration": 639,
    "start_time": "2023-04-19T14:05:46.282Z"
   },
   {
    "duration": 277,
    "start_time": "2023-04-19T14:05:46.924Z"
   },
   {
    "duration": 0,
    "start_time": "2023-04-19T14:05:47.203Z"
   },
   {
    "duration": 0,
    "start_time": "2023-04-19T14:05:47.204Z"
   },
   {
    "duration": 0,
    "start_time": "2023-04-19T14:05:47.205Z"
   },
   {
    "duration": 0,
    "start_time": "2023-04-19T14:05:47.206Z"
   },
   {
    "duration": 1481,
    "start_time": "2023-04-19T14:06:40.221Z"
   },
   {
    "duration": 338,
    "start_time": "2023-04-19T14:06:41.704Z"
   },
   {
    "duration": 102,
    "start_time": "2023-04-19T14:06:42.044Z"
   },
   {
    "duration": 417,
    "start_time": "2023-04-19T14:06:42.148Z"
   },
   {
    "duration": 36,
    "start_time": "2023-04-19T14:06:42.567Z"
   },
   {
    "duration": 3,
    "start_time": "2023-04-19T14:06:42.605Z"
   },
   {
    "duration": 351,
    "start_time": "2023-04-19T14:06:42.609Z"
   },
   {
    "duration": 3,
    "start_time": "2023-04-19T14:06:42.962Z"
   },
   {
    "duration": 17,
    "start_time": "2023-04-19T14:06:42.967Z"
   },
   {
    "duration": 26,
    "start_time": "2023-04-19T14:06:42.988Z"
   },
   {
    "duration": 17,
    "start_time": "2023-04-19T14:06:43.016Z"
   },
   {
    "duration": 10,
    "start_time": "2023-04-19T14:06:43.035Z"
   },
   {
    "duration": 32,
    "start_time": "2023-04-19T14:06:43.047Z"
   },
   {
    "duration": 137,
    "start_time": "2023-04-19T14:06:43.081Z"
   },
   {
    "duration": 0,
    "start_time": "2023-04-19T14:06:43.220Z"
   },
   {
    "duration": 0,
    "start_time": "2023-04-19T14:06:43.222Z"
   },
   {
    "duration": 0,
    "start_time": "2023-04-19T14:06:43.227Z"
   },
   {
    "duration": 0,
    "start_time": "2023-04-19T14:06:43.228Z"
   },
   {
    "duration": 0,
    "start_time": "2023-04-19T14:06:43.231Z"
   },
   {
    "duration": 0,
    "start_time": "2023-04-19T14:06:43.233Z"
   },
   {
    "duration": 0,
    "start_time": "2023-04-19T14:06:43.234Z"
   },
   {
    "duration": 0,
    "start_time": "2023-04-19T14:06:43.235Z"
   },
   {
    "duration": 0,
    "start_time": "2023-04-19T14:06:43.237Z"
   },
   {
    "duration": 0,
    "start_time": "2023-04-19T14:06:43.238Z"
   },
   {
    "duration": 0,
    "start_time": "2023-04-19T14:06:43.239Z"
   },
   {
    "duration": 0,
    "start_time": "2023-04-19T14:06:43.240Z"
   },
   {
    "duration": 0,
    "start_time": "2023-04-19T14:06:43.242Z"
   },
   {
    "duration": 0,
    "start_time": "2023-04-19T14:06:43.243Z"
   },
   {
    "duration": 0,
    "start_time": "2023-04-19T14:06:43.244Z"
   },
   {
    "duration": 0,
    "start_time": "2023-04-19T14:06:43.245Z"
   },
   {
    "duration": 0,
    "start_time": "2023-04-19T14:06:43.246Z"
   },
   {
    "duration": 0,
    "start_time": "2023-04-19T14:06:43.247Z"
   },
   {
    "duration": 0,
    "start_time": "2023-04-19T14:06:43.248Z"
   },
   {
    "duration": 2,
    "start_time": "2023-04-19T14:08:46.081Z"
   },
   {
    "duration": 34,
    "start_time": "2023-04-19T14:08:46.789Z"
   },
   {
    "duration": 1619,
    "start_time": "2023-04-19T14:08:58.278Z"
   },
   {
    "duration": 357,
    "start_time": "2023-04-19T14:08:59.899Z"
   },
   {
    "duration": 106,
    "start_time": "2023-04-19T14:09:00.258Z"
   },
   {
    "duration": 501,
    "start_time": "2023-04-19T14:09:00.375Z"
   },
   {
    "duration": 36,
    "start_time": "2023-04-19T14:09:00.880Z"
   },
   {
    "duration": 19,
    "start_time": "2023-04-19T14:09:00.919Z"
   },
   {
    "duration": 388,
    "start_time": "2023-04-19T14:09:00.942Z"
   },
   {
    "duration": 3,
    "start_time": "2023-04-19T14:09:01.332Z"
   },
   {
    "duration": 64,
    "start_time": "2023-04-19T14:09:01.337Z"
   },
   {
    "duration": 70,
    "start_time": "2023-04-19T14:09:01.403Z"
   },
   {
    "duration": 47,
    "start_time": "2023-04-19T14:09:01.476Z"
   },
   {
    "duration": 77,
    "start_time": "2023-04-19T14:09:01.525Z"
   },
   {
    "duration": 50,
    "start_time": "2023-04-19T14:09:01.604Z"
   },
   {
    "duration": 30,
    "start_time": "2023-04-19T14:09:01.658Z"
   },
   {
    "duration": 29,
    "start_time": "2023-04-19T14:09:01.690Z"
   },
   {
    "duration": 89,
    "start_time": "2023-04-19T14:09:01.721Z"
   },
   {
    "duration": 25,
    "start_time": "2023-04-19T14:09:01.811Z"
   },
   {
    "duration": 50,
    "start_time": "2023-04-19T14:09:01.838Z"
   },
   {
    "duration": 22,
    "start_time": "2023-04-19T14:09:01.890Z"
   },
   {
    "duration": 469,
    "start_time": "2023-04-19T14:09:01.914Z"
   },
   {
    "duration": 852,
    "start_time": "2023-04-19T14:09:02.385Z"
   },
   {
    "duration": 812,
    "start_time": "2023-04-19T14:09:03.239Z"
   },
   {
    "duration": 821,
    "start_time": "2023-04-19T14:09:04.054Z"
   },
   {
    "duration": 7,
    "start_time": "2023-04-19T14:09:04.877Z"
   },
   {
    "duration": 965,
    "start_time": "2023-04-19T14:09:04.888Z"
   },
   {
    "duration": 497,
    "start_time": "2023-04-19T14:09:05.854Z"
   },
   {
    "duration": 34,
    "start_time": "2023-04-19T14:09:06.353Z"
   },
   {
    "duration": 615,
    "start_time": "2023-04-19T14:09:06.389Z"
   },
   {
    "duration": 374,
    "start_time": "2023-04-19T14:09:07.008Z"
   },
   {
    "duration": 0,
    "start_time": "2023-04-19T14:09:07.385Z"
   },
   {
    "duration": 0,
    "start_time": "2023-04-19T14:09:07.386Z"
   },
   {
    "duration": 0,
    "start_time": "2023-04-19T14:09:07.388Z"
   },
   {
    "duration": 0,
    "start_time": "2023-04-19T14:09:07.389Z"
   },
   {
    "duration": 23,
    "start_time": "2023-04-19T14:09:26.485Z"
   },
   {
    "duration": 1617,
    "start_time": "2023-04-19T14:11:23.991Z"
   },
   {
    "duration": 351,
    "start_time": "2023-04-19T14:11:25.611Z"
   },
   {
    "duration": 106,
    "start_time": "2023-04-19T14:11:25.965Z"
   },
   {
    "duration": 463,
    "start_time": "2023-04-19T14:11:26.073Z"
   },
   {
    "duration": 32,
    "start_time": "2023-04-19T14:11:26.538Z"
   },
   {
    "duration": 6,
    "start_time": "2023-04-19T14:11:26.572Z"
   },
   {
    "duration": 361,
    "start_time": "2023-04-19T14:11:26.580Z"
   },
   {
    "duration": 3,
    "start_time": "2023-04-19T14:11:26.943Z"
   },
   {
    "duration": 18,
    "start_time": "2023-04-19T14:11:26.947Z"
   },
   {
    "duration": 13,
    "start_time": "2023-04-19T14:11:26.967Z"
   },
   {
    "duration": 6,
    "start_time": "2023-04-19T14:11:26.982Z"
   },
   {
    "duration": 6,
    "start_time": "2023-04-19T14:11:26.990Z"
   },
   {
    "duration": 19,
    "start_time": "2023-04-19T14:11:26.998Z"
   },
   {
    "duration": 2,
    "start_time": "2023-04-19T14:11:27.020Z"
   },
   {
    "duration": 40,
    "start_time": "2023-04-19T14:11:27.024Z"
   },
   {
    "duration": 44,
    "start_time": "2023-04-19T14:11:27.073Z"
   },
   {
    "duration": 5,
    "start_time": "2023-04-19T14:11:27.118Z"
   },
   {
    "duration": 7,
    "start_time": "2023-04-19T14:11:27.125Z"
   },
   {
    "duration": 16,
    "start_time": "2023-04-19T14:11:27.134Z"
   },
   {
    "duration": 545,
    "start_time": "2023-04-19T14:11:27.152Z"
   },
   {
    "duration": 782,
    "start_time": "2023-04-19T14:11:27.700Z"
   },
   {
    "duration": 643,
    "start_time": "2023-04-19T14:11:28.484Z"
   },
   {
    "duration": 729,
    "start_time": "2023-04-19T14:11:29.129Z"
   },
   {
    "duration": 4,
    "start_time": "2023-04-19T14:11:29.862Z"
   },
   {
    "duration": 970,
    "start_time": "2023-04-19T14:11:29.868Z"
   },
   {
    "duration": 515,
    "start_time": "2023-04-19T14:11:30.839Z"
   },
   {
    "duration": 22,
    "start_time": "2023-04-19T14:11:31.356Z"
   },
   {
    "duration": 657,
    "start_time": "2023-04-19T14:11:31.381Z"
   },
   {
    "duration": 357,
    "start_time": "2023-04-19T14:11:32.042Z"
   },
   {
    "duration": 0,
    "start_time": "2023-04-19T14:11:32.401Z"
   },
   {
    "duration": 0,
    "start_time": "2023-04-19T14:11:32.402Z"
   },
   {
    "duration": 0,
    "start_time": "2023-04-19T14:11:32.404Z"
   },
   {
    "duration": 0,
    "start_time": "2023-04-19T14:11:32.405Z"
   },
   {
    "duration": 1022,
    "start_time": "2023-04-19T14:13:05.886Z"
   },
   {
    "duration": 65,
    "start_time": "2023-04-21T00:03:36.039Z"
   },
   {
    "duration": 1483,
    "start_time": "2023-04-21T00:04:00.726Z"
   },
   {
    "duration": 1734,
    "start_time": "2023-04-21T00:04:02.211Z"
   },
   {
    "duration": 55,
    "start_time": "2023-04-21T00:04:03.947Z"
   },
   {
    "duration": 4,
    "start_time": "2023-04-21T00:04:04.004Z"
   },
   {
    "duration": 16,
    "start_time": "2023-04-21T00:04:04.009Z"
   },
   {
    "duration": 275,
    "start_time": "2023-04-21T00:04:04.027Z"
   },
   {
    "duration": 3,
    "start_time": "2023-04-21T00:04:04.304Z"
   },
   {
    "duration": 13,
    "start_time": "2023-04-21T00:04:04.308Z"
   },
   {
    "duration": 5,
    "start_time": "2023-04-21T00:04:04.322Z"
   },
   {
    "duration": 8,
    "start_time": "2023-04-21T00:04:04.330Z"
   },
   {
    "duration": 12,
    "start_time": "2023-04-21T00:04:04.339Z"
   },
   {
    "duration": 4,
    "start_time": "2023-04-21T00:04:04.352Z"
   },
   {
    "duration": 38,
    "start_time": "2023-04-21T00:04:04.357Z"
   },
   {
    "duration": 22,
    "start_time": "2023-04-21T00:04:04.399Z"
   },
   {
    "duration": 4,
    "start_time": "2023-04-21T00:04:04.423Z"
   },
   {
    "duration": 12,
    "start_time": "2023-04-21T00:04:04.429Z"
   },
   {
    "duration": 15,
    "start_time": "2023-04-21T00:04:04.443Z"
   },
   {
    "duration": 340,
    "start_time": "2023-04-21T00:04:04.460Z"
   },
   {
    "duration": 660,
    "start_time": "2023-04-21T00:04:04.801Z"
   },
   {
    "duration": 535,
    "start_time": "2023-04-21T00:04:05.462Z"
   },
   {
    "duration": 565,
    "start_time": "2023-04-21T00:04:05.999Z"
   },
   {
    "duration": 565,
    "start_time": "2023-04-21T00:04:06.565Z"
   },
   {
    "duration": 370,
    "start_time": "2023-04-21T00:04:07.132Z"
   },
   {
    "duration": 7,
    "start_time": "2023-04-21T00:04:07.503Z"
   },
   {
    "duration": 12,
    "start_time": "2023-04-21T00:04:07.511Z"
   },
   {
    "duration": 15,
    "start_time": "2023-04-21T00:04:07.524Z"
   },
   {
    "duration": 13,
    "start_time": "2023-04-21T00:04:07.540Z"
   },
   {
    "duration": 6,
    "start_time": "2023-04-21T00:04:07.555Z"
   },
   {
    "duration": 7,
    "start_time": "2023-04-21T00:04:07.562Z"
   },
   {
    "duration": 599,
    "start_time": "2023-04-21T00:04:07.570Z"
   },
   {
    "duration": 8,
    "start_time": "2023-04-21T00:04:08.181Z"
   },
   {
    "duration": 455,
    "start_time": "2023-04-21T00:04:08.190Z"
   },
   {
    "duration": 5,
    "start_time": "2023-04-21T00:04:08.646Z"
   },
   {
    "duration": 458,
    "start_time": "2023-04-21T00:04:08.652Z"
   },
   {
    "duration": 8,
    "start_time": "2023-04-21T00:04:09.111Z"
   },
   {
    "duration": 13,
    "start_time": "2023-04-21T00:04:09.121Z"
   },
   {
    "duration": 4,
    "start_time": "2023-04-21T00:04:09.135Z"
   },
   {
    "duration": 12,
    "start_time": "2023-04-21T00:04:09.140Z"
   },
   {
    "duration": 11,
    "start_time": "2023-04-21T00:04:09.153Z"
   },
   {
    "duration": 39,
    "start_time": "2023-04-21T00:04:09.165Z"
   },
   {
    "duration": 117,
    "start_time": "2023-04-21T00:04:09.205Z"
   },
   {
    "duration": 1320,
    "start_time": "2023-04-21T00:05:42.748Z"
   },
   {
    "duration": 1874,
    "start_time": "2023-04-21T00:05:44.070Z"
   },
   {
    "duration": 75,
    "start_time": "2023-04-21T00:05:45.946Z"
   },
   {
    "duration": 4,
    "start_time": "2023-04-21T00:05:46.023Z"
   },
   {
    "duration": 15,
    "start_time": "2023-04-21T00:05:46.029Z"
   },
   {
    "duration": 312,
    "start_time": "2023-04-21T00:05:46.045Z"
   },
   {
    "duration": 2,
    "start_time": "2023-04-21T00:05:46.359Z"
   },
   {
    "duration": 49,
    "start_time": "2023-04-21T00:05:46.362Z"
   },
   {
    "duration": 184,
    "start_time": "2023-04-21T00:05:46.412Z"
   },
   {
    "duration": 16,
    "start_time": "2023-04-21T00:05:46.599Z"
   },
   {
    "duration": 22,
    "start_time": "2023-04-21T00:05:46.616Z"
   },
   {
    "duration": 26,
    "start_time": "2023-04-21T00:05:46.640Z"
   },
   {
    "duration": 44,
    "start_time": "2023-04-21T00:05:46.668Z"
   },
   {
    "duration": 18,
    "start_time": "2023-04-21T00:05:46.713Z"
   },
   {
    "duration": 4,
    "start_time": "2023-04-21T00:05:46.732Z"
   },
   {
    "duration": 11,
    "start_time": "2023-04-21T00:05:46.737Z"
   },
   {
    "duration": 12,
    "start_time": "2023-04-21T00:05:46.749Z"
   },
   {
    "duration": 367,
    "start_time": "2023-04-21T00:05:46.762Z"
   },
   {
    "duration": 660,
    "start_time": "2023-04-21T00:05:47.131Z"
   },
   {
    "duration": 571,
    "start_time": "2023-04-21T00:05:47.795Z"
   },
   {
    "duration": 735,
    "start_time": "2023-04-21T00:05:48.367Z"
   },
   {
    "duration": 542,
    "start_time": "2023-04-21T00:05:49.104Z"
   },
   {
    "duration": 369,
    "start_time": "2023-04-21T00:05:49.648Z"
   },
   {
    "duration": 7,
    "start_time": "2023-04-21T00:05:50.019Z"
   },
   {
    "duration": 6,
    "start_time": "2023-04-21T00:05:50.027Z"
   },
   {
    "duration": 5,
    "start_time": "2023-04-21T00:05:50.034Z"
   },
   {
    "duration": 8,
    "start_time": "2023-04-21T00:05:50.040Z"
   },
   {
    "duration": 26,
    "start_time": "2023-04-21T00:05:50.051Z"
   },
   {
    "duration": 7,
    "start_time": "2023-04-21T00:05:50.078Z"
   },
   {
    "duration": 579,
    "start_time": "2023-04-21T00:05:50.086Z"
   },
   {
    "duration": 19,
    "start_time": "2023-04-21T00:05:50.667Z"
   },
   {
    "duration": 472,
    "start_time": "2023-04-21T00:05:50.694Z"
   },
   {
    "duration": 26,
    "start_time": "2023-04-21T00:05:51.167Z"
   },
   {
    "duration": 533,
    "start_time": "2023-04-21T00:05:51.195Z"
   },
   {
    "duration": 8,
    "start_time": "2023-04-21T00:05:51.729Z"
   },
   {
    "duration": 15,
    "start_time": "2023-04-21T00:05:51.739Z"
   },
   {
    "duration": 48,
    "start_time": "2023-04-21T00:05:51.755Z"
   },
   {
    "duration": 4,
    "start_time": "2023-04-21T00:05:51.804Z"
   },
   {
    "duration": 20,
    "start_time": "2023-04-21T00:05:51.810Z"
   },
   {
    "duration": 8,
    "start_time": "2023-04-21T00:05:51.832Z"
   },
   {
    "duration": 28,
    "start_time": "2023-04-21T00:05:51.841Z"
   },
   {
    "duration": 1423,
    "start_time": "2023-04-21T00:06:56.162Z"
   },
   {
    "duration": 1567,
    "start_time": "2023-04-21T00:06:57.588Z"
   },
   {
    "duration": 53,
    "start_time": "2023-04-21T00:06:59.156Z"
   },
   {
    "duration": 3,
    "start_time": "2023-04-21T00:06:59.210Z"
   },
   {
    "duration": 17,
    "start_time": "2023-04-21T00:06:59.215Z"
   },
   {
    "duration": 278,
    "start_time": "2023-04-21T00:06:59.233Z"
   },
   {
    "duration": 2,
    "start_time": "2023-04-21T00:06:59.513Z"
   },
   {
    "duration": 10,
    "start_time": "2023-04-21T00:06:59.516Z"
   },
   {
    "duration": 4,
    "start_time": "2023-04-21T00:06:59.527Z"
   },
   {
    "duration": 7,
    "start_time": "2023-04-21T00:06:59.532Z"
   },
   {
    "duration": 9,
    "start_time": "2023-04-21T00:06:59.541Z"
   },
   {
    "duration": 4,
    "start_time": "2023-04-21T00:06:59.551Z"
   },
   {
    "duration": 37,
    "start_time": "2023-04-21T00:06:59.556Z"
   },
   {
    "duration": 33,
    "start_time": "2023-04-21T00:06:59.596Z"
   },
   {
    "duration": 4,
    "start_time": "2023-04-21T00:06:59.630Z"
   },
   {
    "duration": 12,
    "start_time": "2023-04-21T00:06:59.635Z"
   },
   {
    "duration": 18,
    "start_time": "2023-04-21T00:06:59.649Z"
   },
   {
    "duration": 370,
    "start_time": "2023-04-21T00:06:59.669Z"
   },
   {
    "duration": 708,
    "start_time": "2023-04-21T00:07:00.041Z"
   },
   {
    "duration": 641,
    "start_time": "2023-04-21T00:07:00.751Z"
   },
   {
    "duration": 712,
    "start_time": "2023-04-21T00:07:01.393Z"
   },
   {
    "duration": 555,
    "start_time": "2023-04-21T00:07:02.107Z"
   },
   {
    "duration": 395,
    "start_time": "2023-04-21T00:07:02.663Z"
   },
   {
    "duration": 38,
    "start_time": "2023-04-21T00:07:03.060Z"
   },
   {
    "duration": 11,
    "start_time": "2023-04-21T00:07:03.099Z"
   },
   {
    "duration": 5,
    "start_time": "2023-04-21T00:07:03.112Z"
   },
   {
    "duration": 5,
    "start_time": "2023-04-21T00:07:03.118Z"
   },
   {
    "duration": 4,
    "start_time": "2023-04-21T00:07:03.125Z"
   },
   {
    "duration": 7,
    "start_time": "2023-04-21T00:07:03.130Z"
   },
   {
    "duration": 602,
    "start_time": "2023-04-21T00:07:03.138Z"
   },
   {
    "duration": 4,
    "start_time": "2023-04-21T00:07:03.742Z"
   },
   {
    "duration": 483,
    "start_time": "2023-04-21T00:07:03.748Z"
   },
   {
    "duration": 5,
    "start_time": "2023-04-21T00:07:04.233Z"
   },
   {
    "duration": 582,
    "start_time": "2023-04-21T00:07:04.239Z"
   },
   {
    "duration": 8,
    "start_time": "2023-04-21T00:07:04.822Z"
   },
   {
    "duration": 17,
    "start_time": "2023-04-21T00:07:04.831Z"
   },
   {
    "duration": 7,
    "start_time": "2023-04-21T00:07:04.849Z"
   },
   {
    "duration": 24,
    "start_time": "2023-04-21T00:07:04.858Z"
   },
   {
    "duration": 22,
    "start_time": "2023-04-21T00:07:04.883Z"
   },
   {
    "duration": 6,
    "start_time": "2023-04-21T00:07:04.907Z"
   },
   {
    "duration": 18,
    "start_time": "2023-04-21T00:07:04.916Z"
   },
   {
    "duration": 1449,
    "start_time": "2023-04-21T00:12:50.803Z"
   },
   {
    "duration": 1527,
    "start_time": "2023-04-21T00:12:52.254Z"
   },
   {
    "duration": 47,
    "start_time": "2023-04-21T00:12:53.782Z"
   },
   {
    "duration": 2,
    "start_time": "2023-04-21T00:12:53.831Z"
   },
   {
    "duration": 17,
    "start_time": "2023-04-21T00:12:53.835Z"
   },
   {
    "duration": 304,
    "start_time": "2023-04-21T00:12:53.853Z"
   },
   {
    "duration": 3,
    "start_time": "2023-04-21T00:12:54.158Z"
   },
   {
    "duration": 20,
    "start_time": "2023-04-21T00:12:54.162Z"
   },
   {
    "duration": 7,
    "start_time": "2023-04-21T00:12:54.188Z"
   },
   {
    "duration": 23,
    "start_time": "2023-04-21T00:12:54.197Z"
   },
   {
    "duration": 16,
    "start_time": "2023-04-21T00:12:54.221Z"
   },
   {
    "duration": 4,
    "start_time": "2023-04-21T00:12:54.238Z"
   },
   {
    "duration": 22,
    "start_time": "2023-04-21T00:12:54.243Z"
   },
   {
    "duration": 23,
    "start_time": "2023-04-21T00:12:54.267Z"
   },
   {
    "duration": 30,
    "start_time": "2023-04-21T00:12:54.291Z"
   },
   {
    "duration": 14,
    "start_time": "2023-04-21T00:12:54.323Z"
   },
   {
    "duration": 20,
    "start_time": "2023-04-21T00:12:54.338Z"
   },
   {
    "duration": 378,
    "start_time": "2023-04-21T00:12:54.359Z"
   },
   {
    "duration": 703,
    "start_time": "2023-04-21T00:12:54.738Z"
   },
   {
    "duration": 707,
    "start_time": "2023-04-21T00:12:55.442Z"
   },
   {
    "duration": 767,
    "start_time": "2023-04-21T00:12:56.151Z"
   },
   {
    "duration": 622,
    "start_time": "2023-04-21T00:12:56.919Z"
   },
   {
    "duration": 399,
    "start_time": "2023-04-21T00:12:57.543Z"
   },
   {
    "duration": 8,
    "start_time": "2023-04-21T00:12:57.944Z"
   },
   {
    "duration": 7,
    "start_time": "2023-04-21T00:12:57.954Z"
   },
   {
    "duration": 10,
    "start_time": "2023-04-21T00:12:57.962Z"
   },
   {
    "duration": 4,
    "start_time": "2023-04-21T00:12:57.973Z"
   },
   {
    "duration": 4151,
    "start_time": "2023-04-21T00:12:57.980Z"
   },
   {
    "duration": 7,
    "start_time": "2023-04-21T00:13:02.133Z"
   },
   {
    "duration": 65,
    "start_time": "2023-04-21T00:13:02.141Z"
   },
   {
    "duration": 586,
    "start_time": "2023-04-21T00:13:02.208Z"
   },
   {
    "duration": 10,
    "start_time": "2023-04-21T00:13:02.796Z"
   },
   {
    "duration": 540,
    "start_time": "2023-04-21T00:13:02.807Z"
   },
   {
    "duration": 5,
    "start_time": "2023-04-21T00:13:03.349Z"
   },
   {
    "duration": 672,
    "start_time": "2023-04-21T00:13:03.356Z"
   },
   {
    "duration": 9,
    "start_time": "2023-04-21T00:13:04.029Z"
   },
   {
    "duration": 12,
    "start_time": "2023-04-21T00:13:04.039Z"
   },
   {
    "duration": 4,
    "start_time": "2023-04-21T00:13:04.052Z"
   },
   {
    "duration": 17,
    "start_time": "2023-04-21T00:13:04.057Z"
   },
   {
    "duration": 33,
    "start_time": "2023-04-21T00:13:04.076Z"
   },
   {
    "duration": 6,
    "start_time": "2023-04-21T00:13:04.111Z"
   },
   {
    "duration": 18,
    "start_time": "2023-04-21T00:13:04.118Z"
   },
   {
    "duration": 1467,
    "start_time": "2023-04-21T00:19:05.362Z"
   },
   {
    "duration": 1515,
    "start_time": "2023-04-21T00:19:06.831Z"
   },
   {
    "duration": 54,
    "start_time": "2023-04-21T00:19:08.347Z"
   },
   {
    "duration": 4,
    "start_time": "2023-04-21T00:19:08.403Z"
   },
   {
    "duration": 7,
    "start_time": "2023-04-21T00:19:08.409Z"
   },
   {
    "duration": 305,
    "start_time": "2023-04-21T00:19:08.418Z"
   },
   {
    "duration": 2,
    "start_time": "2023-04-21T00:19:08.725Z"
   },
   {
    "duration": 29,
    "start_time": "2023-04-21T00:19:08.728Z"
   },
   {
    "duration": 45,
    "start_time": "2023-04-21T00:19:08.758Z"
   },
   {
    "duration": 8,
    "start_time": "2023-04-21T00:19:08.804Z"
   },
   {
    "duration": 13,
    "start_time": "2023-04-21T00:19:08.814Z"
   },
   {
    "duration": 11,
    "start_time": "2023-04-21T00:19:08.829Z"
   },
   {
    "duration": 26,
    "start_time": "2023-04-21T00:19:08.842Z"
   },
   {
    "duration": 40,
    "start_time": "2023-04-21T00:19:08.872Z"
   },
   {
    "duration": 8,
    "start_time": "2023-04-21T00:19:08.913Z"
   },
   {
    "duration": 13,
    "start_time": "2023-04-21T00:19:08.922Z"
   },
   {
    "duration": 13,
    "start_time": "2023-04-21T00:19:08.936Z"
   },
   {
    "duration": 351,
    "start_time": "2023-04-21T00:19:08.950Z"
   },
   {
    "duration": 650,
    "start_time": "2023-04-21T00:19:09.305Z"
   },
   {
    "duration": 596,
    "start_time": "2023-04-21T00:19:09.957Z"
   },
   {
    "duration": 671,
    "start_time": "2023-04-21T00:19:10.555Z"
   },
   {
    "duration": 567,
    "start_time": "2023-04-21T00:19:11.227Z"
   },
   {
    "duration": 363,
    "start_time": "2023-04-21T00:19:11.795Z"
   },
   {
    "duration": 26,
    "start_time": "2023-04-21T00:19:12.159Z"
   },
   {
    "duration": 22,
    "start_time": "2023-04-21T00:19:12.187Z"
   },
   {
    "duration": 4,
    "start_time": "2023-04-21T00:19:12.210Z"
   },
   {
    "duration": 4,
    "start_time": "2023-04-21T00:19:12.216Z"
   },
   {
    "duration": 484,
    "start_time": "2023-04-21T00:19:12.221Z"
   },
   {
    "duration": 4,
    "start_time": "2023-04-21T00:19:12.707Z"
   },
   {
    "duration": 20,
    "start_time": "2023-04-21T00:19:12.713Z"
   },
   {
    "duration": 517,
    "start_time": "2023-04-21T00:19:12.735Z"
   },
   {
    "duration": 5,
    "start_time": "2023-04-21T00:19:13.254Z"
   },
   {
    "duration": 503,
    "start_time": "2023-04-21T00:19:13.260Z"
   },
   {
    "duration": 7,
    "start_time": "2023-04-21T00:19:13.765Z"
   },
   {
    "duration": 588,
    "start_time": "2023-04-21T00:19:13.773Z"
   },
   {
    "duration": 39,
    "start_time": "2023-04-21T00:19:14.363Z"
   },
   {
    "duration": 24,
    "start_time": "2023-04-21T00:19:14.404Z"
   },
   {
    "duration": 20,
    "start_time": "2023-04-21T00:19:14.429Z"
   },
   {
    "duration": 12,
    "start_time": "2023-04-21T00:19:14.450Z"
   },
   {
    "duration": 7,
    "start_time": "2023-04-21T00:19:14.463Z"
   },
   {
    "duration": 32,
    "start_time": "2023-04-21T00:19:14.474Z"
   },
   {
    "duration": 18,
    "start_time": "2023-04-21T00:19:14.508Z"
   },
   {
    "duration": 1863,
    "start_time": "2023-04-21T00:23:11.501Z"
   },
   {
    "duration": 1432,
    "start_time": "2023-04-21T00:23:13.365Z"
   },
   {
    "duration": 45,
    "start_time": "2023-04-21T00:23:14.799Z"
   },
   {
    "duration": 4,
    "start_time": "2023-04-21T00:23:14.846Z"
   },
   {
    "duration": 48,
    "start_time": "2023-04-21T00:23:14.851Z"
   },
   {
    "duration": 311,
    "start_time": "2023-04-21T00:23:14.901Z"
   },
   {
    "duration": 3,
    "start_time": "2023-04-21T00:23:15.214Z"
   },
   {
    "duration": 14,
    "start_time": "2023-04-21T00:23:15.218Z"
   },
   {
    "duration": 7,
    "start_time": "2023-04-21T00:23:15.234Z"
   },
   {
    "duration": 10,
    "start_time": "2023-04-21T00:23:15.245Z"
   },
   {
    "duration": 39,
    "start_time": "2023-04-21T00:23:15.256Z"
   },
   {
    "duration": 19,
    "start_time": "2023-04-21T00:23:15.297Z"
   },
   {
    "duration": 36,
    "start_time": "2023-04-21T00:23:15.318Z"
   },
   {
    "duration": 42,
    "start_time": "2023-04-21T00:23:15.355Z"
   },
   {
    "duration": 5,
    "start_time": "2023-04-21T00:23:15.399Z"
   },
   {
    "duration": 9,
    "start_time": "2023-04-21T00:23:15.405Z"
   },
   {
    "duration": 13,
    "start_time": "2023-04-21T00:23:15.416Z"
   },
   {
    "duration": 396,
    "start_time": "2023-04-21T00:23:15.430Z"
   },
   {
    "duration": 780,
    "start_time": "2023-04-21T00:23:15.827Z"
   },
   {
    "duration": 692,
    "start_time": "2023-04-21T00:23:16.610Z"
   },
   {
    "duration": 736,
    "start_time": "2023-04-21T00:23:17.304Z"
   },
   {
    "duration": 616,
    "start_time": "2023-04-21T00:23:18.042Z"
   },
   {
    "duration": 450,
    "start_time": "2023-04-21T00:23:18.659Z"
   },
   {
    "duration": 8,
    "start_time": "2023-04-21T00:23:19.111Z"
   },
   {
    "duration": 10,
    "start_time": "2023-04-21T00:23:19.120Z"
   },
   {
    "duration": 11,
    "start_time": "2023-04-21T00:23:19.132Z"
   },
   {
    "duration": 7,
    "start_time": "2023-04-21T00:23:19.145Z"
   },
   {
    "duration": 556,
    "start_time": "2023-04-21T00:23:19.156Z"
   },
   {
    "duration": 347,
    "start_time": "2023-04-21T00:23:19.713Z"
   },
   {
    "duration": 4,
    "start_time": "2023-04-21T00:23:20.062Z"
   },
   {
    "duration": 10,
    "start_time": "2023-04-21T00:23:20.067Z"
   },
   {
    "duration": 481,
    "start_time": "2023-04-21T00:23:20.078Z"
   },
   {
    "duration": 4,
    "start_time": "2023-04-21T00:23:20.560Z"
   },
   {
    "duration": 479,
    "start_time": "2023-04-21T00:23:20.572Z"
   },
   {
    "duration": 5,
    "start_time": "2023-04-21T00:23:21.053Z"
   },
   {
    "duration": 640,
    "start_time": "2023-04-21T00:23:21.060Z"
   },
   {
    "duration": 9,
    "start_time": "2023-04-21T00:23:21.702Z"
   },
   {
    "duration": 12,
    "start_time": "2023-04-21T00:23:21.712Z"
   },
   {
    "duration": 4,
    "start_time": "2023-04-21T00:23:21.725Z"
   },
   {
    "duration": 17,
    "start_time": "2023-04-21T00:23:21.730Z"
   },
   {
    "duration": 19,
    "start_time": "2023-04-21T00:23:21.748Z"
   },
   {
    "duration": 35,
    "start_time": "2023-04-21T00:23:21.768Z"
   },
   {
    "duration": 30,
    "start_time": "2023-04-21T00:23:21.804Z"
   },
   {
    "duration": 442071,
    "start_time": "2023-04-21T00:23:21.836Z"
   },
   {
    "duration": 3472,
    "start_time": "2023-04-21T00:30:43.909Z"
   },
   {
    "duration": 14344,
    "start_time": "2023-04-21T00:30:47.389Z"
   },
   {
    "duration": 3,
    "start_time": "2023-04-21T00:31:01.734Z"
   },
   {
    "duration": 408,
    "start_time": "2023-04-21T00:31:01.738Z"
   },
   {
    "duration": 7,
    "start_time": "2023-04-21T00:31:02.148Z"
   },
   {
    "duration": 109,
    "start_time": "2023-04-21T13:41:01.177Z"
   },
   {
    "duration": 43,
    "start_time": "2023-04-21T13:42:51.289Z"
   },
   {
    "duration": 1568,
    "start_time": "2023-04-21T13:44:24.040Z"
   },
   {
    "duration": 1753,
    "start_time": "2023-04-21T13:44:25.611Z"
   },
   {
    "duration": 60,
    "start_time": "2023-04-21T13:44:27.366Z"
   },
   {
    "duration": 4,
    "start_time": "2023-04-21T13:44:27.428Z"
   },
   {
    "duration": 11,
    "start_time": "2023-04-21T13:44:27.433Z"
   },
   {
    "duration": 302,
    "start_time": "2023-04-21T13:44:27.446Z"
   },
   {
    "duration": 2,
    "start_time": "2023-04-21T13:44:27.750Z"
   },
   {
    "duration": 11,
    "start_time": "2023-04-21T13:44:27.753Z"
   },
   {
    "duration": 20,
    "start_time": "2023-04-21T13:44:27.766Z"
   },
   {
    "duration": 6,
    "start_time": "2023-04-21T13:44:27.789Z"
   },
   {
    "duration": 13,
    "start_time": "2023-04-21T13:44:27.797Z"
   },
   {
    "duration": 5,
    "start_time": "2023-04-21T13:44:27.812Z"
   },
   {
    "duration": 17,
    "start_time": "2023-04-21T13:44:27.819Z"
   },
   {
    "duration": 55,
    "start_time": "2023-04-21T13:44:27.838Z"
   },
   {
    "duration": 5,
    "start_time": "2023-04-21T13:44:27.895Z"
   },
   {
    "duration": 10,
    "start_time": "2023-04-21T13:44:27.902Z"
   },
   {
    "duration": 10,
    "start_time": "2023-04-21T13:44:27.914Z"
   },
   {
    "duration": 418,
    "start_time": "2023-04-21T13:44:27.926Z"
   },
   {
    "duration": 810,
    "start_time": "2023-04-21T13:44:28.346Z"
   },
   {
    "duration": 648,
    "start_time": "2023-04-21T13:44:29.157Z"
   },
   {
    "duration": 815,
    "start_time": "2023-04-21T13:44:29.807Z"
   },
   {
    "duration": 665,
    "start_time": "2023-04-21T13:44:30.624Z"
   },
   {
    "duration": 586,
    "start_time": "2023-04-21T13:44:31.291Z"
   },
   {
    "duration": 10,
    "start_time": "2023-04-21T13:44:31.879Z"
   },
   {
    "duration": 43,
    "start_time": "2023-04-21T13:44:31.891Z"
   },
   {
    "duration": 19,
    "start_time": "2023-04-21T13:44:31.935Z"
   },
   {
    "duration": 9,
    "start_time": "2023-04-21T13:44:31.956Z"
   },
   {
    "duration": 379,
    "start_time": "2023-04-21T13:44:31.968Z"
   },
   {
    "duration": 411,
    "start_time": "2023-04-21T13:44:32.349Z"
   },
   {
    "duration": 4,
    "start_time": "2023-04-21T13:44:32.762Z"
   },
   {
    "duration": 17,
    "start_time": "2023-04-21T13:44:32.768Z"
   },
   {
    "duration": 583,
    "start_time": "2023-04-21T13:44:32.786Z"
   },
   {
    "duration": 5,
    "start_time": "2023-04-21T13:44:33.371Z"
   },
   {
    "duration": 581,
    "start_time": "2023-04-21T13:44:33.383Z"
   },
   {
    "duration": 6,
    "start_time": "2023-04-21T13:44:33.966Z"
   },
   {
    "duration": 708,
    "start_time": "2023-04-21T13:44:33.974Z"
   },
   {
    "duration": 141,
    "start_time": "2023-04-21T13:44:34.684Z"
   },
   {
    "duration": 0,
    "start_time": "2023-04-21T13:44:34.828Z"
   },
   {
    "duration": 0,
    "start_time": "2023-04-21T13:44:34.829Z"
   },
   {
    "duration": 0,
    "start_time": "2023-04-21T13:44:34.830Z"
   },
   {
    "duration": 0,
    "start_time": "2023-04-21T13:44:34.831Z"
   },
   {
    "duration": 0,
    "start_time": "2023-04-21T13:44:34.833Z"
   },
   {
    "duration": 0,
    "start_time": "2023-04-21T13:44:34.834Z"
   },
   {
    "duration": 0,
    "start_time": "2023-04-21T13:44:34.836Z"
   },
   {
    "duration": 0,
    "start_time": "2023-04-21T13:44:34.837Z"
   },
   {
    "duration": 0,
    "start_time": "2023-04-21T13:44:34.838Z"
   },
   {
    "duration": 0,
    "start_time": "2023-04-21T13:44:34.839Z"
   },
   {
    "duration": 0,
    "start_time": "2023-04-21T13:44:34.840Z"
   },
   {
    "duration": 0,
    "start_time": "2023-04-21T13:44:34.842Z"
   },
   {
    "duration": 0,
    "start_time": "2023-04-21T13:44:34.843Z"
   },
   {
    "duration": 5,
    "start_time": "2023-04-21T13:51:04.577Z"
   },
   {
    "duration": 7,
    "start_time": "2023-04-21T13:51:11.963Z"
   },
   {
    "duration": 10,
    "start_time": "2023-04-21T13:54:13.663Z"
   },
   {
    "duration": 8,
    "start_time": "2023-04-21T13:54:15.964Z"
   },
   {
    "duration": 9,
    "start_time": "2023-04-21T13:54:34.318Z"
   },
   {
    "duration": 5,
    "start_time": "2023-04-21T13:55:49.447Z"
   },
   {
    "duration": 7,
    "start_time": "2023-04-21T13:55:50.932Z"
   },
   {
    "duration": 9,
    "start_time": "2023-04-21T13:55:52.051Z"
   },
   {
    "duration": 16,
    "start_time": "2023-04-21T13:55:53.081Z"
   },
   {
    "duration": 12,
    "start_time": "2023-04-21T13:55:54.258Z"
   },
   {
    "duration": 4,
    "start_time": "2023-04-21T13:57:03.607Z"
   },
   {
    "duration": 8,
    "start_time": "2023-04-21T13:57:05.298Z"
   },
   {
    "duration": 10,
    "start_time": "2023-04-21T13:57:06.231Z"
   },
   {
    "duration": 8,
    "start_time": "2023-04-21T13:57:07.071Z"
   },
   {
    "duration": 19,
    "start_time": "2023-04-21T13:57:08.143Z"
   },
   {
    "duration": 4,
    "start_time": "2023-04-21T13:58:02.274Z"
   },
   {
    "duration": 10,
    "start_time": "2023-04-21T13:58:03.481Z"
   },
   {
    "duration": 8,
    "start_time": "2023-04-21T13:58:04.307Z"
   },
   {
    "duration": 7,
    "start_time": "2023-04-21T13:58:05.117Z"
   },
   {
    "duration": 61,
    "start_time": "2023-04-21T13:58:06.041Z"
   },
   {
    "duration": 1501,
    "start_time": "2023-04-21T13:59:36.623Z"
   },
   {
    "duration": 2129,
    "start_time": "2023-04-21T13:59:38.126Z"
   },
   {
    "duration": 69,
    "start_time": "2023-04-21T13:59:40.257Z"
   },
   {
    "duration": 3,
    "start_time": "2023-04-21T13:59:40.328Z"
   },
   {
    "duration": 11,
    "start_time": "2023-04-21T13:59:40.333Z"
   },
   {
    "duration": 287,
    "start_time": "2023-04-21T13:59:40.345Z"
   },
   {
    "duration": 3,
    "start_time": "2023-04-21T13:59:40.634Z"
   },
   {
    "duration": 12,
    "start_time": "2023-04-21T13:59:40.638Z"
   },
   {
    "duration": 4,
    "start_time": "2023-04-21T13:59:40.651Z"
   },
   {
    "duration": 27,
    "start_time": "2023-04-21T13:59:40.658Z"
   },
   {
    "duration": 11,
    "start_time": "2023-04-21T13:59:40.686Z"
   },
   {
    "duration": 5,
    "start_time": "2023-04-21T13:59:40.699Z"
   },
   {
    "duration": 17,
    "start_time": "2023-04-21T13:59:40.706Z"
   },
   {
    "duration": 19,
    "start_time": "2023-04-21T13:59:40.725Z"
   },
   {
    "duration": 4,
    "start_time": "2023-04-21T13:59:40.746Z"
   },
   {
    "duration": 5,
    "start_time": "2023-04-21T13:59:40.784Z"
   },
   {
    "duration": 9,
    "start_time": "2023-04-21T13:59:40.790Z"
   },
   {
    "duration": 367,
    "start_time": "2023-04-21T13:59:40.801Z"
   },
   {
    "duration": 791,
    "start_time": "2023-04-21T13:59:41.169Z"
   },
   {
    "duration": 679,
    "start_time": "2023-04-21T13:59:41.963Z"
   },
   {
    "duration": 744,
    "start_time": "2023-04-21T13:59:42.644Z"
   },
   {
    "duration": 684,
    "start_time": "2023-04-21T13:59:43.389Z"
   },
   {
    "duration": 437,
    "start_time": "2023-04-21T13:59:44.075Z"
   },
   {
    "duration": 8,
    "start_time": "2023-04-21T13:59:44.514Z"
   },
   {
    "duration": 20,
    "start_time": "2023-04-21T13:59:44.524Z"
   },
   {
    "duration": 4,
    "start_time": "2023-04-21T13:59:44.546Z"
   },
   {
    "duration": 7,
    "start_time": "2023-04-21T13:59:44.552Z"
   },
   {
    "duration": 485,
    "start_time": "2023-04-21T13:59:44.562Z"
   },
   {
    "duration": 434,
    "start_time": "2023-04-21T13:59:45.049Z"
   },
   {
    "duration": 6,
    "start_time": "2023-04-21T13:59:45.486Z"
   },
   {
    "duration": 11,
    "start_time": "2023-04-21T13:59:45.494Z"
   },
   {
    "duration": 583,
    "start_time": "2023-04-21T13:59:45.506Z"
   },
   {
    "duration": 5,
    "start_time": "2023-04-21T13:59:46.090Z"
   },
   {
    "duration": 516,
    "start_time": "2023-04-21T13:59:46.097Z"
   },
   {
    "duration": 4,
    "start_time": "2023-04-21T13:59:46.615Z"
   },
   {
    "duration": 681,
    "start_time": "2023-04-21T13:59:46.621Z"
   },
   {
    "duration": 4,
    "start_time": "2023-04-21T13:59:47.303Z"
   },
   {
    "duration": 14,
    "start_time": "2023-04-21T13:59:47.309Z"
   },
   {
    "duration": 7,
    "start_time": "2023-04-21T13:59:47.325Z"
   },
   {
    "duration": 6,
    "start_time": "2023-04-21T13:59:47.334Z"
   },
   {
    "duration": 74,
    "start_time": "2023-04-21T13:59:47.342Z"
   },
   {
    "duration": 6,
    "start_time": "2023-04-21T13:59:47.418Z"
   },
   {
    "duration": 20,
    "start_time": "2023-04-21T13:59:47.425Z"
   },
   {
    "duration": 21,
    "start_time": "2023-04-21T13:59:47.446Z"
   },
   {
    "duration": 14,
    "start_time": "2023-04-21T13:59:47.469Z"
   },
   {
    "duration": 24,
    "start_time": "2023-04-21T13:59:47.485Z"
   },
   {
    "duration": 15,
    "start_time": "2023-04-21T13:59:47.510Z"
   },
   {
    "duration": 7,
    "start_time": "2023-04-21T13:59:47.527Z"
   },
   {
    "duration": 16,
    "start_time": "2023-04-21T13:59:47.536Z"
   },
   {
    "duration": 409664,
    "start_time": "2023-04-21T13:59:47.554Z"
   },
   {
    "duration": 2769,
    "start_time": "2023-04-21T14:06:37.219Z"
   },
   {
    "duration": 13797,
    "start_time": "2023-04-21T14:06:39.991Z"
   },
   {
    "duration": 3,
    "start_time": "2023-04-21T14:06:53.790Z"
   },
   {
    "duration": 339,
    "start_time": "2023-04-21T14:06:53.794Z"
   },
   {
    "duration": 9,
    "start_time": "2023-04-21T14:06:54.134Z"
   }
  ],
  "kernelspec": {
   "display_name": "Python 3 (ipykernel)",
   "language": "python",
   "name": "python3"
  },
  "language_info": {
   "codemirror_mode": {
    "name": "ipython",
    "version": 3
   },
   "file_extension": ".py",
   "mimetype": "text/x-python",
   "name": "python",
   "nbconvert_exporter": "python",
   "pygments_lexer": "ipython3",
   "version": "3.9.5"
  },
  "toc": {
   "base_numbering": "1",
   "nav_menu": {},
   "number_sections": true,
   "sideBar": true,
   "skip_h1_title": true,
   "title_cell": "Contents",
   "title_sidebar": "Contents",
   "toc_cell": true,
   "toc_position": {
    "height": "calc(100% - 180px)",
    "left": "10px",
    "top": "150px",
    "width": "165px"
   },
   "toc_section_display": true,
   "toc_window_display": true
  }
 },
 "nbformat": 4,
 "nbformat_minor": 2
}
