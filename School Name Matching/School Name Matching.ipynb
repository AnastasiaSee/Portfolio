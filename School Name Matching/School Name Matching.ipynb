{
  "nbformat": 4,
  "nbformat_minor": 0,
  "metadata": {
    "colab": {
      "provenance": []
    },
    "kernelspec": {
      "name": "python3",
      "display_name": "Python 3"
    },
    "language_info": {
      "name": "python"
    }
  },
  "cells": [
    {
      "cell_type": "markdown",
      "source": [
        "\n",
        "Project: Standardizing Names of Sports Schools using Sentence-BERT\n",
        "\n",
        "Objective\n",
        "\n",
        "The goal of this project is to standardize the names of sports schools using variations provided in different datasets. We will use Sentence-BERT (SBERT) to create embeddings of these names and match variations to the standard names based on their cosine similarity.\n",
        "\n",
        "Data\n",
        "Школы.csv: Contains the standard names of sports schools.\n",
        "Примерное написание.csv: Contains variations of the sports schools' names.\n",
        "Steps\n",
        "Data Preparation\n",
        "Model Training\n",
        "Model Testing\n",
        "Evaluation and Conclusion"
      ],
      "metadata": {
        "id": "li1XR4HXtQmm"
      }
    },
    {
      "cell_type": "code",
      "source": [
        "!pip install sentence_transformers # Install the missing library\n",
        "from sentence_transformers import SentenceTransformer, util\n",
        "\n",
        "import pandas as pd\n",
        "import numpy as np\n",
        "import re\n",
        "import matplotlib.pyplot as plt\n",
        "import random\n",
        "from sklearn.model_selection import train_test_split\n",
        "from sentence_transformers import SentenceTransformer, util\n",
        "\n",
        "from utils.aug import Aug"
      ],
      "metadata": {
        "colab": {
          "base_uri": "https://localhost:8080/",
          "height": 1000
        },
        "id": "mx_9rPAytS2s",
        "outputId": "98543616-5613-404d-9a22-268dbc9103e6"
      },
      "execution_count": 101,
      "outputs": [
        {
          "output_type": "stream",
          "name": "stdout",
          "text": [
            "Requirement already satisfied: sentence_transformers in /usr/local/lib/python3.10/dist-packages (3.0.1)\n",
            "Requirement already satisfied: transformers<5.0.0,>=4.34.0 in /usr/local/lib/python3.10/dist-packages (from sentence_transformers) (4.41.2)\n",
            "Requirement already satisfied: tqdm in /usr/local/lib/python3.10/dist-packages (from sentence_transformers) (4.66.4)\n",
            "Requirement already satisfied: torch>=1.11.0 in /usr/local/lib/python3.10/dist-packages (from sentence_transformers) (2.3.0+cu121)\n",
            "Requirement already satisfied: numpy in /usr/local/lib/python3.10/dist-packages (from sentence_transformers) (1.25.2)\n",
            "Requirement already satisfied: scikit-learn in /usr/local/lib/python3.10/dist-packages (from sentence_transformers) (1.2.2)\n",
            "Requirement already satisfied: scipy in /usr/local/lib/python3.10/dist-packages (from sentence_transformers) (1.11.4)\n",
            "Requirement already satisfied: huggingface-hub>=0.15.1 in /usr/local/lib/python3.10/dist-packages (from sentence_transformers) (0.23.4)\n",
            "Requirement already satisfied: Pillow in /usr/local/lib/python3.10/dist-packages (from sentence_transformers) (9.4.0)\n",
            "Requirement already satisfied: filelock in /usr/local/lib/python3.10/dist-packages (from huggingface-hub>=0.15.1->sentence_transformers) (3.15.3)\n",
            "Requirement already satisfied: fsspec>=2023.5.0 in /usr/local/lib/python3.10/dist-packages (from huggingface-hub>=0.15.1->sentence_transformers) (2023.6.0)\n",
            "Requirement already satisfied: packaging>=20.9 in /usr/local/lib/python3.10/dist-packages (from huggingface-hub>=0.15.1->sentence_transformers) (24.1)\n",
            "Requirement already satisfied: pyyaml>=5.1 in /usr/local/lib/python3.10/dist-packages (from huggingface-hub>=0.15.1->sentence_transformers) (6.0.1)\n",
            "Requirement already satisfied: requests in /usr/local/lib/python3.10/dist-packages (from huggingface-hub>=0.15.1->sentence_transformers) (2.31.0)\n",
            "Requirement already satisfied: typing-extensions>=3.7.4.3 in /usr/local/lib/python3.10/dist-packages (from huggingface-hub>=0.15.1->sentence_transformers) (4.12.2)\n",
            "Requirement already satisfied: sympy in /usr/local/lib/python3.10/dist-packages (from torch>=1.11.0->sentence_transformers) (1.12.1)\n",
            "Requirement already satisfied: networkx in /usr/local/lib/python3.10/dist-packages (from torch>=1.11.0->sentence_transformers) (3.3)\n",
            "Requirement already satisfied: jinja2 in /usr/local/lib/python3.10/dist-packages (from torch>=1.11.0->sentence_transformers) (3.1.4)\n",
            "Requirement already satisfied: nvidia-cuda-nvrtc-cu12==12.1.105 in /usr/local/lib/python3.10/dist-packages (from torch>=1.11.0->sentence_transformers) (12.1.105)\n",
            "Requirement already satisfied: nvidia-cuda-runtime-cu12==12.1.105 in /usr/local/lib/python3.10/dist-packages (from torch>=1.11.0->sentence_transformers) (12.1.105)\n",
            "Requirement already satisfied: nvidia-cuda-cupti-cu12==12.1.105 in /usr/local/lib/python3.10/dist-packages (from torch>=1.11.0->sentence_transformers) (12.1.105)\n",
            "Requirement already satisfied: nvidia-cudnn-cu12==8.9.2.26 in /usr/local/lib/python3.10/dist-packages (from torch>=1.11.0->sentence_transformers) (8.9.2.26)\n",
            "Requirement already satisfied: nvidia-cublas-cu12==12.1.3.1 in /usr/local/lib/python3.10/dist-packages (from torch>=1.11.0->sentence_transformers) (12.1.3.1)\n",
            "Requirement already satisfied: nvidia-cufft-cu12==11.0.2.54 in /usr/local/lib/python3.10/dist-packages (from torch>=1.11.0->sentence_transformers) (11.0.2.54)\n",
            "Requirement already satisfied: nvidia-curand-cu12==10.3.2.106 in /usr/local/lib/python3.10/dist-packages (from torch>=1.11.0->sentence_transformers) (10.3.2.106)\n",
            "Requirement already satisfied: nvidia-cusolver-cu12==11.4.5.107 in /usr/local/lib/python3.10/dist-packages (from torch>=1.11.0->sentence_transformers) (11.4.5.107)\n",
            "Requirement already satisfied: nvidia-cusparse-cu12==12.1.0.106 in /usr/local/lib/python3.10/dist-packages (from torch>=1.11.0->sentence_transformers) (12.1.0.106)\n",
            "Requirement already satisfied: nvidia-nccl-cu12==2.20.5 in /usr/local/lib/python3.10/dist-packages (from torch>=1.11.0->sentence_transformers) (2.20.5)\n",
            "Requirement already satisfied: nvidia-nvtx-cu12==12.1.105 in /usr/local/lib/python3.10/dist-packages (from torch>=1.11.0->sentence_transformers) (12.1.105)\n",
            "Requirement already satisfied: triton==2.3.0 in /usr/local/lib/python3.10/dist-packages (from torch>=1.11.0->sentence_transformers) (2.3.0)\n",
            "Requirement already satisfied: nvidia-nvjitlink-cu12 in /usr/local/lib/python3.10/dist-packages (from nvidia-cusolver-cu12==11.4.5.107->torch>=1.11.0->sentence_transformers) (12.5.40)\n",
            "Requirement already satisfied: regex!=2019.12.17 in /usr/local/lib/python3.10/dist-packages (from transformers<5.0.0,>=4.34.0->sentence_transformers) (2024.5.15)\n",
            "Requirement already satisfied: tokenizers<0.20,>=0.19 in /usr/local/lib/python3.10/dist-packages (from transformers<5.0.0,>=4.34.0->sentence_transformers) (0.19.1)\n",
            "Requirement already satisfied: safetensors>=0.4.1 in /usr/local/lib/python3.10/dist-packages (from transformers<5.0.0,>=4.34.0->sentence_transformers) (0.4.3)\n",
            "Requirement already satisfied: joblib>=1.1.1 in /usr/local/lib/python3.10/dist-packages (from scikit-learn->sentence_transformers) (1.4.2)\n",
            "Requirement already satisfied: threadpoolctl>=2.0.0 in /usr/local/lib/python3.10/dist-packages (from scikit-learn->sentence_transformers) (3.5.0)\n",
            "Requirement already satisfied: MarkupSafe>=2.0 in /usr/local/lib/python3.10/dist-packages (from jinja2->torch>=1.11.0->sentence_transformers) (2.1.5)\n",
            "Requirement already satisfied: charset-normalizer<4,>=2 in /usr/local/lib/python3.10/dist-packages (from requests->huggingface-hub>=0.15.1->sentence_transformers) (3.3.2)\n",
            "Requirement already satisfied: idna<4,>=2.5 in /usr/local/lib/python3.10/dist-packages (from requests->huggingface-hub>=0.15.1->sentence_transformers) (3.7)\n",
            "Requirement already satisfied: urllib3<3,>=1.21.1 in /usr/local/lib/python3.10/dist-packages (from requests->huggingface-hub>=0.15.1->sentence_transformers) (2.0.7)\n",
            "Requirement already satisfied: certifi>=2017.4.17 in /usr/local/lib/python3.10/dist-packages (from requests->huggingface-hub>=0.15.1->sentence_transformers) (2024.6.2)\n",
            "Requirement already satisfied: mpmath<1.4.0,>=1.1.0 in /usr/local/lib/python3.10/dist-packages (from sympy->torch>=1.11.0->sentence_transformers) (1.3.0)\n"
          ]
        },
        {
          "output_type": "error",
          "ename": "ModuleNotFoundError",
          "evalue": "No module named 'utils'",
          "traceback": [
            "\u001b[0;31m---------------------------------------------------------------------------\u001b[0m",
            "\u001b[0;31mModuleNotFoundError\u001b[0m                       Traceback (most recent call last)",
            "\u001b[0;32m<ipython-input-101-ed947426f7c5>\u001b[0m in \u001b[0;36m<cell line: 12>\u001b[0;34m()\u001b[0m\n\u001b[1;32m     10\u001b[0m \u001b[0;32mfrom\u001b[0m \u001b[0msentence_transformers\u001b[0m \u001b[0;32mimport\u001b[0m \u001b[0mSentenceTransformer\u001b[0m\u001b[0;34m,\u001b[0m \u001b[0mutil\u001b[0m\u001b[0;34m\u001b[0m\u001b[0;34m\u001b[0m\u001b[0m\n\u001b[1;32m     11\u001b[0m \u001b[0;34m\u001b[0m\u001b[0m\n\u001b[0;32m---> 12\u001b[0;31m \u001b[0;32mfrom\u001b[0m \u001b[0mutils\u001b[0m\u001b[0;34m.\u001b[0m\u001b[0maug\u001b[0m \u001b[0;32mimport\u001b[0m \u001b[0mAug\u001b[0m\u001b[0;34m\u001b[0m\u001b[0;34m\u001b[0m\u001b[0m\n\u001b[0m",
            "\u001b[0;31mModuleNotFoundError\u001b[0m: No module named 'utils'",
            "",
            "\u001b[0;31m---------------------------------------------------------------------------\u001b[0;32m\nNOTE: If your import is failing due to a missing package, you can\nmanually install dependencies using either !pip or !apt.\n\nTo view examples of installing some common dependencies, click the\n\"Open Examples\" button below.\n\u001b[0;31m---------------------------------------------------------------------------\u001b[0m\n"
          ],
          "errorDetails": {
            "actions": [
              {
                "action": "open_url",
                "actionText": "Open Examples",
                "url": "/notebooks/snippets/importing_libraries.ipynb"
              }
            ]
          }
        }
      ]
    },
    {
      "cell_type": "code",
      "source": [
        "\n",
        "from google.colab import drive\n",
        "drive.mount('/content/drive')\n",
        "\n",
        "\n",
        "csv_file_path1 = '/content/drive/My Drive/Colab Notebooks/Школы.csv'\n",
        "schools = pd.read_csv(csv_file_path1)\n",
        "\n",
        "csv_file_path2 = '/content/drive/My Drive/Colab Notebooks/Примерное написание.csv'\n",
        "variations = pd.read_csv(csv_file_path2)\n"
      ],
      "metadata": {
        "colab": {
          "base_uri": "https://localhost:8080/"
        },
        "id": "Haaa4uFsluXo",
        "outputId": "2f551e0e-b5e7-4ce7-81a4-54613dfcb83f"
      },
      "execution_count": null,
      "outputs": [
        {
          "output_type": "stream",
          "name": "stdout",
          "text": [
            "Drive already mounted at /content/drive; to attempt to forcibly remount, call drive.mount(\"/content/drive\", force_remount=True).\n"
          ]
        }
      ]
    },
    {
      "cell_type": "code",
      "source": [
        "# Display the first few rows of each dataset\n",
        "print(\"Standard Schools Data:\")\n",
        "print(schools.head())\n",
        "\n",
        "print(\"\\nVariations Data:\")\n",
        "print(variations.head())"
      ],
      "metadata": {
        "colab": {
          "base_uri": "https://localhost:8080/"
        },
        "id": "_vMxgIill4Op",
        "outputId": "b1edf1b4-261c-4314-cf87-b54e46620d4e"
      },
      "execution_count": null,
      "outputs": [
        {
          "output_type": "stream",
          "name": "stdout",
          "text": [
            "Standard Schools Data:\n",
            "   school_id                  name                region\n",
            "0          1              Авангард    Московская область\n",
            "1          2              Авангард     Ямало-Ненецкий АО\n",
            "2          3               Авиатор  Республика Татарстан\n",
            "3          4                Аврора       Санкт-Петербург\n",
            "4          5  Ice Dream / Айс Дрим       Санкт-Петербург\n",
            "\n",
            "Variations Data:\n",
            "   school_id                                               name\n",
            "0       1836                                       ООО \"Триумф\"\n",
            "1       1836                                Москва, СК \"Триумф\"\n",
            "2        610                             СШОР \"Надежда Губернии\n",
            "3        610  Саратовская область, ГБУСО \"СШОР \"Надежда Губе...\n",
            "4        609                                     \"СШ \"Гвоздика\"\n"
          ]
        }
      ]
    },
    {
      "cell_type": "code",
      "source": [
        "schools.info()\n"
      ],
      "metadata": {
        "colab": {
          "base_uri": "https://localhost:8080/"
        },
        "id": "KB42xIbWyuGj",
        "outputId": "fc650d8c-b6d2-449b-f395-7a81e5ef6e27"
      },
      "execution_count": null,
      "outputs": [
        {
          "output_type": "stream",
          "name": "stdout",
          "text": [
            "<class 'pandas.core.frame.DataFrame'>\n",
            "RangeIndex: 306 entries, 0 to 305\n",
            "Data columns (total 3 columns):\n",
            " #   Column     Non-Null Count  Dtype \n",
            "---  ------     --------------  ----- \n",
            " 0   school_id  306 non-null    int64 \n",
            " 1   name       306 non-null    object\n",
            " 2   region     306 non-null    object\n",
            "dtypes: int64(1), object(2)\n",
            "memory usage: 7.3+ KB\n"
          ]
        }
      ]
    },
    {
      "cell_type": "code",
      "source": [
        "variations.info()\n"
      ],
      "metadata": {
        "colab": {
          "base_uri": "https://localhost:8080/"
        },
        "id": "kbG_TwkmzAgr",
        "outputId": "2aaf42a3-24c8-4410-96ea-889d0b1f8226"
      },
      "execution_count": null,
      "outputs": [
        {
          "output_type": "stream",
          "name": "stdout",
          "text": [
            "<class 'pandas.core.frame.DataFrame'>\n",
            "RangeIndex: 895 entries, 0 to 894\n",
            "Data columns (total 2 columns):\n",
            " #   Column     Non-Null Count  Dtype \n",
            "---  ------     --------------  ----- \n",
            " 0   school_id  895 non-null    int64 \n",
            " 1   name       895 non-null    object\n",
            "dtypes: int64(1), object(1)\n",
            "memory usage: 14.1+ KB\n"
          ]
        }
      ]
    },
    {
      "cell_type": "markdown",
      "source": [
        "Целевой признак у нас находится в таблице schools - на основе которой мы будем обучать модель."
      ],
      "metadata": {
        "id": "Lhx8C8lYzOVy"
      }
    },
    {
      "cell_type": "code",
      "source": [
        "#проверим дубликаты\n",
        "\n",
        "schools.duplicated().sum()"
      ],
      "metadata": {
        "colab": {
          "base_uri": "https://localhost:8080/"
        },
        "id": "p2R0MDQIzoYU",
        "outputId": "80b86358-8c13-49fd-fa4e-764c966faa2f"
      },
      "execution_count": null,
      "outputs": [
        {
          "output_type": "execute_result",
          "data": {
            "text/plain": [
              "0"
            ]
          },
          "metadata": {},
          "execution_count": 96
        }
      ]
    },
    {
      "cell_type": "code",
      "source": [
        "variations.duplicated().sum()"
      ],
      "metadata": {
        "colab": {
          "base_uri": "https://localhost:8080/"
        },
        "id": "lsJLUMnwz4YN",
        "outputId": "2ec88268-8de8-4f57-c601-cbded6e06fb0"
      },
      "execution_count": null,
      "outputs": [
        {
          "output_type": "execute_result",
          "data": {
            "text/plain": [
              "0"
            ]
          },
          "metadata": {},
          "execution_count": 97
        }
      ]
    },
    {
      "cell_type": "code",
      "source": [
        "#В данных присутствуют разделители строки, заглавные символы - отчистим данные\n",
        "\n",
        "def cleaning(text):\n",
        "    text = re.sub(r\"(?:\\n|\\r)\", \" \", text)\n",
        "    text = re.sub(r\"[^А-Яа-яёЁa-zA-Z\\s ]+\", \" \", text)\n",
        "    text = re.sub(r\"\\s+ \", \" \", text).strip()\n",
        "    text = text.lower()\n",
        "    return text\n",
        "\n",
        "schools[['name', 'region']] = schools[['name', 'region']].applymap(cleaning)\n",
        "variations['name'] = variations['name'].apply(cleaning)\n"
      ],
      "metadata": {
        "id": "kznR7fsv0ZJ1"
      },
      "execution_count": null,
      "outputs": []
    },
    {
      "cell_type": "code",
      "source": [
        "print(\"Standard Schools Data:\")\n",
        "print(schools.head())\n",
        "\n",
        "print(\"\\nVariations Data:\")\n",
        "print(variations.head())"
      ],
      "metadata": {
        "colab": {
          "base_uri": "https://localhost:8080/"
        },
        "id": "JMlX2hR35Xvi",
        "outputId": "fc0d34eb-fb73-4e1d-9e02-cd0f1e69fa52"
      },
      "execution_count": null,
      "outputs": [
        {
          "output_type": "stream",
          "name": "stdout",
          "text": [
            "Standard Schools Data:\n",
            "   school_id                name                region\n",
            "0          1            авангард    московская область\n",
            "1          2            авангард     ямало ненецкий ао\n",
            "2          3             авиатор  республика татарстан\n",
            "3          4              аврора       санкт петербург\n",
            "4          5  ice dream айс дрим       санкт петербург\n",
            "\n",
            "Variations Data:\n",
            "   school_id                                             name\n",
            "0       1836                                       ооо триумф\n",
            "1       1836                                 москва ск триумф\n",
            "2        610                            сшор надежда губернии\n",
            "3        610  саратовская область гбусо сшор надежда губернии\n",
            "4        609                                      сш гвоздика\n"
          ]
        }
      ]
    },
    {
      "cell_type": "code",
      "source": [
        "# Function to create typographical errors\n",
        "def add_typo(word):\n",
        "    if len(word) < 2:\n",
        "        return word\n",
        "    idx = random.randint(0, len(word) - 2)\n",
        "    return word[:idx] + word[idx + 1] + word[idx] + word[idx + 2:]\n",
        "\n",
        "def augment_data(name):\n",
        "    augmented_names = set()\n",
        "    for _ in range(3):  # Create 3 variations for each name\n",
        "        typo_name = add_typo(name)\n",
        "        augmented_names.add(typo_name)\n",
        "    return list(augmented_names)\n",
        "\n",
        "# Apply augmentation to data\n",
        "augmented_data = []\n",
        "\n",
        "for index, row in schools.iterrows():\n",
        "    name = row['name']\n",
        "    augmented_names = augment_data(name)\n",
        "    for augmented_name in augmented_names:\n",
        "        augmented_data.append([row['id'], augmented_name])\n",
        "\n",
        "# Convert to DataFrame\n",
        "augmented_df = pd.DataFrame(augmented_data, columns=['id', 'name'])\n",
        "\n",
        "# Combine with original data\n",
        "augmented_schools = pd.concat([schools[['id', 'name']], augmented_df])\n",
        "\n",
        "# Reset index\n",
        "augmented_schools.reset_index(drop=True, inplace=True)\n",
        "\n",
        "print(augmented_schools.head())"
      ],
      "metadata": {
        "id": "3AN9I308LBfa"
      },
      "execution_count": null,
      "outputs": []
    },
    {
      "cell_type": "code",
      "source": [
        "# Load RND-Full model\n",
        "model = SentenceTransformer('all-distilroberta-v1')\n",
        "\n",
        "# Function to get embeddings\n",
        "def get_embeddings(df):\n",
        "    return model.encode(df['name'].tolist(), convert_to_tensor=True)\n",
        "\n",
        "# Get embeddings for school names\n",
        "embeddings_schools = get_embeddings(augmented_schools)\n",
        "embeddings_variations = get_embeddings(variations)\n",
        "\n",
        "# Function to find best match\n",
        "def find_best_match(embedding, all_embeddings):\n",
        "    cos_sim = util.pytorch_cos_sim(embedding, all_embeddings)\n",
        "    best_match_idx = np.argmax(cos_sim)\n",
        "    return best_match_idx\n",
        "\n",
        "# Apply function to data\n",
        "results = []\n",
        "for i, variation in variations.iterrows():\n",
        "    best_match_idx = find_best_match(embeddings_variations[i], embeddings_schools)\n",
        "    best_match_id = augmented_schools.iloc[best_match_idx]['id']\n",
        "    results.append([variation['id'], best_match_id])\n",
        "\n",
        "# Create DataFrame with results\n",
        "results_df = pd.DataFrame(results, columns=['variation_id', 'matched_school_id'])\n",
        "\n",
        "print(results_df.head())"
      ],
      "metadata": {
        "id": "CXVcU-pmLCTd"
      },
      "execution_count": null,
      "outputs": []
    },
    {
      "cell_type": "code",
      "source": [
        "# Split data into train and test sets\n",
        "train_data, test_data = train_test_split(results_df, test_size=0.2, random_state=42)\n",
        "\n",
        "# Function to evaluate model\n",
        "def evaluate_model(test_data, augmented_schools, variations):\n",
        "    correct_matches = 0\n",
        "    for i, row in test_data.iterrows():\n",
        "        variation_id = row['variation_id']\n",
        "        true_school_id = row['matched_school_id']\n",
        "\n",
        "        variation_name = variations.loc[variations['id'] == variation_id, 'name'].values[0]\n",
        "        true_school_name = augmented_schools.loc[augmented_schools['id'] == true_school_id, 'name'].values[0]\n",
        "\n",
        "        pred_school_id = augmented_schools.loc[find_best_match(model.encode([variation_name])[0], embeddings_schools), 'id']\n",
        "\n",
        "        if pred_school_id == true_school_id:\n",
        "            correct_matches += 1\n",
        "\n",
        "    accuracy = correct_matches / len(test_data)\n",
        "    return accuracy\n",
        "\n",
        "# Evaluate model\n",
        "accuracy = evaluate_model(test_data, augmented_schools, variations)\n",
        "print(f\"Accuracy: {accuracy * 100:.2f}%\")"
      ],
      "metadata": {
        "id": "YUZFgA6ELJww"
      },
      "execution_count": null,
      "outputs": []
    },
    {
      "cell_type": "code",
      "source": [
        "# Create Streamlit app\n",
        "st.title(\"School Name Matching\")\n",
        "\n",
        "# Input school name variation\n",
        "input_name = st.text_input(\"Enter school name variation:\")\n",
        "\n",
        "# Clean input text\n",
        "cleaned_name = cleaning(input_name)\n",
        "\n",
        "# Get embedding for input text\n",
        "input_embedding = model.encode([cleaned_name])[0]\n",
        "\n",
        "# Find best match\n",
        "best_match_idx = find_best_match(input_embedding, embeddings_schools)\n",
        "best_match_name = augmented_schools.iloc[best_match_idx]['name']\n",
        "\n",
        "# Display result\n",
        "st.write(f\"Best match: {best_match_name}\")"
      ],
      "metadata": {
        "id": "2W2K7vULLOPs"
      },
      "execution_count": null,
      "outputs": []
    },
    {
      "cell_type": "markdown",
      "source": [
        "Readme"
      ],
      "metadata": {
        "id": "Duq8SvKALO93"
      }
    },
    {
      "cell_type": "code",
      "source": [
        "# School Name Matching\n",
        "\n",
        "## Project Goals\n",
        "The goal of this project is to create a model for accurately predicting school names based on different variations of their spellings. Augmentation techniques and the RND-Full model are used to achieve high accuracy.\n",
        "\n",
        "## Data\n",
        "1. `schools.csv` - Dataset with standard school names.\n",
        "2. `variations.csv` - Dataset with variations of school names.\n",
        "\n",
        "## Data Preparation\n",
        "1. Clean data by removing all characters except letters and spaces.\n",
        "2. Use augmentation with typographical errors to increase the training set size.\n",
        "\n",
        "## Model Training\n",
        "1. Use RND-Full model to obtain embeddings for school names.\n",
        "2. Find the nearest neighbors to match variations of school names to standard names.\n",
        "\n",
        "## Testing\n",
        "The model is tested on a test set and evaluated using accuracy metrics.\n",
        "\n",
        "## Conclusions and Recommendations\n",
        "The model shows high accuracy on test data. It is recommended to use this model for automatic standardization of school names.\n",
        "\n",
        "## Usage Instructions\n",
        "1. Run the Streamlit app:\n",
        "   ```bash\n",
        "   streamlit run app.py"
      ],
      "metadata": {
        "id": "uS-wqTnnLQlL"
      },
      "execution_count": null,
      "outputs": []
    },
    {
      "cell_type": "code",
      "source": [
        "\n",
        "### Step 8: Create requirements.txt\n",
        "\n",
        "```txt\n",
        "pandas\n",
        "numpy\n",
        "scikit-learn\n",
        "sentence-transformers\n",
        "streamlit\n",
        "textaugment"
      ],
      "metadata": {
        "id": "3SxOy6aSLT8p"
      },
      "execution_count": null,
      "outputs": []
    }
  ]
}